{
 "cells": [
  {
   "cell_type": "markdown",
   "id": "9eb34e91",
   "metadata": {},
   "source": [
    "# Representing an EO data cube"
   ]
  },
  {
   "cell_type": "markdown",
   "id": "b03daa74",
   "metadata": {},
   "source": [
    "An EO data cube stores and organizes EO data, and possibly also additional data from other sources (e.g. a digital surface model). It falls entirely within the image domain of the framework and is constructed and managed by a software expert.\n",
    "\n",
    "This notebook describes the data structures to represent an EO data cube in semantique, and how to interact with it.\n",
    "\n",
    "## Content\n",
    "\n",
    "- [Structure](#Structure)\n",
    "- [The Opendatacube configuration](#The-Opendatacube-configuration)\n",
    "- [The Geotiffarchive configuration](#The-Geotiffarchive-configuration)\n",
    "\n",
    "## Prepare\n",
    "\n",
    "Import packages:"
   ]
  },
  {
   "cell_type": "code",
   "execution_count": 1,
   "id": "c664e504",
   "metadata": {},
   "outputs": [],
   "source": [
    "import semantique as sq"
   ]
  },
  {
   "cell_type": "markdown",
   "id": "f924d6f5",
   "metadata": {},
   "source": [
    "## Structure\n",
    "\n",
    "*To be added*"
   ]
  },
  {
   "cell_type": "markdown",
   "id": "d62fb84e",
   "metadata": {},
   "source": [
    "## The Opendatacube configuration\n",
    "\n",
    "*To be added*"
   ]
  },
  {
   "cell_type": "markdown",
   "id": "2e814509",
   "metadata": {},
   "source": [
    "## The Geotiffarchive configuration\n",
    "\n",
    "*To be added*"
   ]
  }
 ],
 "metadata": {
  "kernelspec": {
   "display_name": "Python [conda env:semantique]",
   "language": "python",
   "name": "conda-env-semantique-py"
  },
  "language_info": {
   "codemirror_mode": {
    "name": "ipython",
    "version": 3
   },
   "file_extension": ".py",
   "mimetype": "text/x-python",
   "name": "python",
   "nbconvert_exporter": "python",
   "pygments_lexer": "ipython3",
   "version": "3.9.12"
  }
 },
 "nbformat": 4,
 "nbformat_minor": 5
}
