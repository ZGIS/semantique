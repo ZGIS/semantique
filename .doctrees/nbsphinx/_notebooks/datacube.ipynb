{
 "cells": [
  {
   "cell_type": "markdown",
   "id": "9eb34e91",
   "metadata": {},
   "source": [
    "# Representing an EO data cube"
   ]
  },
  {
   "cell_type": "code",
   "execution_count": null,
   "id": "1d9aac05",
   "metadata": {},
   "outputs": [],
   "source": []
  }
 ],
 "metadata": {
  "kernelspec": {
   "display_name": "Python [conda env:semantique]",
   "language": "python",
   "name": "conda-env-semantique-py"
  },
  "language_info": {
   "codemirror_mode": {
    "name": "ipython",
    "version": 3
   },
   "file_extension": ".py",
   "mimetype": "text/x-python",
   "name": "python",
   "nbconvert_exporter": "python",
   "pygments_lexer": "ipython3",
   "version": "3.9.12"
  }
 },
 "nbformat": 4,
 "nbformat_minor": 5
}
