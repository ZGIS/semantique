{
 "cells": [
  {
   "cell_type": "markdown",
   "id": "38507a1d",
   "metadata": {},
   "source": [
    "# Constructing a mapping\n",
    "\n",
    "A mapping is written by an EO expert and contains rules that map semantic concepts formalized in an ontology to data values stored in an EO data cube. As such, the mapping forms the connection between the semantic domain and the image domain. \n",
    "\n",
    "This notebook describes the data structures to represent a mapping in semantique, and shows how an EO expert can construct a mapping from scratch.\n",
    "\n",
    "## Content\n",
    "\n",
    "- [Structure](#Structure)\n",
    "- [The Semantique configuration](#The-Semantique-configuration)\n",
    "\n",
    "## Prepare\n",
    "\n",
    "Import packages:"
   ]
  },
  {
   "cell_type": "code",
   "execution_count": 1,
   "id": "97a004c3",
   "metadata": {},
   "outputs": [],
   "source": [
    "import semantique as sq"
   ]
  },
  {
   "cell_type": "markdown",
   "id": "95722baf",
   "metadata": {},
   "source": [
    "## Structure\n",
    "\n",
    "*To be added*"
   ]
  },
  {
   "cell_type": "markdown",
   "id": "ffe37290",
   "metadata": {},
   "source": [
    "## The Semantique configuration\n",
    "\n",
    "*To be added*"
   ]
  }
 ],
 "metadata": {
  "kernelspec": {
   "display_name": "Python [conda env:semantique]",
   "language": "python",
   "name": "conda-env-semantique-py"
  },
  "language_info": {
   "codemirror_mode": {
    "name": "ipython",
    "version": 3
   },
   "file_extension": ".py",
   "mimetype": "text/x-python",
   "name": "python",
   "nbconvert_exporter": "python",
   "pygments_lexer": "ipython3",
   "version": "3.9.12"
  }
 },
 "nbformat": 4,
 "nbformat_minor": 5
}
