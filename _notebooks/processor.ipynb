{
 "cells": [
  {
   "cell_type": "markdown",
   "id": "placed-brain",
   "metadata": {},
   "source": [
    "# Internal query processing\n",
    "\n",
    "A semantic query is processed by a query processor. In semantique, this query processor is internally modelled as an object of class [QueryProcessor](https://zgis.github.io/semantique/_generated/semantique.processor.core.QueryProcessor.html), which can be seen as a worker class taking care of all tasks involving query processing. An instance of this class is initialized whenever a query recipe is executed within a specific context. That is, whenever you call the [execute()](https://zgis.github.io/semantique/_generated/semantique.QueryRecipe.execute.html) method of a [QueryRecipe](https://zgis.github.io/semantique/_generated/semantique.QueryRecipe.html) instance, semantique internally creates a query processor object to take care of all processing tasks.\n",
    "\n",
    "The query processor processes a query in three three core phases: query parsing, query optimization and query execution. These align with the common phases in regular relational database querying. Each of these phases has their own, dedicated method. In this notebook we will explain in more detail how each phase is implemented in semantique.\n",
    "\n",
    "## Content\n",
    "\n",
    "- [Query parsing](#Query-parsing)\n",
    "- [Query optimization](#Query-optimization)\n",
    "- [Query execution](#Query-execution)\n",
    "- [Query response](#Query-response)\n",
    "- [Logging progress](#Logging-progress)\n",
    "\n",
    "## Prepare\n",
    "\n",
    "Import packages:"
   ]
  },
  {
   "cell_type": "code",
   "execution_count": 1,
   "id": "735bdd7e",
   "metadata": {},
   "outputs": [],
   "source": [
    "import semantique as sq\n",
    "from semantique.processor.core import QueryProcessor"
   ]
  },
  {
   "cell_type": "code",
   "execution_count": 2,
   "id": "8bf88afd",
   "metadata": {},
   "outputs": [],
   "source": [
    "import geopandas as gpd\n",
    "import matplotlib.pyplot as plt\n",
    "import numpy as np\n",
    "import xarray as xr\n",
    "import copy\n",
    "import json"
   ]
  },
  {
   "cell_type": "markdown",
   "id": "b805fd73",
   "metadata": {},
   "source": [
    "Load a query recipe:"
   ]
  },
  {
   "cell_type": "code",
   "execution_count": 3,
   "id": "9928f4a5",
   "metadata": {},
   "outputs": [],
   "source": [
    "# Load a mapping.\n",
    "with open(\"files/recipe.json\", \"r\") as file:\n",
    "    recipe = sq.QueryRecipe(json.load(file))"
   ]
  },
  {
   "cell_type": "markdown",
   "id": "d504172e",
   "metadata": {},
   "source": [
    "Set the context of query execution:"
   ]
  },
  {
   "cell_type": "code",
   "execution_count": 4,
   "id": "fdd9c0bb",
   "metadata": {},
   "outputs": [],
   "source": [
    "# Load a mapping.\n",
    "with open(\"files/mapping.json\", \"r\") as file:\n",
    "    mapping = sq.mapping.Semantique(json.load(file))\n",
    "\n",
    "# Represent an EO data cube.\n",
    "with open(\"files/layout.json\", \"r\") as file:\n",
    "    dc = sq.datacube.GeotiffArchive(json.load(file), src = \"files/layers.zip\")\n",
    "\n",
    "# Set the spatio-temporal extent.\n",
    "space = sq.SpatialExtent(gpd.read_file(\"files/footprint.geojson\"))\n",
    "time = sq.TemporalExtent(\"2019-01-01\", \"2020-12-31\")\n",
    "\n",
    "# Collect the full context.\n",
    "# Including additional configuration parameters.\n",
    "context = {\n",
    "    \"datacube\": dc, \n",
    "    \"mapping\": mapping,\n",
    "    \"space\": space,\n",
    "    \"time\": time,\n",
    "    \"crs\": 3035, \n",
    "    \"tz\": \"UTC\", \n",
    "    \"spatial_resolution\": [-1500, 1500]\n",
    "}"
   ]
  },
  {
   "cell_type": "markdown",
   "id": "44193815",
   "metadata": {},
   "source": [
    "## Query parsing\n",
    "\n",
    "During query parsing, all required components for processing (i.e., the query recipe, the mapping, the EO data cube, the spatial and temporal extents, and the additional configuration parameters) are read and converted all together into a single object which will be used internally for further processing of the query. Hence, query parsing takes care of initializing a query processor instance. Therefore, the [parse()](https://zgis.github.io/semantique/_generated/semantique.processor.core.QueryProcessor.parse.html) method of the [QueryProcessor](https://zgis.github.io/semantique/_generated/semantique.processor.core.QueryProcessor.html) is implemented as a [classmethod](https://www.programiz.com/python-programming/methods/built-in/classmethod)).\n",
    "\n",
    "One of the main tasks of the query parser is to parse the provided spatial and temporal extents into a single spatio-temporal array, see [below](#Parsing-the-spatial-and-temporal-extent). This array is used as a template array when retrieving data values from the EO data cube. Ideally, parsing should also take care of validating the components and their interrelations. For example, it should check if referenced concepts in the provided query recipe are actually defined in the provided ontology. Such functionality is not implemented yet in the current version of semantique."
   ]
  },
  {
   "cell_type": "code",
   "execution_count": 5,
   "id": "canadian-congo",
   "metadata": {},
   "outputs": [],
   "source": [
    "processor = QueryProcessor.parse(recipe, **context)"
   ]
  },
  {
   "cell_type": "code",
   "execution_count": 6,
   "id": "personalized-tours",
   "metadata": {},
   "outputs": [
    {
     "data": {
      "text/plain": [
       "semantique.processor.core.QueryProcessor"
      ]
     },
     "execution_count": 6,
     "metadata": {},
     "output_type": "execute_result"
    }
   ],
   "source": [
    "type(processor)"
   ]
  },
  {
   "cell_type": "markdown",
   "id": "c645e50c",
   "metadata": {},
   "source": [
    "### Parsing the spatial and temporal extent\n",
    "\n",
    "To parse the spatial and temporal extent into a single spatio-temporal array, the query parser calls the utility function [parse_extent()](https://zgis.github.io/semantique/_generated/semantique.processor.utils.parse_extent.html). The result is a [DataArray](http://xarray.pydata.org/en/stable/user-guide/data-structures.html#dataarray) object with a spatial and a temporal dimension. The workflow is as follows:\n",
    "\n",
    "1) The spatial extent is *reprojected* and *rasterized* given the specified coordinate reference system and spatial resolution in the configuration parameters. The resulting array is always rectangular and therefore covers the full *bounding box* of the area that was orginally given as spatial extent. Cells that don't overlap with the area boundaries itself are filled with nodata values. Others are filled with an integer index. If the given area consisted of a single feature, they are all indexed with a value of 1. If the given area consisted of multiple disconnected features, each feature gets a different index value.\n",
    "\n",
    "2) The two spatial dimensions are *stacked* together into a single \"space\" dimension. This dimension has as many coordinates as the number of cells in the spatial array. Each coordinate value is a tuple of the x and y coordinate of the corresponding cell.\n",
    "\n",
    "3) This stacked spatial array is *expanded* over a time dimension. The time dimension has two coordinates: the first coordinate value corresponds to the timestamp at the start of the given time interval, and the second coordinate value corresponds to the timestamp at the end of the given time interval. The time values are *converted* into the specified time zone in the configuration parameters.\n",
    "\n",
    "4) The spatio-temporal array is *trimmed*, meaning that coordinates for which all pixel values are nodata, are removed from the array. The spatial dimension is treated differently, by trimming it only at the edges, and thus maintaining the regularity of the spatial dimension.\n",
    "\n",
    "You can call the [parse_extent()](https://zgis.github.io/semantique/_generated/semantique.processor.utils.create_extent_cube.html) function directly to create a spatio-temporal extent cube from respectively a spatial and temporal extent. It may occur that due to the reprojection of the provided spatial extent, some pixels at the edges of the extent get a nodata value."
   ]
  },
  {
   "cell_type": "code",
   "execution_count": 7,
   "id": "6049c24a",
   "metadata": {},
   "outputs": [],
   "source": [
    "from semantique.processor.utils import parse_extent"
   ]
  },
  {
   "cell_type": "code",
   "execution_count": 8,
   "id": "de22732b",
   "metadata": {},
   "outputs": [],
   "source": [
    "extent = parse_extent(\n",
    "    spatial_extent = context[\"space\"], \n",
    "    temporal_extent = context[\"time\"],\n",
    "    spatial_resolution = context[\"spatial_resolution\"],\n",
    "    crs = context[\"crs\"],\n",
    "    tz = context[\"tz\"]\n",
    ")"
   ]
  },
  {
   "cell_type": "code",
   "execution_count": 9,
   "id": "070e8c5b",
   "metadata": {},
   "outputs": [
    {
     "data": {
      "text/html": [
       "<div><svg style=\"position: absolute; width: 0; height: 0; overflow: hidden\">\n",
       "<defs>\n",
       "<symbol id=\"icon-database\" viewBox=\"0 0 32 32\">\n",
       "<path d=\"M16 0c-8.837 0-16 2.239-16 5v4c0 2.761 7.163 5 16 5s16-2.239 16-5v-4c0-2.761-7.163-5-16-5z\"></path>\n",
       "<path d=\"M16 17c-8.837 0-16-2.239-16-5v6c0 2.761 7.163 5 16 5s16-2.239 16-5v-6c0 2.761-7.163 5-16 5z\"></path>\n",
       "<path d=\"M16 26c-8.837 0-16-2.239-16-5v6c0 2.761 7.163 5 16 5s16-2.239 16-5v-6c0 2.761-7.163 5-16 5z\"></path>\n",
       "</symbol>\n",
       "<symbol id=\"icon-file-text2\" viewBox=\"0 0 32 32\">\n",
       "<path d=\"M28.681 7.159c-0.694-0.947-1.662-2.053-2.724-3.116s-2.169-2.030-3.116-2.724c-1.612-1.182-2.393-1.319-2.841-1.319h-15.5c-1.378 0-2.5 1.121-2.5 2.5v27c0 1.378 1.122 2.5 2.5 2.5h23c1.378 0 2.5-1.122 2.5-2.5v-19.5c0-0.448-0.137-1.23-1.319-2.841zM24.543 5.457c0.959 0.959 1.712 1.825 2.268 2.543h-4.811v-4.811c0.718 0.556 1.584 1.309 2.543 2.268zM28 29.5c0 0.271-0.229 0.5-0.5 0.5h-23c-0.271 0-0.5-0.229-0.5-0.5v-27c0-0.271 0.229-0.5 0.5-0.5 0 0 15.499-0 15.5 0v7c0 0.552 0.448 1 1 1h7v19.5z\"></path>\n",
       "<path d=\"M23 26h-14c-0.552 0-1-0.448-1-1s0.448-1 1-1h14c0.552 0 1 0.448 1 1s-0.448 1-1 1z\"></path>\n",
       "<path d=\"M23 22h-14c-0.552 0-1-0.448-1-1s0.448-1 1-1h14c0.552 0 1 0.448 1 1s-0.448 1-1 1z\"></path>\n",
       "<path d=\"M23 18h-14c-0.552 0-1-0.448-1-1s0.448-1 1-1h14c0.552 0 1 0.448 1 1s-0.448 1-1 1z\"></path>\n",
       "</symbol>\n",
       "</defs>\n",
       "</svg>\n",
       "<style>/* CSS stylesheet for displaying xarray objects in jupyterlab.\n",
       " *\n",
       " */\n",
       "\n",
       ":root {\n",
       "  --xr-font-color0: var(--jp-content-font-color0, rgba(0, 0, 0, 1));\n",
       "  --xr-font-color2: var(--jp-content-font-color2, rgba(0, 0, 0, 0.54));\n",
       "  --xr-font-color3: var(--jp-content-font-color3, rgba(0, 0, 0, 0.38));\n",
       "  --xr-border-color: var(--jp-border-color2, #e0e0e0);\n",
       "  --xr-disabled-color: var(--jp-layout-color3, #bdbdbd);\n",
       "  --xr-background-color: var(--jp-layout-color0, white);\n",
       "  --xr-background-color-row-even: var(--jp-layout-color1, white);\n",
       "  --xr-background-color-row-odd: var(--jp-layout-color2, #eeeeee);\n",
       "}\n",
       "\n",
       "html[theme=dark],\n",
       "body.vscode-dark {\n",
       "  --xr-font-color0: rgba(255, 255, 255, 1);\n",
       "  --xr-font-color2: rgba(255, 255, 255, 0.54);\n",
       "  --xr-font-color3: rgba(255, 255, 255, 0.38);\n",
       "  --xr-border-color: #1F1F1F;\n",
       "  --xr-disabled-color: #515151;\n",
       "  --xr-background-color: #111111;\n",
       "  --xr-background-color-row-even: #111111;\n",
       "  --xr-background-color-row-odd: #313131;\n",
       "}\n",
       "\n",
       ".xr-wrap {\n",
       "  display: block !important;\n",
       "  min-width: 300px;\n",
       "  max-width: 700px;\n",
       "}\n",
       "\n",
       ".xr-text-repr-fallback {\n",
       "  /* fallback to plain text repr when CSS is not injected (untrusted notebook) */\n",
       "  display: none;\n",
       "}\n",
       "\n",
       ".xr-header {\n",
       "  padding-top: 6px;\n",
       "  padding-bottom: 6px;\n",
       "  margin-bottom: 4px;\n",
       "  border-bottom: solid 1px var(--xr-border-color);\n",
       "}\n",
       "\n",
       ".xr-header > div,\n",
       ".xr-header > ul {\n",
       "  display: inline;\n",
       "  margin-top: 0;\n",
       "  margin-bottom: 0;\n",
       "}\n",
       "\n",
       ".xr-obj-type,\n",
       ".xr-array-name {\n",
       "  margin-left: 2px;\n",
       "  margin-right: 10px;\n",
       "}\n",
       "\n",
       ".xr-obj-type {\n",
       "  color: var(--xr-font-color2);\n",
       "}\n",
       "\n",
       ".xr-sections {\n",
       "  padding-left: 0 !important;\n",
       "  display: grid;\n",
       "  grid-template-columns: 150px auto auto 1fr 20px 20px;\n",
       "}\n",
       "\n",
       ".xr-section-item {\n",
       "  display: contents;\n",
       "}\n",
       "\n",
       ".xr-section-item input {\n",
       "  display: none;\n",
       "}\n",
       "\n",
       ".xr-section-item input + label {\n",
       "  color: var(--xr-disabled-color);\n",
       "}\n",
       "\n",
       ".xr-section-item input:enabled + label {\n",
       "  cursor: pointer;\n",
       "  color: var(--xr-font-color2);\n",
       "}\n",
       "\n",
       ".xr-section-item input:enabled + label:hover {\n",
       "  color: var(--xr-font-color0);\n",
       "}\n",
       "\n",
       ".xr-section-summary {\n",
       "  grid-column: 1;\n",
       "  color: var(--xr-font-color2);\n",
       "  font-weight: 500;\n",
       "}\n",
       "\n",
       ".xr-section-summary > span {\n",
       "  display: inline-block;\n",
       "  padding-left: 0.5em;\n",
       "}\n",
       "\n",
       ".xr-section-summary-in:disabled + label {\n",
       "  color: var(--xr-font-color2);\n",
       "}\n",
       "\n",
       ".xr-section-summary-in + label:before {\n",
       "  display: inline-block;\n",
       "  content: '►';\n",
       "  font-size: 11px;\n",
       "  width: 15px;\n",
       "  text-align: center;\n",
       "}\n",
       "\n",
       ".xr-section-summary-in:disabled + label:before {\n",
       "  color: var(--xr-disabled-color);\n",
       "}\n",
       "\n",
       ".xr-section-summary-in:checked + label:before {\n",
       "  content: '▼';\n",
       "}\n",
       "\n",
       ".xr-section-summary-in:checked + label > span {\n",
       "  display: none;\n",
       "}\n",
       "\n",
       ".xr-section-summary,\n",
       ".xr-section-inline-details {\n",
       "  padding-top: 4px;\n",
       "  padding-bottom: 4px;\n",
       "}\n",
       "\n",
       ".xr-section-inline-details {\n",
       "  grid-column: 2 / -1;\n",
       "}\n",
       "\n",
       ".xr-section-details {\n",
       "  display: none;\n",
       "  grid-column: 1 / -1;\n",
       "  margin-bottom: 5px;\n",
       "}\n",
       "\n",
       ".xr-section-summary-in:checked ~ .xr-section-details {\n",
       "  display: contents;\n",
       "}\n",
       "\n",
       ".xr-array-wrap {\n",
       "  grid-column: 1 / -1;\n",
       "  display: grid;\n",
       "  grid-template-columns: 20px auto;\n",
       "}\n",
       "\n",
       ".xr-array-wrap > label {\n",
       "  grid-column: 1;\n",
       "  vertical-align: top;\n",
       "}\n",
       "\n",
       ".xr-preview {\n",
       "  color: var(--xr-font-color3);\n",
       "}\n",
       "\n",
       ".xr-array-preview,\n",
       ".xr-array-data {\n",
       "  padding: 0 5px !important;\n",
       "  grid-column: 2;\n",
       "}\n",
       "\n",
       ".xr-array-data,\n",
       ".xr-array-in:checked ~ .xr-array-preview {\n",
       "  display: none;\n",
       "}\n",
       "\n",
       ".xr-array-in:checked ~ .xr-array-data,\n",
       ".xr-array-preview {\n",
       "  display: inline-block;\n",
       "}\n",
       "\n",
       ".xr-dim-list {\n",
       "  display: inline-block !important;\n",
       "  list-style: none;\n",
       "  padding: 0 !important;\n",
       "  margin: 0;\n",
       "}\n",
       "\n",
       ".xr-dim-list li {\n",
       "  display: inline-block;\n",
       "  padding: 0;\n",
       "  margin: 0;\n",
       "}\n",
       "\n",
       ".xr-dim-list:before {\n",
       "  content: '(';\n",
       "}\n",
       "\n",
       ".xr-dim-list:after {\n",
       "  content: ')';\n",
       "}\n",
       "\n",
       ".xr-dim-list li:not(:last-child):after {\n",
       "  content: ',';\n",
       "  padding-right: 5px;\n",
       "}\n",
       "\n",
       ".xr-has-index {\n",
       "  font-weight: bold;\n",
       "}\n",
       "\n",
       ".xr-var-list,\n",
       ".xr-var-item {\n",
       "  display: contents;\n",
       "}\n",
       "\n",
       ".xr-var-item > div,\n",
       ".xr-var-item label,\n",
       ".xr-var-item > .xr-var-name span {\n",
       "  background-color: var(--xr-background-color-row-even);\n",
       "  margin-bottom: 0;\n",
       "}\n",
       "\n",
       ".xr-var-item > .xr-var-name:hover span {\n",
       "  padding-right: 5px;\n",
       "}\n",
       "\n",
       ".xr-var-list > li:nth-child(odd) > div,\n",
       ".xr-var-list > li:nth-child(odd) > label,\n",
       ".xr-var-list > li:nth-child(odd) > .xr-var-name span {\n",
       "  background-color: var(--xr-background-color-row-odd);\n",
       "}\n",
       "\n",
       ".xr-var-name {\n",
       "  grid-column: 1;\n",
       "}\n",
       "\n",
       ".xr-var-dims {\n",
       "  grid-column: 2;\n",
       "}\n",
       "\n",
       ".xr-var-dtype {\n",
       "  grid-column: 3;\n",
       "  text-align: right;\n",
       "  color: var(--xr-font-color2);\n",
       "}\n",
       "\n",
       ".xr-var-preview {\n",
       "  grid-column: 4;\n",
       "}\n",
       "\n",
       ".xr-var-name,\n",
       ".xr-var-dims,\n",
       ".xr-var-dtype,\n",
       ".xr-preview,\n",
       ".xr-attrs dt {\n",
       "  white-space: nowrap;\n",
       "  overflow: hidden;\n",
       "  text-overflow: ellipsis;\n",
       "  padding-right: 10px;\n",
       "}\n",
       "\n",
       ".xr-var-name:hover,\n",
       ".xr-var-dims:hover,\n",
       ".xr-var-dtype:hover,\n",
       ".xr-attrs dt:hover {\n",
       "  overflow: visible;\n",
       "  width: auto;\n",
       "  z-index: 1;\n",
       "}\n",
       "\n",
       ".xr-var-attrs,\n",
       ".xr-var-data {\n",
       "  display: none;\n",
       "  background-color: var(--xr-background-color) !important;\n",
       "  padding-bottom: 5px !important;\n",
       "}\n",
       "\n",
       ".xr-var-attrs-in:checked ~ .xr-var-attrs,\n",
       ".xr-var-data-in:checked ~ .xr-var-data {\n",
       "  display: block;\n",
       "}\n",
       "\n",
       ".xr-var-data > table {\n",
       "  float: right;\n",
       "}\n",
       "\n",
       ".xr-var-name span,\n",
       ".xr-var-data,\n",
       ".xr-attrs {\n",
       "  padding-left: 25px !important;\n",
       "}\n",
       "\n",
       ".xr-attrs,\n",
       ".xr-var-attrs,\n",
       ".xr-var-data {\n",
       "  grid-column: 1 / -1;\n",
       "}\n",
       "\n",
       "dl.xr-attrs {\n",
       "  padding: 0;\n",
       "  margin: 0;\n",
       "  display: grid;\n",
       "  grid-template-columns: 125px auto;\n",
       "}\n",
       "\n",
       ".xr-attrs dt,\n",
       ".xr-attrs dd {\n",
       "  padding: 0;\n",
       "  margin: 0;\n",
       "  float: left;\n",
       "  padding-right: 10px;\n",
       "  width: auto;\n",
       "}\n",
       "\n",
       ".xr-attrs dt {\n",
       "  font-weight: normal;\n",
       "  grid-column: 1;\n",
       "}\n",
       "\n",
       ".xr-attrs dt:hover span {\n",
       "  display: inline-block;\n",
       "  background: var(--xr-background-color);\n",
       "  padding-right: 10px;\n",
       "}\n",
       "\n",
       ".xr-attrs dd {\n",
       "  grid-column: 2;\n",
       "  white-space: pre-wrap;\n",
       "  word-break: break-all;\n",
       "}\n",
       "\n",
       ".xr-icon-database,\n",
       ".xr-icon-file-text2 {\n",
       "  display: inline-block;\n",
       "  vertical-align: middle;\n",
       "  width: 1em;\n",
       "  height: 1.5em !important;\n",
       "  stroke-width: 0;\n",
       "  stroke: currentColor;\n",
       "  fill: currentColor;\n",
       "}\n",
       "</style><pre class='xr-text-repr-fallback'>&lt;xarray.DataArray &#x27;index&#x27; (time: 2, space: 16)&gt;\n",
       "array([[1., 1., 1., 1., 1., 1., 1., 1., 1., 1., 1., 1., 1., 1., 1., 1.],\n",
       "       [1., 1., 1., 1., 1., 1., 1., 1., 1., 1., 1., 1., 1., 1., 1., 1.]])\n",
       "Coordinates:\n",
       "  * time          (time) datetime64[ns] 2019-01-01 2020-12-31\n",
       "    spatial_ref   int64 0\n",
       "    feature       (space) float64 1.0 1.0 1.0 1.0 1.0 ... 1.0 1.0 1.0 1.0 1.0\n",
       "    temporal_ref  int64 0\n",
       "  * space         (space) MultiIndex\n",
       "  - y             (space) float64 2.696e+06 2.696e+06 ... 2.692e+06 2.692e+06\n",
       "  - x             (space) float64 4.531e+06 4.532e+06 ... 4.534e+06 4.535e+06\n",
       "Attributes:\n",
       "    name:          index\n",
       "    long_name:     index\n",
       "    _FillValue:    nan\n",
       "    value_type:    nominal\n",
       "    value_labels:  {1: &#x27;feature_1&#x27;}</pre><div class='xr-wrap' style='display:none'><div class='xr-header'><div class='xr-obj-type'>xarray.DataArray</div><div class='xr-array-name'>'index'</div><ul class='xr-dim-list'><li><span class='xr-has-index'>time</span>: 2</li><li><span class='xr-has-index'>space</span>: 16</li></ul></div><ul class='xr-sections'><li class='xr-section-item'><div class='xr-array-wrap'><input id='section-47dc9dba-498c-43df-92b1-4c953f7b7d65' class='xr-array-in' type='checkbox' checked><label for='section-47dc9dba-498c-43df-92b1-4c953f7b7d65' title='Show/hide data repr'><svg class='icon xr-icon-database'><use xlink:href='#icon-database'></use></svg></label><div class='xr-array-preview xr-preview'><span>1.0 1.0 1.0 1.0 1.0 1.0 1.0 1.0 ... 1.0 1.0 1.0 1.0 1.0 1.0 1.0 1.0</span></div><div class='xr-array-data'><pre>array([[1., 1., 1., 1., 1., 1., 1., 1., 1., 1., 1., 1., 1., 1., 1., 1.],\n",
       "       [1., 1., 1., 1., 1., 1., 1., 1., 1., 1., 1., 1., 1., 1., 1., 1.]])</pre></div></div></li><li class='xr-section-item'><input id='section-2e9d6a61-8eac-4dfd-a08c-1ed03e8dc3c1' class='xr-section-summary-in' type='checkbox'  checked><label for='section-2e9d6a61-8eac-4dfd-a08c-1ed03e8dc3c1' class='xr-section-summary' >Coordinates: <span>(5)</span></label><div class='xr-section-inline-details'></div><div class='xr-section-details'><ul class='xr-var-list'><li class='xr-var-item'><div class='xr-var-name'><span class='xr-has-index'>time</span></div><div class='xr-var-dims'>(time)</div><div class='xr-var-dtype'>datetime64[ns]</div><div class='xr-var-preview xr-preview'>2019-01-01 2020-12-31</div><input id='attrs-562feb5e-222d-4c43-8664-7c82de93d089' class='xr-var-attrs-in' type='checkbox' ><label for='attrs-562feb5e-222d-4c43-8664-7c82de93d089' title='Show/Hide attributes'><svg class='icon xr-icon-file-text2'><use xlink:href='#icon-file-text2'></use></svg></label><input id='data-e8089945-779b-4892-b845-077dc86d69d5' class='xr-var-data-in' type='checkbox'><label for='data-e8089945-779b-4892-b845-077dc86d69d5' title='Show/Hide data repr'><svg class='icon xr-icon-database'><use xlink:href='#icon-database'></use></svg></label><div class='xr-var-attrs'><dl class='xr-attrs'><dt><span>value_type :</span></dt><dd>datetime</dd></dl></div><div class='xr-var-data'><pre>array([&#x27;2019-01-01T00:00:00.000000000&#x27;, &#x27;2020-12-31T00:00:00.000000000&#x27;],\n",
       "      dtype=&#x27;datetime64[ns]&#x27;)</pre></div></li><li class='xr-var-item'><div class='xr-var-name'><span>spatial_ref</span></div><div class='xr-var-dims'>()</div><div class='xr-var-dtype'>int64</div><div class='xr-var-preview xr-preview'>0</div><input id='attrs-b74eee2a-799e-475c-93f1-3e902e88ffa0' class='xr-var-attrs-in' type='checkbox' ><label for='attrs-b74eee2a-799e-475c-93f1-3e902e88ffa0' title='Show/Hide attributes'><svg class='icon xr-icon-file-text2'><use xlink:href='#icon-file-text2'></use></svg></label><input id='data-3b1ad5ab-b79b-4de5-8118-e178b3a25032' class='xr-var-data-in' type='checkbox'><label for='data-3b1ad5ab-b79b-4de5-8118-e178b3a25032' title='Show/Hide data repr'><svg class='icon xr-icon-database'><use xlink:href='#icon-database'></use></svg></label><div class='xr-var-attrs'><dl class='xr-attrs'><dt><span>crs_wkt :</span></dt><dd>PROJCS[&quot;ETRS89-extended / LAEA Europe&quot;,GEOGCS[&quot;ETRS89&quot;,DATUM[&quot;European_Terrestrial_Reference_System_1989&quot;,SPHEROID[&quot;GRS 1980&quot;,6378137,298.257222101,AUTHORITY[&quot;EPSG&quot;,&quot;7019&quot;]],AUTHORITY[&quot;EPSG&quot;,&quot;6258&quot;]],PRIMEM[&quot;Greenwich&quot;,0,AUTHORITY[&quot;EPSG&quot;,&quot;8901&quot;]],UNIT[&quot;degree&quot;,0.0174532925199433,AUTHORITY[&quot;EPSG&quot;,&quot;9122&quot;]],AUTHORITY[&quot;EPSG&quot;,&quot;4258&quot;]],PROJECTION[&quot;Lambert_Azimuthal_Equal_Area&quot;],PARAMETER[&quot;latitude_of_center&quot;,52],PARAMETER[&quot;longitude_of_center&quot;,10],PARAMETER[&quot;false_easting&quot;,4321000],PARAMETER[&quot;false_northing&quot;,3210000],UNIT[&quot;metre&quot;,1,AUTHORITY[&quot;EPSG&quot;,&quot;9001&quot;]],AXIS[&quot;Northing&quot;,NORTH],AXIS[&quot;Easting&quot;,EAST],AUTHORITY[&quot;EPSG&quot;,&quot;3035&quot;]]</dd><dt><span>semi_major_axis :</span></dt><dd>6378137.0</dd><dt><span>semi_minor_axis :</span></dt><dd>6356752.314140356</dd><dt><span>inverse_flattening :</span></dt><dd>298.257222101</dd><dt><span>reference_ellipsoid_name :</span></dt><dd>GRS 1980</dd><dt><span>longitude_of_prime_meridian :</span></dt><dd>0.0</dd><dt><span>prime_meridian_name :</span></dt><dd>Greenwich</dd><dt><span>geographic_crs_name :</span></dt><dd>ETRS89</dd><dt><span>horizontal_datum_name :</span></dt><dd>European Terrestrial Reference System 1989</dd><dt><span>projected_crs_name :</span></dt><dd>ETRS89-extended / LAEA Europe</dd><dt><span>grid_mapping_name :</span></dt><dd>lambert_azimuthal_equal_area</dd><dt><span>latitude_of_projection_origin :</span></dt><dd>52.0</dd><dt><span>longitude_of_projection_origin :</span></dt><dd>10.0</dd><dt><span>false_easting :</span></dt><dd>4321000.0</dd><dt><span>false_northing :</span></dt><dd>3210000.0</dd><dt><span>spatial_ref :</span></dt><dd>PROJCS[&quot;ETRS89-extended / LAEA Europe&quot;,GEOGCS[&quot;ETRS89&quot;,DATUM[&quot;European_Terrestrial_Reference_System_1989&quot;,SPHEROID[&quot;GRS 1980&quot;,6378137,298.257222101,AUTHORITY[&quot;EPSG&quot;,&quot;7019&quot;]],AUTHORITY[&quot;EPSG&quot;,&quot;6258&quot;]],PRIMEM[&quot;Greenwich&quot;,0,AUTHORITY[&quot;EPSG&quot;,&quot;8901&quot;]],UNIT[&quot;degree&quot;,0.0174532925199433,AUTHORITY[&quot;EPSG&quot;,&quot;9122&quot;]],AUTHORITY[&quot;EPSG&quot;,&quot;4258&quot;]],PROJECTION[&quot;Lambert_Azimuthal_Equal_Area&quot;],PARAMETER[&quot;latitude_of_center&quot;,52],PARAMETER[&quot;longitude_of_center&quot;,10],PARAMETER[&quot;false_easting&quot;,4321000],PARAMETER[&quot;false_northing&quot;,3210000],UNIT[&quot;metre&quot;,1,AUTHORITY[&quot;EPSG&quot;,&quot;9001&quot;]],AXIS[&quot;Northing&quot;,NORTH],AXIS[&quot;Easting&quot;,EAST],AUTHORITY[&quot;EPSG&quot;,&quot;3035&quot;]]</dd><dt><span>GeoTransform :</span></dt><dd>4530000.0 1500.0 0.0 2697000.0 0.0 -1500.0</dd></dl></div><div class='xr-var-data'><pre>array(0)</pre></div></li><li class='xr-var-item'><div class='xr-var-name'><span>feature</span></div><div class='xr-var-dims'>(space)</div><div class='xr-var-dtype'>float64</div><div class='xr-var-preview xr-preview'>1.0 1.0 1.0 1.0 ... 1.0 1.0 1.0 1.0</div><input id='attrs-48a61680-cabd-40e0-afbf-a01dedd18c03' class='xr-var-attrs-in' type='checkbox' ><label for='attrs-48a61680-cabd-40e0-afbf-a01dedd18c03' title='Show/Hide attributes'><svg class='icon xr-icon-file-text2'><use xlink:href='#icon-file-text2'></use></svg></label><input id='data-58d3e58c-d056-456b-976c-a8c644b32a53' class='xr-var-data-in' type='checkbox'><label for='data-58d3e58c-d056-456b-976c-a8c644b32a53' title='Show/Hide data repr'><svg class='icon xr-icon-database'><use xlink:href='#icon-database'></use></svg></label><div class='xr-var-attrs'><dl class='xr-attrs'><dt><span>value_type :</span></dt><dd>nominal</dd><dt><span>value_labels :</span></dt><dd>{1: &#x27;feature_1&#x27;}</dd></dl></div><div class='xr-var-data'><pre>array([1., 1., 1., 1., 1., 1., 1., 1., 1., 1., 1., 1., 1., 1., 1., 1.])</pre></div></li><li class='xr-var-item'><div class='xr-var-name'><span>temporal_ref</span></div><div class='xr-var-dims'>()</div><div class='xr-var-dtype'>int64</div><div class='xr-var-preview xr-preview'>0</div><input id='attrs-7e0400c5-b2b1-4b89-9bd0-1505a5d89fdc' class='xr-var-attrs-in' type='checkbox' ><label for='attrs-7e0400c5-b2b1-4b89-9bd0-1505a5d89fdc' title='Show/Hide attributes'><svg class='icon xr-icon-file-text2'><use xlink:href='#icon-file-text2'></use></svg></label><input id='data-6eb0f67b-9ced-4f62-b4ec-5a4c61ec4222' class='xr-var-data-in' type='checkbox'><label for='data-6eb0f67b-9ced-4f62-b4ec-5a4c61ec4222' title='Show/Hide data repr'><svg class='icon xr-icon-database'><use xlink:href='#icon-database'></use></svg></label><div class='xr-var-attrs'><dl class='xr-attrs'><dt><span>zone :</span></dt><dd>UTC</dd></dl></div><div class='xr-var-data'><pre>array(0)</pre></div></li><li class='xr-var-item'><div class='xr-var-name'><span class='xr-has-index'>space</span></div><div class='xr-var-dims'>(space)</div><div class='xr-var-dtype'>MultiIndex</div><div class='xr-var-preview xr-preview'>(y, x)</div><input id='attrs-5599f2f3-8beb-49b3-be07-78e883226fb5' class='xr-var-attrs-in' type='checkbox' ><label for='attrs-5599f2f3-8beb-49b3-be07-78e883226fb5' title='Show/Hide attributes'><svg class='icon xr-icon-file-text2'><use xlink:href='#icon-file-text2'></use></svg></label><input id='data-aed1edf0-b693-4c2b-b2e6-8e4489380a73' class='xr-var-data-in' type='checkbox'><label for='data-aed1edf0-b693-4c2b-b2e6-8e4489380a73' title='Show/Hide data repr'><svg class='icon xr-icon-database'><use xlink:href='#icon-database'></use></svg></label><div class='xr-var-attrs'><dl class='xr-attrs'><dt><span>value_type :</span></dt><dd>coords</dd></dl></div><div class='xr-var-data'><pre>array([(2696250.0, 4530750.0), (2696250.0, 4532250.0), (2696250.0, 4533750.0),\n",
       "       (2696250.0, 4535250.0), (2694750.0, 4530750.0), (2694750.0, 4532250.0),\n",
       "       (2694750.0, 4533750.0), (2694750.0, 4535250.0), (2693250.0, 4530750.0),\n",
       "       (2693250.0, 4532250.0), (2693250.0, 4533750.0), (2693250.0, 4535250.0),\n",
       "       (2691750.0, 4530750.0), (2691750.0, 4532250.0), (2691750.0, 4533750.0),\n",
       "       (2691750.0, 4535250.0)], dtype=object)</pre></div></li><li class='xr-var-item'><div class='xr-var-name'><span>y</span></div><div class='xr-var-dims'>(space)</div><div class='xr-var-dtype'>float64</div><div class='xr-var-preview xr-preview'>2.696e+06 2.696e+06 ... 2.692e+06</div><input id='attrs-0756ee29-f62c-4d50-93ca-5a812b9dca42' class='xr-var-attrs-in' type='checkbox' disabled><label for='attrs-0756ee29-f62c-4d50-93ca-5a812b9dca42' title='Show/Hide attributes'><svg class='icon xr-icon-file-text2'><use xlink:href='#icon-file-text2'></use></svg></label><input id='data-a50d8ca6-78aa-4c59-acc8-f9e5f90b883b' class='xr-var-data-in' type='checkbox'><label for='data-a50d8ca6-78aa-4c59-acc8-f9e5f90b883b' title='Show/Hide data repr'><svg class='icon xr-icon-database'><use xlink:href='#icon-database'></use></svg></label><div class='xr-var-attrs'><dl class='xr-attrs'></dl></div><div class='xr-var-data'><pre>array([2696250., 2696250., 2696250., 2696250., 2694750., 2694750., 2694750.,\n",
       "       2694750., 2693250., 2693250., 2693250., 2693250., 2691750., 2691750.,\n",
       "       2691750., 2691750.])</pre></div></li><li class='xr-var-item'><div class='xr-var-name'><span>x</span></div><div class='xr-var-dims'>(space)</div><div class='xr-var-dtype'>float64</div><div class='xr-var-preview xr-preview'>4.531e+06 4.532e+06 ... 4.535e+06</div><input id='attrs-1816e7d9-1188-49a2-adce-da9487f9a5c6' class='xr-var-attrs-in' type='checkbox' disabled><label for='attrs-1816e7d9-1188-49a2-adce-da9487f9a5c6' title='Show/Hide attributes'><svg class='icon xr-icon-file-text2'><use xlink:href='#icon-file-text2'></use></svg></label><input id='data-493a567f-62ed-4e94-9809-17edc856991f' class='xr-var-data-in' type='checkbox'><label for='data-493a567f-62ed-4e94-9809-17edc856991f' title='Show/Hide data repr'><svg class='icon xr-icon-database'><use xlink:href='#icon-database'></use></svg></label><div class='xr-var-attrs'><dl class='xr-attrs'></dl></div><div class='xr-var-data'><pre>array([4530750., 4532250., 4533750., 4535250., 4530750., 4532250., 4533750.,\n",
       "       4535250., 4530750., 4532250., 4533750., 4535250., 4530750., 4532250.,\n",
       "       4533750., 4535250.])</pre></div></li></ul></div></li><li class='xr-section-item'><input id='section-212b92ee-c43b-44f3-aa04-a987e343a40a' class='xr-section-summary-in' type='checkbox'  checked><label for='section-212b92ee-c43b-44f3-aa04-a987e343a40a' class='xr-section-summary' >Attributes: <span>(5)</span></label><div class='xr-section-inline-details'></div><div class='xr-section-details'><dl class='xr-attrs'><dt><span>name :</span></dt><dd>index</dd><dt><span>long_name :</span></dt><dd>index</dd><dt><span>_FillValue :</span></dt><dd>nan</dd><dt><span>value_type :</span></dt><dd>nominal</dd><dt><span>value_labels :</span></dt><dd>{1: &#x27;feature_1&#x27;}</dd></dl></div></li></ul></div></div>"
      ],
      "text/plain": [
       "<xarray.DataArray 'index' (time: 2, space: 16)>\n",
       "array([[1., 1., 1., 1., 1., 1., 1., 1., 1., 1., 1., 1., 1., 1., 1., 1.],\n",
       "       [1., 1., 1., 1., 1., 1., 1., 1., 1., 1., 1., 1., 1., 1., 1., 1.]])\n",
       "Coordinates:\n",
       "  * time          (time) datetime64[ns] 2019-01-01 2020-12-31\n",
       "    spatial_ref   int64 0\n",
       "    feature       (space) float64 1.0 1.0 1.0 1.0 1.0 ... 1.0 1.0 1.0 1.0 1.0\n",
       "    temporal_ref  int64 0\n",
       "  * space         (space) MultiIndex\n",
       "  - y             (space) float64 2.696e+06 2.696e+06 ... 2.692e+06 2.692e+06\n",
       "  - x             (space) float64 4.531e+06 4.532e+06 ... 4.534e+06 4.535e+06\n",
       "Attributes:\n",
       "    name:          index\n",
       "    long_name:     index\n",
       "    _FillValue:    nan\n",
       "    value_type:    nominal\n",
       "    value_labels:  {1: 'feature_1'}"
      ]
     },
     "execution_count": 9,
     "metadata": {},
     "output_type": "execute_result"
    }
   ],
   "source": [
    "extent"
   ]
  },
  {
   "cell_type": "markdown",
   "id": "proud-garlic",
   "metadata": {},
   "source": [
    "## Query optimization\n",
    "\n",
    "During query optimization, the query components are scanned and certain properties of the query processor are set. These properties influence some tweaks in how the query processor will behave when processing the query. For example, if the given spatial extent consists of multiple dispersed sub-areas, the query processor might instruct itself to load data separately for each sub-area, instead of loading data for the full extent and then subset it afterwards.\n",
    "\n",
    "The query processor contains the [optimize()](https://zgis.github.io/semantique/_generated/semantique.processor.core.QueryProcessor.optimize.html) method to run the optimization phase. It returns the same instance, but with updated properties. However, in the current version of semantique, the optimization phase only exists as a placeholder, and no properties are updated yet."
   ]
  },
  {
   "cell_type": "code",
   "execution_count": 10,
   "id": "sonic-homeless",
   "metadata": {},
   "outputs": [],
   "source": [
    "processor = processor.optimize()"
   ]
  },
  {
   "cell_type": "code",
   "execution_count": 11,
   "id": "integral-suspension",
   "metadata": {},
   "outputs": [
    {
     "data": {
      "text/plain": [
       "semantique.processor.core.QueryProcessor"
      ]
     },
     "execution_count": 11,
     "metadata": {},
     "output_type": "execute_result"
    }
   ],
   "source": [
    "type(processor)"
   ]
  },
  {
   "cell_type": "markdown",
   "id": "difficult-humidity",
   "metadata": {},
   "source": [
    "## Query execution\n",
    "\n",
    "Finally, the execution phase is where the query recipe is executed. The query processor contains the [execute()](https://zgis.github.io/semantique/_generated/semantique.processor.core.QueryProcessor.execute.html) method to run this phase. It returns the same instance, but with a [response](https://zgis.github.io/semantique/_generated/semantique.processor.core.QueryProcessor.response.html) property containing the outputs of all formulated results in the query recipe. Each of these outputs is a [DataArray](http://xarray.pydata.org/en/stable/user-guide/data-structures.html#dataarray) object."
   ]
  },
  {
   "cell_type": "code",
   "execution_count": 12,
   "id": "a067d6db",
   "metadata": {},
   "outputs": [
    {
     "data": {
      "text/plain": [
       "{}"
      ]
     },
     "execution_count": 12,
     "metadata": {},
     "output_type": "execute_result"
    }
   ],
   "source": [
    "# Before execution the response property is empty.\n",
    "processor.response"
   ]
  },
  {
   "cell_type": "code",
   "execution_count": 13,
   "id": "frank-infrared",
   "metadata": {},
   "outputs": [],
   "source": [
    "processor = processor.execute()"
   ]
  },
  {
   "cell_type": "code",
   "execution_count": 14,
   "id": "c9221379",
   "metadata": {},
   "outputs": [
    {
     "data": {
      "text/plain": [
       "semantique.processor.core.QueryProcessor"
      ]
     },
     "execution_count": 14,
     "metadata": {},
     "output_type": "execute_result"
    }
   ],
   "source": [
    "type(processor)"
   ]
  },
  {
   "cell_type": "code",
   "execution_count": 15,
   "id": "guilty-danish",
   "metadata": {},
   "outputs": [
    {
     "name": "stdout",
     "output_type": "stream",
     "text": [
      "blue_map: <class 'xarray.core.dataarray.DataArray'>\n",
      "green_map: <class 'xarray.core.dataarray.DataArray'>\n",
      "blue_curve: <class 'xarray.core.dataarray.DataArray'>\n",
      "green_curve: <class 'xarray.core.dataarray.DataArray'>\n",
      "blue_stat: <class 'xarray.core.dataarray.DataArray'>\n",
      "green_stat: <class 'xarray.core.dataarray.DataArray'>\n"
     ]
    }
   ],
   "source": [
    "# After execution the response property is filled.\n",
    "for key in processor.response:\n",
    "    print(f\"{key}: {type(processor.response[key])}\")"
   ]
  },
  {
   "cell_type": "markdown",
   "id": "separate-salvation",
   "metadata": {},
   "source": [
    "### Handler functions\n",
    "\n",
    "When executing a query recipe, the query processor moves through the building blocks of the result instructions. For each building block, it has a specific handler function implemented as a method. Whenever the processor reaches a new block, it looks up its type and then calls its handler with the [call_handler()](https://zgis.github.io/semantique/_generated/semantique.processor.core.QueryProcessor.call_handler.html) method. For example, the [handle_concept()](https://zgis.github.io/semantique/_generated/semantique.processor.core.QueryProcessor.handle_concept.html) method knows how to call the translator of the provided mapping in order to translate a textual semantic concept reference into a semantic array. while the [handle_reduce()](https://zgis.github.io/semantique/_generated/semantique.processor.core.QueryProcessor.handle_reduce.html) method know how to apply the reduce verb to such an array."
   ]
  },
  {
   "cell_type": "code",
   "execution_count": 16,
   "id": "streaming-driving",
   "metadata": {},
   "outputs": [
    {
     "data": {
      "text/html": [
       "<div><svg style=\"position: absolute; width: 0; height: 0; overflow: hidden\">\n",
       "<defs>\n",
       "<symbol id=\"icon-database\" viewBox=\"0 0 32 32\">\n",
       "<path d=\"M16 0c-8.837 0-16 2.239-16 5v4c0 2.761 7.163 5 16 5s16-2.239 16-5v-4c0-2.761-7.163-5-16-5z\"></path>\n",
       "<path d=\"M16 17c-8.837 0-16-2.239-16-5v6c0 2.761 7.163 5 16 5s16-2.239 16-5v-6c0 2.761-7.163 5-16 5z\"></path>\n",
       "<path d=\"M16 26c-8.837 0-16-2.239-16-5v6c0 2.761 7.163 5 16 5s16-2.239 16-5v-6c0 2.761-7.163 5-16 5z\"></path>\n",
       "</symbol>\n",
       "<symbol id=\"icon-file-text2\" viewBox=\"0 0 32 32\">\n",
       "<path d=\"M28.681 7.159c-0.694-0.947-1.662-2.053-2.724-3.116s-2.169-2.030-3.116-2.724c-1.612-1.182-2.393-1.319-2.841-1.319h-15.5c-1.378 0-2.5 1.121-2.5 2.5v27c0 1.378 1.122 2.5 2.5 2.5h23c1.378 0 2.5-1.122 2.5-2.5v-19.5c0-0.448-0.137-1.23-1.319-2.841zM24.543 5.457c0.959 0.959 1.712 1.825 2.268 2.543h-4.811v-4.811c0.718 0.556 1.584 1.309 2.543 2.268zM28 29.5c0 0.271-0.229 0.5-0.5 0.5h-23c-0.271 0-0.5-0.229-0.5-0.5v-27c0-0.271 0.229-0.5 0.5-0.5 0 0 15.499-0 15.5 0v7c0 0.552 0.448 1 1 1h7v19.5z\"></path>\n",
       "<path d=\"M23 26h-14c-0.552 0-1-0.448-1-1s0.448-1 1-1h14c0.552 0 1 0.448 1 1s-0.448 1-1 1z\"></path>\n",
       "<path d=\"M23 22h-14c-0.552 0-1-0.448-1-1s0.448-1 1-1h14c0.552 0 1 0.448 1 1s-0.448 1-1 1z\"></path>\n",
       "<path d=\"M23 18h-14c-0.552 0-1-0.448-1-1s0.448-1 1-1h14c0.552 0 1 0.448 1 1s-0.448 1-1 1z\"></path>\n",
       "</symbol>\n",
       "</defs>\n",
       "</svg>\n",
       "<style>/* CSS stylesheet for displaying xarray objects in jupyterlab.\n",
       " *\n",
       " */\n",
       "\n",
       ":root {\n",
       "  --xr-font-color0: var(--jp-content-font-color0, rgba(0, 0, 0, 1));\n",
       "  --xr-font-color2: var(--jp-content-font-color2, rgba(0, 0, 0, 0.54));\n",
       "  --xr-font-color3: var(--jp-content-font-color3, rgba(0, 0, 0, 0.38));\n",
       "  --xr-border-color: var(--jp-border-color2, #e0e0e0);\n",
       "  --xr-disabled-color: var(--jp-layout-color3, #bdbdbd);\n",
       "  --xr-background-color: var(--jp-layout-color0, white);\n",
       "  --xr-background-color-row-even: var(--jp-layout-color1, white);\n",
       "  --xr-background-color-row-odd: var(--jp-layout-color2, #eeeeee);\n",
       "}\n",
       "\n",
       "html[theme=dark],\n",
       "body.vscode-dark {\n",
       "  --xr-font-color0: rgba(255, 255, 255, 1);\n",
       "  --xr-font-color2: rgba(255, 255, 255, 0.54);\n",
       "  --xr-font-color3: rgba(255, 255, 255, 0.38);\n",
       "  --xr-border-color: #1F1F1F;\n",
       "  --xr-disabled-color: #515151;\n",
       "  --xr-background-color: #111111;\n",
       "  --xr-background-color-row-even: #111111;\n",
       "  --xr-background-color-row-odd: #313131;\n",
       "}\n",
       "\n",
       ".xr-wrap {\n",
       "  display: block !important;\n",
       "  min-width: 300px;\n",
       "  max-width: 700px;\n",
       "}\n",
       "\n",
       ".xr-text-repr-fallback {\n",
       "  /* fallback to plain text repr when CSS is not injected (untrusted notebook) */\n",
       "  display: none;\n",
       "}\n",
       "\n",
       ".xr-header {\n",
       "  padding-top: 6px;\n",
       "  padding-bottom: 6px;\n",
       "  margin-bottom: 4px;\n",
       "  border-bottom: solid 1px var(--xr-border-color);\n",
       "}\n",
       "\n",
       ".xr-header > div,\n",
       ".xr-header > ul {\n",
       "  display: inline;\n",
       "  margin-top: 0;\n",
       "  margin-bottom: 0;\n",
       "}\n",
       "\n",
       ".xr-obj-type,\n",
       ".xr-array-name {\n",
       "  margin-left: 2px;\n",
       "  margin-right: 10px;\n",
       "}\n",
       "\n",
       ".xr-obj-type {\n",
       "  color: var(--xr-font-color2);\n",
       "}\n",
       "\n",
       ".xr-sections {\n",
       "  padding-left: 0 !important;\n",
       "  display: grid;\n",
       "  grid-template-columns: 150px auto auto 1fr 20px 20px;\n",
       "}\n",
       "\n",
       ".xr-section-item {\n",
       "  display: contents;\n",
       "}\n",
       "\n",
       ".xr-section-item input {\n",
       "  display: none;\n",
       "}\n",
       "\n",
       ".xr-section-item input + label {\n",
       "  color: var(--xr-disabled-color);\n",
       "}\n",
       "\n",
       ".xr-section-item input:enabled + label {\n",
       "  cursor: pointer;\n",
       "  color: var(--xr-font-color2);\n",
       "}\n",
       "\n",
       ".xr-section-item input:enabled + label:hover {\n",
       "  color: var(--xr-font-color0);\n",
       "}\n",
       "\n",
       ".xr-section-summary {\n",
       "  grid-column: 1;\n",
       "  color: var(--xr-font-color2);\n",
       "  font-weight: 500;\n",
       "}\n",
       "\n",
       ".xr-section-summary > span {\n",
       "  display: inline-block;\n",
       "  padding-left: 0.5em;\n",
       "}\n",
       "\n",
       ".xr-section-summary-in:disabled + label {\n",
       "  color: var(--xr-font-color2);\n",
       "}\n",
       "\n",
       ".xr-section-summary-in + label:before {\n",
       "  display: inline-block;\n",
       "  content: '►';\n",
       "  font-size: 11px;\n",
       "  width: 15px;\n",
       "  text-align: center;\n",
       "}\n",
       "\n",
       ".xr-section-summary-in:disabled + label:before {\n",
       "  color: var(--xr-disabled-color);\n",
       "}\n",
       "\n",
       ".xr-section-summary-in:checked + label:before {\n",
       "  content: '▼';\n",
       "}\n",
       "\n",
       ".xr-section-summary-in:checked + label > span {\n",
       "  display: none;\n",
       "}\n",
       "\n",
       ".xr-section-summary,\n",
       ".xr-section-inline-details {\n",
       "  padding-top: 4px;\n",
       "  padding-bottom: 4px;\n",
       "}\n",
       "\n",
       ".xr-section-inline-details {\n",
       "  grid-column: 2 / -1;\n",
       "}\n",
       "\n",
       ".xr-section-details {\n",
       "  display: none;\n",
       "  grid-column: 1 / -1;\n",
       "  margin-bottom: 5px;\n",
       "}\n",
       "\n",
       ".xr-section-summary-in:checked ~ .xr-section-details {\n",
       "  display: contents;\n",
       "}\n",
       "\n",
       ".xr-array-wrap {\n",
       "  grid-column: 1 / -1;\n",
       "  display: grid;\n",
       "  grid-template-columns: 20px auto;\n",
       "}\n",
       "\n",
       ".xr-array-wrap > label {\n",
       "  grid-column: 1;\n",
       "  vertical-align: top;\n",
       "}\n",
       "\n",
       ".xr-preview {\n",
       "  color: var(--xr-font-color3);\n",
       "}\n",
       "\n",
       ".xr-array-preview,\n",
       ".xr-array-data {\n",
       "  padding: 0 5px !important;\n",
       "  grid-column: 2;\n",
       "}\n",
       "\n",
       ".xr-array-data,\n",
       ".xr-array-in:checked ~ .xr-array-preview {\n",
       "  display: none;\n",
       "}\n",
       "\n",
       ".xr-array-in:checked ~ .xr-array-data,\n",
       ".xr-array-preview {\n",
       "  display: inline-block;\n",
       "}\n",
       "\n",
       ".xr-dim-list {\n",
       "  display: inline-block !important;\n",
       "  list-style: none;\n",
       "  padding: 0 !important;\n",
       "  margin: 0;\n",
       "}\n",
       "\n",
       ".xr-dim-list li {\n",
       "  display: inline-block;\n",
       "  padding: 0;\n",
       "  margin: 0;\n",
       "}\n",
       "\n",
       ".xr-dim-list:before {\n",
       "  content: '(';\n",
       "}\n",
       "\n",
       ".xr-dim-list:after {\n",
       "  content: ')';\n",
       "}\n",
       "\n",
       ".xr-dim-list li:not(:last-child):after {\n",
       "  content: ',';\n",
       "  padding-right: 5px;\n",
       "}\n",
       "\n",
       ".xr-has-index {\n",
       "  font-weight: bold;\n",
       "}\n",
       "\n",
       ".xr-var-list,\n",
       ".xr-var-item {\n",
       "  display: contents;\n",
       "}\n",
       "\n",
       ".xr-var-item > div,\n",
       ".xr-var-item label,\n",
       ".xr-var-item > .xr-var-name span {\n",
       "  background-color: var(--xr-background-color-row-even);\n",
       "  margin-bottom: 0;\n",
       "}\n",
       "\n",
       ".xr-var-item > .xr-var-name:hover span {\n",
       "  padding-right: 5px;\n",
       "}\n",
       "\n",
       ".xr-var-list > li:nth-child(odd) > div,\n",
       ".xr-var-list > li:nth-child(odd) > label,\n",
       ".xr-var-list > li:nth-child(odd) > .xr-var-name span {\n",
       "  background-color: var(--xr-background-color-row-odd);\n",
       "}\n",
       "\n",
       ".xr-var-name {\n",
       "  grid-column: 1;\n",
       "}\n",
       "\n",
       ".xr-var-dims {\n",
       "  grid-column: 2;\n",
       "}\n",
       "\n",
       ".xr-var-dtype {\n",
       "  grid-column: 3;\n",
       "  text-align: right;\n",
       "  color: var(--xr-font-color2);\n",
       "}\n",
       "\n",
       ".xr-var-preview {\n",
       "  grid-column: 4;\n",
       "}\n",
       "\n",
       ".xr-var-name,\n",
       ".xr-var-dims,\n",
       ".xr-var-dtype,\n",
       ".xr-preview,\n",
       ".xr-attrs dt {\n",
       "  white-space: nowrap;\n",
       "  overflow: hidden;\n",
       "  text-overflow: ellipsis;\n",
       "  padding-right: 10px;\n",
       "}\n",
       "\n",
       ".xr-var-name:hover,\n",
       ".xr-var-dims:hover,\n",
       ".xr-var-dtype:hover,\n",
       ".xr-attrs dt:hover {\n",
       "  overflow: visible;\n",
       "  width: auto;\n",
       "  z-index: 1;\n",
       "}\n",
       "\n",
       ".xr-var-attrs,\n",
       ".xr-var-data {\n",
       "  display: none;\n",
       "  background-color: var(--xr-background-color) !important;\n",
       "  padding-bottom: 5px !important;\n",
       "}\n",
       "\n",
       ".xr-var-attrs-in:checked ~ .xr-var-attrs,\n",
       ".xr-var-data-in:checked ~ .xr-var-data {\n",
       "  display: block;\n",
       "}\n",
       "\n",
       ".xr-var-data > table {\n",
       "  float: right;\n",
       "}\n",
       "\n",
       ".xr-var-name span,\n",
       ".xr-var-data,\n",
       ".xr-attrs {\n",
       "  padding-left: 25px !important;\n",
       "}\n",
       "\n",
       ".xr-attrs,\n",
       ".xr-var-attrs,\n",
       ".xr-var-data {\n",
       "  grid-column: 1 / -1;\n",
       "}\n",
       "\n",
       "dl.xr-attrs {\n",
       "  padding: 0;\n",
       "  margin: 0;\n",
       "  display: grid;\n",
       "  grid-template-columns: 125px auto;\n",
       "}\n",
       "\n",
       ".xr-attrs dt,\n",
       ".xr-attrs dd {\n",
       "  padding: 0;\n",
       "  margin: 0;\n",
       "  float: left;\n",
       "  padding-right: 10px;\n",
       "  width: auto;\n",
       "}\n",
       "\n",
       ".xr-attrs dt {\n",
       "  font-weight: normal;\n",
       "  grid-column: 1;\n",
       "}\n",
       "\n",
       ".xr-attrs dt:hover span {\n",
       "  display: inline-block;\n",
       "  background: var(--xr-background-color);\n",
       "  padding-right: 10px;\n",
       "}\n",
       "\n",
       ".xr-attrs dd {\n",
       "  grid-column: 2;\n",
       "  white-space: pre-wrap;\n",
       "  word-break: break-all;\n",
       "}\n",
       "\n",
       ".xr-icon-database,\n",
       ".xr-icon-file-text2 {\n",
       "  display: inline-block;\n",
       "  vertical-align: middle;\n",
       "  width: 1em;\n",
       "  height: 1.5em !important;\n",
       "  stroke-width: 0;\n",
       "  stroke: currentColor;\n",
       "  fill: currentColor;\n",
       "}\n",
       "</style><pre class='xr-text-repr-fallback'>&lt;xarray.DataArray &#x27;vegetation&#x27; (time: 3, space: 16)&gt;\n",
       "array([[0., 0., 0., 0., 0., 0., 0., 0., 0., 0., 0., 0., 0., 0., 0., 0.],\n",
       "       [1., 1., 1., 1., 1., 1., 0., 1., 1., 1., 0., 1., 1., 0., 1., 1.],\n",
       "       [0., 1., 0., 1., 1., 1., 0., 0., 0., 0., 0., 0., 1., 0., 0., 1.]])\n",
       "Coordinates:\n",
       "  * time          (time) datetime64[ns] 2019-12-15T10:17:33.408715 ... 2020-1...\n",
       "    spatial_ref   int64 0\n",
       "    temporal_ref  int64 0\n",
       "  * space         (space) MultiIndex\n",
       "  - y             (space) float64 2.696e+06 2.696e+06 ... 2.692e+06 2.692e+06\n",
       "  - x             (space) float64 4.531e+06 4.532e+06 ... 4.534e+06 4.535e+06\n",
       "    feature       (space) float64 1.0 1.0 1.0 1.0 1.0 ... 1.0 1.0 1.0 1.0 1.0\n",
       "Attributes:\n",
       "    scale_factor:  1.0\n",
       "    add_offset:    0.0\n",
       "    long_name:     33SharedSpCt\n",
       "    value_type:    binary</pre><div class='xr-wrap' style='display:none'><div class='xr-header'><div class='xr-obj-type'>xarray.DataArray</div><div class='xr-array-name'>'vegetation'</div><ul class='xr-dim-list'><li><span class='xr-has-index'>time</span>: 3</li><li><span class='xr-has-index'>space</span>: 16</li></ul></div><ul class='xr-sections'><li class='xr-section-item'><div class='xr-array-wrap'><input id='section-d247e756-5f01-4c07-8925-14bb0377e8b6' class='xr-array-in' type='checkbox' checked><label for='section-d247e756-5f01-4c07-8925-14bb0377e8b6' title='Show/hide data repr'><svg class='icon xr-icon-database'><use xlink:href='#icon-database'></use></svg></label><div class='xr-array-preview xr-preview'><span>0.0 0.0 0.0 0.0 0.0 0.0 0.0 0.0 ... 0.0 0.0 0.0 0.0 1.0 0.0 0.0 1.0</span></div><div class='xr-array-data'><pre>array([[0., 0., 0., 0., 0., 0., 0., 0., 0., 0., 0., 0., 0., 0., 0., 0.],\n",
       "       [1., 1., 1., 1., 1., 1., 0., 1., 1., 1., 0., 1., 1., 0., 1., 1.],\n",
       "       [0., 1., 0., 1., 1., 1., 0., 0., 0., 0., 0., 0., 1., 0., 0., 1.]])</pre></div></div></li><li class='xr-section-item'><input id='section-bb04360f-9aa8-46dc-bfce-606990f729c7' class='xr-section-summary-in' type='checkbox'  checked><label for='section-bb04360f-9aa8-46dc-bfce-606990f729c7' class='xr-section-summary' >Coordinates: <span>(5)</span></label><div class='xr-section-inline-details'></div><div class='xr-section-details'><ul class='xr-var-list'><li class='xr-var-item'><div class='xr-var-name'><span class='xr-has-index'>time</span></div><div class='xr-var-dims'>(time)</div><div class='xr-var-dtype'>datetime64[ns]</div><div class='xr-var-preview xr-preview'>2019-12-15T10:17:33.408715 ... 2...</div><input id='attrs-ecfc31b6-f00a-449b-a7b9-42d4c514a25d' class='xr-var-attrs-in' type='checkbox' ><label for='attrs-ecfc31b6-f00a-449b-a7b9-42d4c514a25d' title='Show/Hide attributes'><svg class='icon xr-icon-file-text2'><use xlink:href='#icon-file-text2'></use></svg></label><input id='data-99ca0a4e-fcde-4699-a09e-f5f41c2d22db' class='xr-var-data-in' type='checkbox'><label for='data-99ca0a4e-fcde-4699-a09e-f5f41c2d22db' title='Show/Hide data repr'><svg class='icon xr-icon-database'><use xlink:href='#icon-database'></use></svg></label><div class='xr-var-attrs'><dl class='xr-attrs'><dt><span>value_type :</span></dt><dd>datetime</dd></dl></div><div class='xr-var-data'><pre>array([&#x27;2019-12-15T10:17:33.408715000&#x27;, &#x27;2020-09-05T10:17:43.167942000&#x27;,\n",
       "       &#x27;2020-12-19T10:17:34.610661000&#x27;], dtype=&#x27;datetime64[ns]&#x27;)</pre></div></li><li class='xr-var-item'><div class='xr-var-name'><span>spatial_ref</span></div><div class='xr-var-dims'>()</div><div class='xr-var-dtype'>int64</div><div class='xr-var-preview xr-preview'>0</div><input id='attrs-831535d8-1603-4ffb-92dd-56a8e0dc7913' class='xr-var-attrs-in' type='checkbox' ><label for='attrs-831535d8-1603-4ffb-92dd-56a8e0dc7913' title='Show/Hide attributes'><svg class='icon xr-icon-file-text2'><use xlink:href='#icon-file-text2'></use></svg></label><input id='data-4767b6ba-42cc-4db8-9825-30e871656325' class='xr-var-data-in' type='checkbox'><label for='data-4767b6ba-42cc-4db8-9825-30e871656325' title='Show/Hide data repr'><svg class='icon xr-icon-database'><use xlink:href='#icon-database'></use></svg></label><div class='xr-var-attrs'><dl class='xr-attrs'><dt><span>crs_wkt :</span></dt><dd>PROJCS[&quot;ETRS89-extended / LAEA Europe&quot;,GEOGCS[&quot;ETRS89&quot;,DATUM[&quot;European_Terrestrial_Reference_System_1989&quot;,SPHEROID[&quot;GRS 1980&quot;,6378137,298.257222101,AUTHORITY[&quot;EPSG&quot;,&quot;7019&quot;]],AUTHORITY[&quot;EPSG&quot;,&quot;6258&quot;]],PRIMEM[&quot;Greenwich&quot;,0,AUTHORITY[&quot;EPSG&quot;,&quot;8901&quot;]],UNIT[&quot;degree&quot;,0.0174532925199433,AUTHORITY[&quot;EPSG&quot;,&quot;9122&quot;]],AUTHORITY[&quot;EPSG&quot;,&quot;4258&quot;]],PROJECTION[&quot;Lambert_Azimuthal_Equal_Area&quot;],PARAMETER[&quot;latitude_of_center&quot;,52],PARAMETER[&quot;longitude_of_center&quot;,10],PARAMETER[&quot;false_easting&quot;,4321000],PARAMETER[&quot;false_northing&quot;,3210000],UNIT[&quot;metre&quot;,1,AUTHORITY[&quot;EPSG&quot;,&quot;9001&quot;]],AXIS[&quot;Northing&quot;,NORTH],AXIS[&quot;Easting&quot;,EAST],AUTHORITY[&quot;EPSG&quot;,&quot;3035&quot;]]</dd><dt><span>semi_major_axis :</span></dt><dd>6378137.0</dd><dt><span>semi_minor_axis :</span></dt><dd>6356752.314140356</dd><dt><span>inverse_flattening :</span></dt><dd>298.257222101</dd><dt><span>reference_ellipsoid_name :</span></dt><dd>GRS 1980</dd><dt><span>longitude_of_prime_meridian :</span></dt><dd>0.0</dd><dt><span>prime_meridian_name :</span></dt><dd>Greenwich</dd><dt><span>geographic_crs_name :</span></dt><dd>ETRS89</dd><dt><span>horizontal_datum_name :</span></dt><dd>European Terrestrial Reference System 1989</dd><dt><span>projected_crs_name :</span></dt><dd>ETRS89-extended / LAEA Europe</dd><dt><span>grid_mapping_name :</span></dt><dd>lambert_azimuthal_equal_area</dd><dt><span>latitude_of_projection_origin :</span></dt><dd>52.0</dd><dt><span>longitude_of_projection_origin :</span></dt><dd>10.0</dd><dt><span>false_easting :</span></dt><dd>4321000.0</dd><dt><span>false_northing :</span></dt><dd>3210000.0</dd><dt><span>spatial_ref :</span></dt><dd>PROJCS[&quot;ETRS89-extended / LAEA Europe&quot;,GEOGCS[&quot;ETRS89&quot;,DATUM[&quot;European_Terrestrial_Reference_System_1989&quot;,SPHEROID[&quot;GRS 1980&quot;,6378137,298.257222101,AUTHORITY[&quot;EPSG&quot;,&quot;7019&quot;]],AUTHORITY[&quot;EPSG&quot;,&quot;6258&quot;]],PRIMEM[&quot;Greenwich&quot;,0,AUTHORITY[&quot;EPSG&quot;,&quot;8901&quot;]],UNIT[&quot;degree&quot;,0.0174532925199433,AUTHORITY[&quot;EPSG&quot;,&quot;9122&quot;]],AUTHORITY[&quot;EPSG&quot;,&quot;4258&quot;]],PROJECTION[&quot;Lambert_Azimuthal_Equal_Area&quot;],PARAMETER[&quot;latitude_of_center&quot;,52],PARAMETER[&quot;longitude_of_center&quot;,10],PARAMETER[&quot;false_easting&quot;,4321000],PARAMETER[&quot;false_northing&quot;,3210000],UNIT[&quot;metre&quot;,1,AUTHORITY[&quot;EPSG&quot;,&quot;9001&quot;]],AXIS[&quot;Northing&quot;,NORTH],AXIS[&quot;Easting&quot;,EAST],AUTHORITY[&quot;EPSG&quot;,&quot;3035&quot;]]</dd><dt><span>GeoTransform :</span></dt><dd>4530000.0 1500.0 0.0 2697000.0 0.0 -1500.0</dd></dl></div><div class='xr-var-data'><pre>array(0)</pre></div></li><li class='xr-var-item'><div class='xr-var-name'><span>temporal_ref</span></div><div class='xr-var-dims'>()</div><div class='xr-var-dtype'>int64</div><div class='xr-var-preview xr-preview'>0</div><input id='attrs-31aa60fe-bded-4241-9e2d-ec2978022d1c' class='xr-var-attrs-in' type='checkbox' ><label for='attrs-31aa60fe-bded-4241-9e2d-ec2978022d1c' title='Show/Hide attributes'><svg class='icon xr-icon-file-text2'><use xlink:href='#icon-file-text2'></use></svg></label><input id='data-79fa5f07-0334-4579-8306-60db755988ea' class='xr-var-data-in' type='checkbox'><label for='data-79fa5f07-0334-4579-8306-60db755988ea' title='Show/Hide data repr'><svg class='icon xr-icon-database'><use xlink:href='#icon-database'></use></svg></label><div class='xr-var-attrs'><dl class='xr-attrs'><dt><span>zone :</span></dt><dd>UTC</dd></dl></div><div class='xr-var-data'><pre>array(0)</pre></div></li><li class='xr-var-item'><div class='xr-var-name'><span class='xr-has-index'>space</span></div><div class='xr-var-dims'>(space)</div><div class='xr-var-dtype'>MultiIndex</div><div class='xr-var-preview xr-preview'>(y, x)</div><input id='attrs-2b3ba8e2-2d9e-4de5-af74-33219258b235' class='xr-var-attrs-in' type='checkbox' ><label for='attrs-2b3ba8e2-2d9e-4de5-af74-33219258b235' title='Show/Hide attributes'><svg class='icon xr-icon-file-text2'><use xlink:href='#icon-file-text2'></use></svg></label><input id='data-e8d4eeb2-c6f0-45e0-8082-08ea362583a0' class='xr-var-data-in' type='checkbox'><label for='data-e8d4eeb2-c6f0-45e0-8082-08ea362583a0' title='Show/Hide data repr'><svg class='icon xr-icon-database'><use xlink:href='#icon-database'></use></svg></label><div class='xr-var-attrs'><dl class='xr-attrs'><dt><span>value_type :</span></dt><dd>coords</dd></dl></div><div class='xr-var-data'><pre>array([(2696250.0, 4530750.0), (2696250.0, 4532250.0), (2696250.0, 4533750.0),\n",
       "       (2696250.0, 4535250.0), (2694750.0, 4530750.0), (2694750.0, 4532250.0),\n",
       "       (2694750.0, 4533750.0), (2694750.0, 4535250.0), (2693250.0, 4530750.0),\n",
       "       (2693250.0, 4532250.0), (2693250.0, 4533750.0), (2693250.0, 4535250.0),\n",
       "       (2691750.0, 4530750.0), (2691750.0, 4532250.0), (2691750.0, 4533750.0),\n",
       "       (2691750.0, 4535250.0)], dtype=object)</pre></div></li><li class='xr-var-item'><div class='xr-var-name'><span>y</span></div><div class='xr-var-dims'>(space)</div><div class='xr-var-dtype'>float64</div><div class='xr-var-preview xr-preview'>2.696e+06 2.696e+06 ... 2.692e+06</div><input id='attrs-9944df60-1c7a-477e-98c9-5732cd218612' class='xr-var-attrs-in' type='checkbox' disabled><label for='attrs-9944df60-1c7a-477e-98c9-5732cd218612' title='Show/Hide attributes'><svg class='icon xr-icon-file-text2'><use xlink:href='#icon-file-text2'></use></svg></label><input id='data-45aa9189-40c3-4554-94fd-a5ec3586e58c' class='xr-var-data-in' type='checkbox'><label for='data-45aa9189-40c3-4554-94fd-a5ec3586e58c' title='Show/Hide data repr'><svg class='icon xr-icon-database'><use xlink:href='#icon-database'></use></svg></label><div class='xr-var-attrs'><dl class='xr-attrs'></dl></div><div class='xr-var-data'><pre>array([2696250., 2696250., 2696250., 2696250., 2694750., 2694750., 2694750.,\n",
       "       2694750., 2693250., 2693250., 2693250., 2693250., 2691750., 2691750.,\n",
       "       2691750., 2691750.])</pre></div></li><li class='xr-var-item'><div class='xr-var-name'><span>x</span></div><div class='xr-var-dims'>(space)</div><div class='xr-var-dtype'>float64</div><div class='xr-var-preview xr-preview'>4.531e+06 4.532e+06 ... 4.535e+06</div><input id='attrs-321c5d02-bfae-47e5-ae64-03eca36e8cf2' class='xr-var-attrs-in' type='checkbox' disabled><label for='attrs-321c5d02-bfae-47e5-ae64-03eca36e8cf2' title='Show/Hide attributes'><svg class='icon xr-icon-file-text2'><use xlink:href='#icon-file-text2'></use></svg></label><input id='data-b076eee4-d510-455e-a632-ef237cda626a' class='xr-var-data-in' type='checkbox'><label for='data-b076eee4-d510-455e-a632-ef237cda626a' title='Show/Hide data repr'><svg class='icon xr-icon-database'><use xlink:href='#icon-database'></use></svg></label><div class='xr-var-attrs'><dl class='xr-attrs'></dl></div><div class='xr-var-data'><pre>array([4530750., 4532250., 4533750., 4535250., 4530750., 4532250., 4533750.,\n",
       "       4535250., 4530750., 4532250., 4533750., 4535250., 4530750., 4532250.,\n",
       "       4533750., 4535250.])</pre></div></li><li class='xr-var-item'><div class='xr-var-name'><span>feature</span></div><div class='xr-var-dims'>(space)</div><div class='xr-var-dtype'>float64</div><div class='xr-var-preview xr-preview'>1.0 1.0 1.0 1.0 ... 1.0 1.0 1.0 1.0</div><input id='attrs-70589ef6-05f6-4106-a260-6b02acbe2343' class='xr-var-attrs-in' type='checkbox' ><label for='attrs-70589ef6-05f6-4106-a260-6b02acbe2343' title='Show/Hide attributes'><svg class='icon xr-icon-file-text2'><use xlink:href='#icon-file-text2'></use></svg></label><input id='data-8799ce77-e4e1-4d13-834b-e6f006fa7258' class='xr-var-data-in' type='checkbox'><label for='data-8799ce77-e4e1-4d13-834b-e6f006fa7258' title='Show/Hide data repr'><svg class='icon xr-icon-database'><use xlink:href='#icon-database'></use></svg></label><div class='xr-var-attrs'><dl class='xr-attrs'><dt><span>value_type :</span></dt><dd>nominal</dd><dt><span>value_labels :</span></dt><dd>{1: &#x27;feature_1&#x27;}</dd></dl></div><div class='xr-var-data'><pre>array([1., 1., 1., 1., 1., 1., 1., 1., 1., 1., 1., 1., 1., 1., 1., 1.])</pre></div></li></ul></div></li><li class='xr-section-item'><input id='section-ea0b373d-cb7f-481b-bbd9-69bd36d01d69' class='xr-section-summary-in' type='checkbox'  checked><label for='section-ea0b373d-cb7f-481b-bbd9-69bd36d01d69' class='xr-section-summary' >Attributes: <span>(4)</span></label><div class='xr-section-inline-details'></div><div class='xr-section-details'><dl class='xr-attrs'><dt><span>scale_factor :</span></dt><dd>1.0</dd><dt><span>add_offset :</span></dt><dd>0.0</dd><dt><span>long_name :</span></dt><dd>33SharedSpCt</dd><dt><span>value_type :</span></dt><dd>binary</dd></dl></div></li></ul></div></div>"
      ],
      "text/plain": [
       "<xarray.DataArray 'vegetation' (time: 3, space: 16)>\n",
       "array([[0., 0., 0., 0., 0., 0., 0., 0., 0., 0., 0., 0., 0., 0., 0., 0.],\n",
       "       [1., 1., 1., 1., 1., 1., 0., 1., 1., 1., 0., 1., 1., 0., 1., 1.],\n",
       "       [0., 1., 0., 1., 1., 1., 0., 0., 0., 0., 0., 0., 1., 0., 0., 1.]])\n",
       "Coordinates:\n",
       "  * time          (time) datetime64[ns] 2019-12-15T10:17:33.408715 ... 2020-1...\n",
       "    spatial_ref   int64 0\n",
       "    temporal_ref  int64 0\n",
       "  * space         (space) MultiIndex\n",
       "  - y             (space) float64 2.696e+06 2.696e+06 ... 2.692e+06 2.692e+06\n",
       "  - x             (space) float64 4.531e+06 4.532e+06 ... 4.534e+06 4.535e+06\n",
       "    feature       (space) float64 1.0 1.0 1.0 1.0 1.0 ... 1.0 1.0 1.0 1.0 1.0\n",
       "Attributes:\n",
       "    scale_factor:  1.0\n",
       "    add_offset:    0.0\n",
       "    long_name:     33SharedSpCt\n",
       "    value_type:    binary"
      ]
     },
     "execution_count": 16,
     "metadata": {},
     "output_type": "execute_result"
    }
   ],
   "source": [
    "processor.handle_concept(sq.entity(\"vegetation\"))"
   ]
  },
  {
   "cell_type": "markdown",
   "id": "3619c6bd",
   "metadata": {},
   "source": [
    "### Data structures\n",
    "\n",
    "Internally the query processor uses [DataArray](http://xarray.pydata.org/en/stable/user-guide/data-structures.html#dataarray) objects from the [xarray](https://docs.xarray.dev/en/stable/) package to represent multi-dimensional arrays. It extends these objects by adding a so-called *accessor* with the name **sq**. In practice, this means that all semantique-specific methods and properties for these objects can be called on any [DataArray](http://xarray.pydata.org/en/stable/user-guide/data-structures.html#dataarray) object through the `.sq` prefix:\n",
    "\n",
    "```python\n",
    "xarray_object.sq.method()\n",
    "xarray_object.sq.property\n",
    "```\n",
    "\n",
    "Extending xarray in this way is recommended by its developers. Read more about it [here](https://docs.xarray.dev/en/stable/internals/extending-xarray.html). The semantique-specific properties for data arrays include for example the [value type](#Tracking-value-types) of the cube as well as spatio-temporal properties like the spatial resolution, the coordinate reference system in which the spatial coordinates are expressed and the time zone in which the temporal coordinates are expressed. The semantique-specific methods for data arrays include all the implemented [verbs](verbs.ipynb#Verbs-for-single-arrays), as well as other functionalities that are internally used by the query processor, such as unstacking and aligning arrays. Finally, there are methods for [conversions](#Converting-cubes-to-other-formats) to other objects or to files on disk. For all semantique specific methods and properties for data arrays, see the [API reference](https://zgis.github.io/semantique/_generated/semantique.processor.arrays.Array.html).\n",
    "\n",
    "For collections of multiple arrays, semantique contains the [Collection](https://zgis.github.io/semantique/_generated/semantique.processor.arrays.Collection.html) class. This is simply a list of [DataArray](http://xarray.pydata.org/en/stable/user-guide/data-structures.html#dataarray) objects. Its methods include the [verbs](verbs.ipynb#Verbs-for-collections-of-arrays) for array collections, as well as some single-array methods that are mapped over each member of the collection.\n",
    "\n",
    "For all specific methods and properties of these objects, see the [API reference](https://zgis.github.io/semantique/_generated/semantique.processor.structures.CubeCollection.html). To ensure compatible behaviour with single arrays, you may call all these methods and properties as well with the prefix `.sq`. However, this is not an xarray accessor, and merely provided to simplify internal code."
   ]
  },
  {
   "cell_type": "markdown",
   "id": "37f74390",
   "metadata": {},
   "source": [
    "### Tracking value types\n",
    "\n",
    "When moving through the building blocks of a query recipe, the query processor keeps track of the *value type* of the wrangled arrays. Such a value type describes what kind of data the array contains. It differs from the very technical, computer-oriented [numpy.dtype](https://numpy.org/doc/stable/reference/arrays.dtypes.html) categorization, which contains e.g. *int*, *float*, etc. Instead, the *value type* describes data on a more general, statistical level.  Currently it makes a distinction between three main value types:\n",
    "\n",
    "- Numerical\n",
    "- Nominal\n",
    "- Ordinal\n",
    "- Binary\n",
    "\n",
    "Additional value types exist for spatio-temporal data:\n",
    "\n",
    "- datetime (for timestamps)\n",
    "- coords (for spatial coordinate tuples)\n",
    "- geometry (for spatial geometries stored [GeoDataFrame](https://geopandas.org/en/stable/docs/reference/api/geopandas.GeoDataFrame.html) objects)\n",
    "  \n",
    "It is expected that whenever an array is retrieved from the EO data cube, the corresponding value type is stored as an semantique-specific array attribute [value_type](https://zgis.github.io/semantique/_generated/semantique.processor.arrays.Array.value_type.html). Even when the data are not qualitative, they are usually stored as numbers. In these cases, an additional attribute [value_labels](https://zgis.github.io/semantique/_generated/semantique.processor.arrays.Array.value_labels.html) may be used to define the mapping between character-encoded *labels* and integer-encoded *indices*."
   ]
  },
  {
   "cell_type": "code",
   "execution_count": 17,
   "id": "42f85130",
   "metadata": {},
   "outputs": [],
   "source": [
    "colors = dc.retrieve(\"appearance\", \"colortype\", extent = extent)"
   ]
  },
  {
   "cell_type": "code",
   "execution_count": 18,
   "id": "f4db7df4",
   "metadata": {},
   "outputs": [
    {
     "data": {
      "text/plain": [
       "'ordinal'"
      ]
     },
     "execution_count": 18,
     "metadata": {},
     "output_type": "execute_result"
    }
   ],
   "source": [
    "colors.sq.value_type"
   ]
  },
  {
   "cell_type": "code",
   "execution_count": 19,
   "id": "5b9f687f",
   "metadata": {},
   "outputs": [
    {
     "data": {
      "text/plain": [
       "{1: 'SVHNIR',\n",
       " 2: 'SVLNIR',\n",
       " 3: 'AVHNIR',\n",
       " 4: 'AVLNIR',\n",
       " 5: 'WV',\n",
       " 6: 'SHV',\n",
       " 7: 'SHRBRHNIR',\n",
       " 8: 'SHRBRLNIR',\n",
       " 9: 'HRBCR',\n",
       " 10: 'WR',\n",
       " 11: 'PB',\n",
       " 12: 'GH',\n",
       " 13: 'VBBB',\n",
       " 14: 'BBB',\n",
       " 15: 'SBB',\n",
       " 16: 'ABB',\n",
       " 17: 'DBB',\n",
       " 18: 'WBBorSHB',\n",
       " 19: 'NIRPBB',\n",
       " 20: 'BA',\n",
       " 21: 'DPWASH',\n",
       " 22: 'SLWASH',\n",
       " 23: 'TWASH',\n",
       " 24: 'SASLWA',\n",
       " 27: 'TNCLV',\n",
       " 28: 'TNCLWA_BB',\n",
       " 29: 'SN',\n",
       " 30: 'SHSN',\n",
       " 31: 'SH',\n",
       " 32: 'FLAME'}"
      ]
     },
     "execution_count": 19,
     "metadata": {},
     "output_type": "execute_result"
    }
   ],
   "source": [
    "colors.sq.value_labels"
   ]
  },
  {
   "cell_type": "code",
   "execution_count": 20,
   "id": "ec7533c6",
   "metadata": {},
   "outputs": [],
   "source": [
    "water = mapping.translate(\"entity\", \"water\", extent = extent, datacube = dc)"
   ]
  },
  {
   "cell_type": "code",
   "execution_count": 21,
   "id": "e3a7c09c",
   "metadata": {},
   "outputs": [
    {
     "data": {
      "text/plain": [
       "'binary'"
      ]
     },
     "execution_count": 21,
     "metadata": {},
     "output_type": "execute_result"
    }
   ],
   "source": [
    "water.sq.value_type"
   ]
  },
  {
   "cell_type": "markdown",
   "id": "64842104",
   "metadata": {},
   "source": [
    "Whenever applying actions to an array, its value type might change. For example, when evaluating an expression (e.g. when evaluating an expression involving a comparison operator the resulting values are always binary) or applying a reducer (e.g. when counting the number of \"true\" values in a binary array the resulting values are numerical). This is what we also call **type promotion**. Each implemented operator and reducer function is able to promote the type of the output given the type(s) of the input(s) by using a type promotion manual.\n",
    "\n",
    "A common type promotion manual for a univariate operator and a reducer has a dictionary structure with as keys the supported input value types. The value of each key is the output value type. For example, the [count()](https://zgis.github.io/semantique/_generated/semantique.processor.reducers.count_.html) reducer should only be applied to arrays containing binary data, since it counts the number of \"true\" values. The output of that operation, however, is a array with numerical data. Hence, the corresponding type promotion manual looks like this:"
   ]
  },
  {
   "cell_type": "code",
   "execution_count": 22,
   "id": "2ca900f8",
   "metadata": {},
   "outputs": [],
   "source": [
    "from semantique.processor.types import TYPE_PROMOTION_MANUALS"
   ]
  },
  {
   "cell_type": "code",
   "execution_count": 23,
   "id": "4631ff49",
   "metadata": {},
   "outputs": [
    {
     "data": {
      "text/plain": [
       "{'binary': 'numerical', '__preserve_labels__': 0}"
      ]
     },
     "execution_count": 23,
     "metadata": {},
     "output_type": "execute_result"
    }
   ],
   "source": [
    "TYPE_PROMOTION_MANUALS[\"count\"]"
   ]
  },
  {
   "cell_type": "markdown",
   "id": "fd4317df",
   "metadata": {},
   "source": [
    "The additional key \"preserve_labels\" defines if value labels should be preserved after the reducer is applied, with 0 being \"no\" and 1 being \"yes\".\n",
    "\n",
    "The reduction function will apply the type promotion whenever `track_types = True`, which is the default. When we apply the count reducer to a binary array, this means the value type of the output will be numerical:"
   ]
  },
  {
   "cell_type": "code",
   "execution_count": 24,
   "id": "8b20e14e",
   "metadata": {},
   "outputs": [],
   "source": [
    "from semantique.processor import reducers"
   ]
  },
  {
   "cell_type": "code",
   "execution_count": 25,
   "id": "b197606f",
   "metadata": {},
   "outputs": [
    {
     "data": {
      "text/plain": [
       "'numerical'"
      ]
     },
     "execution_count": 25,
     "metadata": {},
     "output_type": "execute_result"
    }
   ],
   "source": [
    "new = water.sq.reduce(reducers.count_, \"time\")\n",
    "new.sq.value_type"
   ]
  },
  {
   "cell_type": "markdown",
   "id": "80e9514c",
   "metadata": {},
   "source": [
    "Now, when we call this reducer function on e.g. an ordinal array instead of a binary array, an [InvalidValueTypeError](https://zgis.github.io/semantique/_generated/semantique.exceptions.InvalidValueTypeError.html) will be thrown. Hence, the query processor uses type tracking also to *check* type promotions, and thus, to detect invalid operations."
   ]
  },
  {
   "cell_type": "code",
   "execution_count": 26,
   "id": "43f89775",
   "metadata": {},
   "outputs": [],
   "source": [
    "from semantique.exceptions import InvalidValueTypeError"
   ]
  },
  {
   "cell_type": "code",
   "execution_count": 27,
   "id": "2db84cfa",
   "metadata": {},
   "outputs": [
    {
     "name": "stdout",
     "output_type": "stream",
     "text": [
      "Unsupported operand value type(s) for 'count': ['ordinal']\n"
     ]
    }
   ],
   "source": [
    "try:\n",
    "    colors.sq.reduce(reducers.count_, \"time\")\n",
    "except InvalidValueTypeError as e:\n",
    "    print(e)"
   ]
  },
  {
   "cell_type": "markdown",
   "id": "1e873d8a",
   "metadata": {},
   "source": [
    "This will not happen when `track_types = False`. In that case, value types are not tracked and the output array has no value type at all."
   ]
  },
  {
   "cell_type": "code",
   "execution_count": 28,
   "id": "5727500b",
   "metadata": {},
   "outputs": [
    {
     "data": {
      "text/plain": [
       "False"
      ]
     },
     "execution_count": 28,
     "metadata": {},
     "output_type": "execute_result"
    }
   ],
   "source": [
    "new = colors.sq.reduce(reducers.count_, \"time\", track_types = False)\n",
    "\"value_type\" in new.attrs"
   ]
  },
  {
   "cell_type": "markdown",
   "id": "a12e752e",
   "metadata": {},
   "source": [
    "For bivariate expressions, the type promotion manuals have an extra \"layer\" for the second operand. The first layer of keys refers to the value type of the first operand (i.e. x) and the second layer of keys to the value type of the second operand (i.e. y). For example, the boolean operator [and()](https://zgis.github.io/semantique/_generated/semantique.processor.operators.and_.html) accepts only arrays with binary values, and returns binary values as well. Hence, the corresponding type promotion manual looks like this:"
   ]
  },
  {
   "cell_type": "code",
   "execution_count": 29,
   "id": "d8f10820",
   "metadata": {},
   "outputs": [
    {
     "data": {
      "text/plain": [
       "{'binary': {'binary': 'binary'}, '__preserve_labels__': 1}"
      ]
     },
     "execution_count": 29,
     "metadata": {},
     "output_type": "execute_result"
    }
   ],
   "source": [
    "TYPE_PROMOTION_MANUALS[\"and\"]"
   ]
  },
  {
   "cell_type": "markdown",
   "id": "f36acf8a",
   "metadata": {},
   "source": [
    "In the case of these bivariate operators, the \"preserve_labels\" key may also have a value of 2, meaning that instead of the labels of the first operand, the labels of the second operand should be preserved (this is the case e.g. with the [assign()](https://zgis.github.io/semantique/_generated/semantique.processor.operators.assign_.html) operator).\n",
    "\n",
    "Just as with the reducers, the operators promote the value type of the output based on the manual, and throw an error if a combination of types is not supported."
   ]
  },
  {
   "cell_type": "code",
   "execution_count": 30,
   "id": "6afc04bf",
   "metadata": {},
   "outputs": [],
   "source": [
    "from semantique.processor import operators"
   ]
  },
  {
   "cell_type": "code",
   "execution_count": 31,
   "id": "cfcb844d",
   "metadata": {},
   "outputs": [
    {
     "data": {
      "text/plain": [
       "'binary'"
      ]
     },
     "execution_count": 31,
     "metadata": {},
     "output_type": "execute_result"
    }
   ],
   "source": [
    "new = water.sq.evaluate(operators.and_, water)\n",
    "new.sq.value_type"
   ]
  },
  {
   "cell_type": "code",
   "execution_count": 32,
   "id": "82a450d6",
   "metadata": {},
   "outputs": [
    {
     "name": "stdout",
     "output_type": "stream",
     "text": [
      "Unsupported operand value type(s) for 'and': ['ordinal', 'binary']\n"
     ]
    }
   ],
   "source": [
    "try:\n",
    "    colors.sq.evaluate(operators.and_, water)\n",
    "except InvalidValueTypeError as e:\n",
    "    print(e)"
   ]
  },
  {
   "cell_type": "markdown",
   "id": "a47bbce6",
   "metadata": {},
   "source": [
    "If the second operand in a bivariate expression is not an array but a single value, its value type is determined based on its [numpy data type](https://numpy.org/doc/stable/reference/arrays.dtypes.html). In semantique, each of these numpy data types is mapped to one or more semantique value types. In the case of a mapping to multiple value types, all operations supporting at least one of these types will accept the value. "
   ]
  },
  {
   "cell_type": "code",
   "execution_count": 33,
   "id": "81f5cfb8",
   "metadata": {},
   "outputs": [],
   "source": [
    "from semantique.processor.types import DTYPE_MAPPING"
   ]
  },
  {
   "cell_type": "code",
   "execution_count": 34,
   "id": "d2b57816",
   "metadata": {},
   "outputs": [
    {
     "data": {
      "text/plain": [
       "{'b': 'binary',\n",
       " 'i': ['numerical', 'ordinal', 'nominal'],\n",
       " 'u': ['numerical', 'ordinal', 'nominal'],\n",
       " 'f': 'numerical',\n",
       " 'M': 'datetime',\n",
       " 'O': ['ordinal', 'nominal'],\n",
       " 'U': ['ordinal', 'nominal']}"
      ]
     },
     "execution_count": 34,
     "metadata": {},
     "output_type": "execute_result"
    }
   ],
   "source": [
    "DTYPE_MAPPING"
   ]
  },
  {
   "cell_type": "code",
   "execution_count": 35,
   "id": "1dd34a78",
   "metadata": {},
   "outputs": [
    {
     "data": {
      "text/plain": [
       "'binary'"
      ]
     },
     "execution_count": 35,
     "metadata": {},
     "output_type": "execute_result"
    }
   ],
   "source": [
    "new = water.sq.evaluate(operators.and_, True)\n",
    "new.sq.value_type"
   ]
  },
  {
   "cell_type": "markdown",
   "id": "d67f6b9b",
   "metadata": {},
   "source": [
    "Inside the reducer and operator functions, an instance of the [TypePromoter](https://zgis.github.io/semantique/_generated/semantique.processor.types.TypePromoter.html) class is the worker that actually takes care of the type promotion. It can be initialized by providing it with the operand(s) of the process, and the name of the function. Then, it will find the type promotion manual belonging to that function. Alternatively (e.g. when you add your own reducers or operators, see the next sections) you can provide it your own custom type promotion manual.\n",
    "\n",
    "The promoter can determine the value types of the operands and check if they are supported by the operation. Subsequently, it can promote the value type of the operation output."
   ]
  },
  {
   "cell_type": "code",
   "execution_count": 36,
   "id": "ed2db6a9",
   "metadata": {},
   "outputs": [],
   "source": [
    "from semantique.processor.types import TypePromoter"
   ]
  },
  {
   "cell_type": "code",
   "execution_count": 37,
   "id": "11a2118d",
   "metadata": {},
   "outputs": [],
   "source": [
    "promoter = TypePromoter(water, colors, function = \"and\")"
   ]
  },
  {
   "cell_type": "code",
   "execution_count": 38,
   "id": "2b18c55f",
   "metadata": {},
   "outputs": [
    {
     "name": "stdout",
     "output_type": "stream",
     "text": [
      "Unsupported operand value type(s) for 'and': ['binary', 'ordinal']\n"
     ]
    }
   ],
   "source": [
    "try:\n",
    "    promoter.check()\n",
    "except InvalidValueTypeError as e:\n",
    "    print(e)"
   ]
  },
  {
   "cell_type": "code",
   "execution_count": 39,
   "id": "1f0bc8d6",
   "metadata": {},
   "outputs": [],
   "source": [
    "promoter = TypePromoter(water, water, function = \"and\")"
   ]
  },
  {
   "cell_type": "code",
   "execution_count": 40,
   "id": "f9299a26",
   "metadata": {},
   "outputs": [],
   "source": [
    "promoter.check()"
   ]
  },
  {
   "cell_type": "code",
   "execution_count": 41,
   "id": "7ea7bafb",
   "metadata": {},
   "outputs": [
    {
     "data": {
      "text/html": [
       "<div><svg style=\"position: absolute; width: 0; height: 0; overflow: hidden\">\n",
       "<defs>\n",
       "<symbol id=\"icon-database\" viewBox=\"0 0 32 32\">\n",
       "<path d=\"M16 0c-8.837 0-16 2.239-16 5v4c0 2.761 7.163 5 16 5s16-2.239 16-5v-4c0-2.761-7.163-5-16-5z\"></path>\n",
       "<path d=\"M16 17c-8.837 0-16-2.239-16-5v6c0 2.761 7.163 5 16 5s16-2.239 16-5v-6c0 2.761-7.163 5-16 5z\"></path>\n",
       "<path d=\"M16 26c-8.837 0-16-2.239-16-5v6c0 2.761 7.163 5 16 5s16-2.239 16-5v-6c0 2.761-7.163 5-16 5z\"></path>\n",
       "</symbol>\n",
       "<symbol id=\"icon-file-text2\" viewBox=\"0 0 32 32\">\n",
       "<path d=\"M28.681 7.159c-0.694-0.947-1.662-2.053-2.724-3.116s-2.169-2.030-3.116-2.724c-1.612-1.182-2.393-1.319-2.841-1.319h-15.5c-1.378 0-2.5 1.121-2.5 2.5v27c0 1.378 1.122 2.5 2.5 2.5h23c1.378 0 2.5-1.122 2.5-2.5v-19.5c0-0.448-0.137-1.23-1.319-2.841zM24.543 5.457c0.959 0.959 1.712 1.825 2.268 2.543h-4.811v-4.811c0.718 0.556 1.584 1.309 2.543 2.268zM28 29.5c0 0.271-0.229 0.5-0.5 0.5h-23c-0.271 0-0.5-0.229-0.5-0.5v-27c0-0.271 0.229-0.5 0.5-0.5 0 0 15.499-0 15.5 0v7c0 0.552 0.448 1 1 1h7v19.5z\"></path>\n",
       "<path d=\"M23 26h-14c-0.552 0-1-0.448-1-1s0.448-1 1-1h14c0.552 0 1 0.448 1 1s-0.448 1-1 1z\"></path>\n",
       "<path d=\"M23 22h-14c-0.552 0-1-0.448-1-1s0.448-1 1-1h14c0.552 0 1 0.448 1 1s-0.448 1-1 1z\"></path>\n",
       "<path d=\"M23 18h-14c-0.552 0-1-0.448-1-1s0.448-1 1-1h14c0.552 0 1 0.448 1 1s-0.448 1-1 1z\"></path>\n",
       "</symbol>\n",
       "</defs>\n",
       "</svg>\n",
       "<style>/* CSS stylesheet for displaying xarray objects in jupyterlab.\n",
       " *\n",
       " */\n",
       "\n",
       ":root {\n",
       "  --xr-font-color0: var(--jp-content-font-color0, rgba(0, 0, 0, 1));\n",
       "  --xr-font-color2: var(--jp-content-font-color2, rgba(0, 0, 0, 0.54));\n",
       "  --xr-font-color3: var(--jp-content-font-color3, rgba(0, 0, 0, 0.38));\n",
       "  --xr-border-color: var(--jp-border-color2, #e0e0e0);\n",
       "  --xr-disabled-color: var(--jp-layout-color3, #bdbdbd);\n",
       "  --xr-background-color: var(--jp-layout-color0, white);\n",
       "  --xr-background-color-row-even: var(--jp-layout-color1, white);\n",
       "  --xr-background-color-row-odd: var(--jp-layout-color2, #eeeeee);\n",
       "}\n",
       "\n",
       "html[theme=dark],\n",
       "body.vscode-dark {\n",
       "  --xr-font-color0: rgba(255, 255, 255, 1);\n",
       "  --xr-font-color2: rgba(255, 255, 255, 0.54);\n",
       "  --xr-font-color3: rgba(255, 255, 255, 0.38);\n",
       "  --xr-border-color: #1F1F1F;\n",
       "  --xr-disabled-color: #515151;\n",
       "  --xr-background-color: #111111;\n",
       "  --xr-background-color-row-even: #111111;\n",
       "  --xr-background-color-row-odd: #313131;\n",
       "}\n",
       "\n",
       ".xr-wrap {\n",
       "  display: block !important;\n",
       "  min-width: 300px;\n",
       "  max-width: 700px;\n",
       "}\n",
       "\n",
       ".xr-text-repr-fallback {\n",
       "  /* fallback to plain text repr when CSS is not injected (untrusted notebook) */\n",
       "  display: none;\n",
       "}\n",
       "\n",
       ".xr-header {\n",
       "  padding-top: 6px;\n",
       "  padding-bottom: 6px;\n",
       "  margin-bottom: 4px;\n",
       "  border-bottom: solid 1px var(--xr-border-color);\n",
       "}\n",
       "\n",
       ".xr-header > div,\n",
       ".xr-header > ul {\n",
       "  display: inline;\n",
       "  margin-top: 0;\n",
       "  margin-bottom: 0;\n",
       "}\n",
       "\n",
       ".xr-obj-type,\n",
       ".xr-array-name {\n",
       "  margin-left: 2px;\n",
       "  margin-right: 10px;\n",
       "}\n",
       "\n",
       ".xr-obj-type {\n",
       "  color: var(--xr-font-color2);\n",
       "}\n",
       "\n",
       ".xr-sections {\n",
       "  padding-left: 0 !important;\n",
       "  display: grid;\n",
       "  grid-template-columns: 150px auto auto 1fr 20px 20px;\n",
       "}\n",
       "\n",
       ".xr-section-item {\n",
       "  display: contents;\n",
       "}\n",
       "\n",
       ".xr-section-item input {\n",
       "  display: none;\n",
       "}\n",
       "\n",
       ".xr-section-item input + label {\n",
       "  color: var(--xr-disabled-color);\n",
       "}\n",
       "\n",
       ".xr-section-item input:enabled + label {\n",
       "  cursor: pointer;\n",
       "  color: var(--xr-font-color2);\n",
       "}\n",
       "\n",
       ".xr-section-item input:enabled + label:hover {\n",
       "  color: var(--xr-font-color0);\n",
       "}\n",
       "\n",
       ".xr-section-summary {\n",
       "  grid-column: 1;\n",
       "  color: var(--xr-font-color2);\n",
       "  font-weight: 500;\n",
       "}\n",
       "\n",
       ".xr-section-summary > span {\n",
       "  display: inline-block;\n",
       "  padding-left: 0.5em;\n",
       "}\n",
       "\n",
       ".xr-section-summary-in:disabled + label {\n",
       "  color: var(--xr-font-color2);\n",
       "}\n",
       "\n",
       ".xr-section-summary-in + label:before {\n",
       "  display: inline-block;\n",
       "  content: '►';\n",
       "  font-size: 11px;\n",
       "  width: 15px;\n",
       "  text-align: center;\n",
       "}\n",
       "\n",
       ".xr-section-summary-in:disabled + label:before {\n",
       "  color: var(--xr-disabled-color);\n",
       "}\n",
       "\n",
       ".xr-section-summary-in:checked + label:before {\n",
       "  content: '▼';\n",
       "}\n",
       "\n",
       ".xr-section-summary-in:checked + label > span {\n",
       "  display: none;\n",
       "}\n",
       "\n",
       ".xr-section-summary,\n",
       ".xr-section-inline-details {\n",
       "  padding-top: 4px;\n",
       "  padding-bottom: 4px;\n",
       "}\n",
       "\n",
       ".xr-section-inline-details {\n",
       "  grid-column: 2 / -1;\n",
       "}\n",
       "\n",
       ".xr-section-details {\n",
       "  display: none;\n",
       "  grid-column: 1 / -1;\n",
       "  margin-bottom: 5px;\n",
       "}\n",
       "\n",
       ".xr-section-summary-in:checked ~ .xr-section-details {\n",
       "  display: contents;\n",
       "}\n",
       "\n",
       ".xr-array-wrap {\n",
       "  grid-column: 1 / -1;\n",
       "  display: grid;\n",
       "  grid-template-columns: 20px auto;\n",
       "}\n",
       "\n",
       ".xr-array-wrap > label {\n",
       "  grid-column: 1;\n",
       "  vertical-align: top;\n",
       "}\n",
       "\n",
       ".xr-preview {\n",
       "  color: var(--xr-font-color3);\n",
       "}\n",
       "\n",
       ".xr-array-preview,\n",
       ".xr-array-data {\n",
       "  padding: 0 5px !important;\n",
       "  grid-column: 2;\n",
       "}\n",
       "\n",
       ".xr-array-data,\n",
       ".xr-array-in:checked ~ .xr-array-preview {\n",
       "  display: none;\n",
       "}\n",
       "\n",
       ".xr-array-in:checked ~ .xr-array-data,\n",
       ".xr-array-preview {\n",
       "  display: inline-block;\n",
       "}\n",
       "\n",
       ".xr-dim-list {\n",
       "  display: inline-block !important;\n",
       "  list-style: none;\n",
       "  padding: 0 !important;\n",
       "  margin: 0;\n",
       "}\n",
       "\n",
       ".xr-dim-list li {\n",
       "  display: inline-block;\n",
       "  padding: 0;\n",
       "  margin: 0;\n",
       "}\n",
       "\n",
       ".xr-dim-list:before {\n",
       "  content: '(';\n",
       "}\n",
       "\n",
       ".xr-dim-list:after {\n",
       "  content: ')';\n",
       "}\n",
       "\n",
       ".xr-dim-list li:not(:last-child):after {\n",
       "  content: ',';\n",
       "  padding-right: 5px;\n",
       "}\n",
       "\n",
       ".xr-has-index {\n",
       "  font-weight: bold;\n",
       "}\n",
       "\n",
       ".xr-var-list,\n",
       ".xr-var-item {\n",
       "  display: contents;\n",
       "}\n",
       "\n",
       ".xr-var-item > div,\n",
       ".xr-var-item label,\n",
       ".xr-var-item > .xr-var-name span {\n",
       "  background-color: var(--xr-background-color-row-even);\n",
       "  margin-bottom: 0;\n",
       "}\n",
       "\n",
       ".xr-var-item > .xr-var-name:hover span {\n",
       "  padding-right: 5px;\n",
       "}\n",
       "\n",
       ".xr-var-list > li:nth-child(odd) > div,\n",
       ".xr-var-list > li:nth-child(odd) > label,\n",
       ".xr-var-list > li:nth-child(odd) > .xr-var-name span {\n",
       "  background-color: var(--xr-background-color-row-odd);\n",
       "}\n",
       "\n",
       ".xr-var-name {\n",
       "  grid-column: 1;\n",
       "}\n",
       "\n",
       ".xr-var-dims {\n",
       "  grid-column: 2;\n",
       "}\n",
       "\n",
       ".xr-var-dtype {\n",
       "  grid-column: 3;\n",
       "  text-align: right;\n",
       "  color: var(--xr-font-color2);\n",
       "}\n",
       "\n",
       ".xr-var-preview {\n",
       "  grid-column: 4;\n",
       "}\n",
       "\n",
       ".xr-var-name,\n",
       ".xr-var-dims,\n",
       ".xr-var-dtype,\n",
       ".xr-preview,\n",
       ".xr-attrs dt {\n",
       "  white-space: nowrap;\n",
       "  overflow: hidden;\n",
       "  text-overflow: ellipsis;\n",
       "  padding-right: 10px;\n",
       "}\n",
       "\n",
       ".xr-var-name:hover,\n",
       ".xr-var-dims:hover,\n",
       ".xr-var-dtype:hover,\n",
       ".xr-attrs dt:hover {\n",
       "  overflow: visible;\n",
       "  width: auto;\n",
       "  z-index: 1;\n",
       "}\n",
       "\n",
       ".xr-var-attrs,\n",
       ".xr-var-data {\n",
       "  display: none;\n",
       "  background-color: var(--xr-background-color) !important;\n",
       "  padding-bottom: 5px !important;\n",
       "}\n",
       "\n",
       ".xr-var-attrs-in:checked ~ .xr-var-attrs,\n",
       ".xr-var-data-in:checked ~ .xr-var-data {\n",
       "  display: block;\n",
       "}\n",
       "\n",
       ".xr-var-data > table {\n",
       "  float: right;\n",
       "}\n",
       "\n",
       ".xr-var-name span,\n",
       ".xr-var-data,\n",
       ".xr-attrs {\n",
       "  padding-left: 25px !important;\n",
       "}\n",
       "\n",
       ".xr-attrs,\n",
       ".xr-var-attrs,\n",
       ".xr-var-data {\n",
       "  grid-column: 1 / -1;\n",
       "}\n",
       "\n",
       "dl.xr-attrs {\n",
       "  padding: 0;\n",
       "  margin: 0;\n",
       "  display: grid;\n",
       "  grid-template-columns: 125px auto;\n",
       "}\n",
       "\n",
       ".xr-attrs dt,\n",
       ".xr-attrs dd {\n",
       "  padding: 0;\n",
       "  margin: 0;\n",
       "  float: left;\n",
       "  padding-right: 10px;\n",
       "  width: auto;\n",
       "}\n",
       "\n",
       ".xr-attrs dt {\n",
       "  font-weight: normal;\n",
       "  grid-column: 1;\n",
       "}\n",
       "\n",
       ".xr-attrs dt:hover span {\n",
       "  display: inline-block;\n",
       "  background: var(--xr-background-color);\n",
       "  padding-right: 10px;\n",
       "}\n",
       "\n",
       ".xr-attrs dd {\n",
       "  grid-column: 2;\n",
       "  white-space: pre-wrap;\n",
       "  word-break: break-all;\n",
       "}\n",
       "\n",
       ".xr-icon-database,\n",
       ".xr-icon-file-text2 {\n",
       "  display: inline-block;\n",
       "  vertical-align: middle;\n",
       "  width: 1em;\n",
       "  height: 1.5em !important;\n",
       "  stroke-width: 0;\n",
       "  stroke: currentColor;\n",
       "  fill: currentColor;\n",
       "}\n",
       "</style><pre class='xr-text-repr-fallback'>&lt;xarray.DataArray &#x27;water&#x27; (time: 3, space: 16)&gt;\n",
       "array([[0., 0., 0., 0., 0., 0., 0., 0., 0., 0., 0., 0., 0., 0., 0., 0.],\n",
       "       [0., 0., 0., 0., 0., 0., 0., 0., 0., 0., 1., 0., 0., 0., 0., 0.],\n",
       "       [1., 0., 0., 0., 0., 0., 0., 1., 1., 0., 0., 0., 0., 0., 0., 0.]])\n",
       "Coordinates:\n",
       "  * time          (time) datetime64[ns] 2019-12-15T10:17:33.408715 ... 2020-1...\n",
       "    spatial_ref   int64 0\n",
       "    temporal_ref  int64 0\n",
       "  * space         (space) MultiIndex\n",
       "  - y             (space) float64 2.696e+06 2.696e+06 ... 2.692e+06 2.692e+06\n",
       "  - x             (space) float64 4.531e+06 4.532e+06 ... 4.534e+06 4.535e+06\n",
       "    feature       (space) float64 1.0 1.0 1.0 1.0 1.0 ... 1.0 1.0 1.0 1.0 1.0\n",
       "Attributes:\n",
       "    scale_factor:  1.0\n",
       "    add_offset:    0.0\n",
       "    long_name:     33SharedSpCt\n",
       "    value_type:    binary</pre><div class='xr-wrap' style='display:none'><div class='xr-header'><div class='xr-obj-type'>xarray.DataArray</div><div class='xr-array-name'>'water'</div><ul class='xr-dim-list'><li><span class='xr-has-index'>time</span>: 3</li><li><span class='xr-has-index'>space</span>: 16</li></ul></div><ul class='xr-sections'><li class='xr-section-item'><div class='xr-array-wrap'><input id='section-2989055b-ba7f-40e4-989f-cf44a9141783' class='xr-array-in' type='checkbox' checked><label for='section-2989055b-ba7f-40e4-989f-cf44a9141783' title='Show/hide data repr'><svg class='icon xr-icon-database'><use xlink:href='#icon-database'></use></svg></label><div class='xr-array-preview xr-preview'><span>0.0 0.0 0.0 0.0 0.0 0.0 0.0 0.0 ... 1.0 0.0 0.0 0.0 0.0 0.0 0.0 0.0</span></div><div class='xr-array-data'><pre>array([[0., 0., 0., 0., 0., 0., 0., 0., 0., 0., 0., 0., 0., 0., 0., 0.],\n",
       "       [0., 0., 0., 0., 0., 0., 0., 0., 0., 0., 1., 0., 0., 0., 0., 0.],\n",
       "       [1., 0., 0., 0., 0., 0., 0., 1., 1., 0., 0., 0., 0., 0., 0., 0.]])</pre></div></div></li><li class='xr-section-item'><input id='section-f4573b19-d506-421d-bd76-da56dce50067' class='xr-section-summary-in' type='checkbox'  checked><label for='section-f4573b19-d506-421d-bd76-da56dce50067' class='xr-section-summary' >Coordinates: <span>(5)</span></label><div class='xr-section-inline-details'></div><div class='xr-section-details'><ul class='xr-var-list'><li class='xr-var-item'><div class='xr-var-name'><span class='xr-has-index'>time</span></div><div class='xr-var-dims'>(time)</div><div class='xr-var-dtype'>datetime64[ns]</div><div class='xr-var-preview xr-preview'>2019-12-15T10:17:33.408715 ... 2...</div><input id='attrs-5184275f-ef0d-457d-bba2-4ade39b93abe' class='xr-var-attrs-in' type='checkbox' ><label for='attrs-5184275f-ef0d-457d-bba2-4ade39b93abe' title='Show/Hide attributes'><svg class='icon xr-icon-file-text2'><use xlink:href='#icon-file-text2'></use></svg></label><input id='data-8a47e7c4-9af6-46ab-a619-db271b65b75c' class='xr-var-data-in' type='checkbox'><label for='data-8a47e7c4-9af6-46ab-a619-db271b65b75c' title='Show/Hide data repr'><svg class='icon xr-icon-database'><use xlink:href='#icon-database'></use></svg></label><div class='xr-var-attrs'><dl class='xr-attrs'><dt><span>value_type :</span></dt><dd>datetime</dd></dl></div><div class='xr-var-data'><pre>array([&#x27;2019-12-15T10:17:33.408715000&#x27;, &#x27;2020-09-05T10:17:43.167942000&#x27;,\n",
       "       &#x27;2020-12-19T10:17:34.610661000&#x27;], dtype=&#x27;datetime64[ns]&#x27;)</pre></div></li><li class='xr-var-item'><div class='xr-var-name'><span>spatial_ref</span></div><div class='xr-var-dims'>()</div><div class='xr-var-dtype'>int64</div><div class='xr-var-preview xr-preview'>0</div><input id='attrs-4ed411b7-80be-48bc-b586-4fb300c8c969' class='xr-var-attrs-in' type='checkbox' ><label for='attrs-4ed411b7-80be-48bc-b586-4fb300c8c969' title='Show/Hide attributes'><svg class='icon xr-icon-file-text2'><use xlink:href='#icon-file-text2'></use></svg></label><input id='data-ae3da13e-b6da-4987-bafb-aaa9c16131ee' class='xr-var-data-in' type='checkbox'><label for='data-ae3da13e-b6da-4987-bafb-aaa9c16131ee' title='Show/Hide data repr'><svg class='icon xr-icon-database'><use xlink:href='#icon-database'></use></svg></label><div class='xr-var-attrs'><dl class='xr-attrs'><dt><span>crs_wkt :</span></dt><dd>PROJCS[&quot;ETRS89-extended / LAEA Europe&quot;,GEOGCS[&quot;ETRS89&quot;,DATUM[&quot;European_Terrestrial_Reference_System_1989&quot;,SPHEROID[&quot;GRS 1980&quot;,6378137,298.257222101,AUTHORITY[&quot;EPSG&quot;,&quot;7019&quot;]],AUTHORITY[&quot;EPSG&quot;,&quot;6258&quot;]],PRIMEM[&quot;Greenwich&quot;,0,AUTHORITY[&quot;EPSG&quot;,&quot;8901&quot;]],UNIT[&quot;degree&quot;,0.0174532925199433,AUTHORITY[&quot;EPSG&quot;,&quot;9122&quot;]],AUTHORITY[&quot;EPSG&quot;,&quot;4258&quot;]],PROJECTION[&quot;Lambert_Azimuthal_Equal_Area&quot;],PARAMETER[&quot;latitude_of_center&quot;,52],PARAMETER[&quot;longitude_of_center&quot;,10],PARAMETER[&quot;false_easting&quot;,4321000],PARAMETER[&quot;false_northing&quot;,3210000],UNIT[&quot;metre&quot;,1,AUTHORITY[&quot;EPSG&quot;,&quot;9001&quot;]],AXIS[&quot;Northing&quot;,NORTH],AXIS[&quot;Easting&quot;,EAST],AUTHORITY[&quot;EPSG&quot;,&quot;3035&quot;]]</dd><dt><span>semi_major_axis :</span></dt><dd>6378137.0</dd><dt><span>semi_minor_axis :</span></dt><dd>6356752.314140356</dd><dt><span>inverse_flattening :</span></dt><dd>298.257222101</dd><dt><span>reference_ellipsoid_name :</span></dt><dd>GRS 1980</dd><dt><span>longitude_of_prime_meridian :</span></dt><dd>0.0</dd><dt><span>prime_meridian_name :</span></dt><dd>Greenwich</dd><dt><span>geographic_crs_name :</span></dt><dd>ETRS89</dd><dt><span>horizontal_datum_name :</span></dt><dd>European Terrestrial Reference System 1989</dd><dt><span>projected_crs_name :</span></dt><dd>ETRS89-extended / LAEA Europe</dd><dt><span>grid_mapping_name :</span></dt><dd>lambert_azimuthal_equal_area</dd><dt><span>latitude_of_projection_origin :</span></dt><dd>52.0</dd><dt><span>longitude_of_projection_origin :</span></dt><dd>10.0</dd><dt><span>false_easting :</span></dt><dd>4321000.0</dd><dt><span>false_northing :</span></dt><dd>3210000.0</dd><dt><span>spatial_ref :</span></dt><dd>PROJCS[&quot;ETRS89-extended / LAEA Europe&quot;,GEOGCS[&quot;ETRS89&quot;,DATUM[&quot;European_Terrestrial_Reference_System_1989&quot;,SPHEROID[&quot;GRS 1980&quot;,6378137,298.257222101,AUTHORITY[&quot;EPSG&quot;,&quot;7019&quot;]],AUTHORITY[&quot;EPSG&quot;,&quot;6258&quot;]],PRIMEM[&quot;Greenwich&quot;,0,AUTHORITY[&quot;EPSG&quot;,&quot;8901&quot;]],UNIT[&quot;degree&quot;,0.0174532925199433,AUTHORITY[&quot;EPSG&quot;,&quot;9122&quot;]],AUTHORITY[&quot;EPSG&quot;,&quot;4258&quot;]],PROJECTION[&quot;Lambert_Azimuthal_Equal_Area&quot;],PARAMETER[&quot;latitude_of_center&quot;,52],PARAMETER[&quot;longitude_of_center&quot;,10],PARAMETER[&quot;false_easting&quot;,4321000],PARAMETER[&quot;false_northing&quot;,3210000],UNIT[&quot;metre&quot;,1,AUTHORITY[&quot;EPSG&quot;,&quot;9001&quot;]],AXIS[&quot;Northing&quot;,NORTH],AXIS[&quot;Easting&quot;,EAST],AUTHORITY[&quot;EPSG&quot;,&quot;3035&quot;]]</dd><dt><span>GeoTransform :</span></dt><dd>4530000.0 1500.0 0.0 2697000.0 0.0 -1500.0</dd></dl></div><div class='xr-var-data'><pre>array(0)</pre></div></li><li class='xr-var-item'><div class='xr-var-name'><span>temporal_ref</span></div><div class='xr-var-dims'>()</div><div class='xr-var-dtype'>int64</div><div class='xr-var-preview xr-preview'>0</div><input id='attrs-dc32c994-1f8e-4783-9311-c0d8408aec15' class='xr-var-attrs-in' type='checkbox' ><label for='attrs-dc32c994-1f8e-4783-9311-c0d8408aec15' title='Show/Hide attributes'><svg class='icon xr-icon-file-text2'><use xlink:href='#icon-file-text2'></use></svg></label><input id='data-56e0e6c4-4c63-4d80-a36a-1f297c5293c4' class='xr-var-data-in' type='checkbox'><label for='data-56e0e6c4-4c63-4d80-a36a-1f297c5293c4' title='Show/Hide data repr'><svg class='icon xr-icon-database'><use xlink:href='#icon-database'></use></svg></label><div class='xr-var-attrs'><dl class='xr-attrs'><dt><span>zone :</span></dt><dd>UTC</dd></dl></div><div class='xr-var-data'><pre>array(0)</pre></div></li><li class='xr-var-item'><div class='xr-var-name'><span class='xr-has-index'>space</span></div><div class='xr-var-dims'>(space)</div><div class='xr-var-dtype'>MultiIndex</div><div class='xr-var-preview xr-preview'>(y, x)</div><input id='attrs-dfa1eab9-b613-4b1e-836b-ecb38dc30dcf' class='xr-var-attrs-in' type='checkbox' ><label for='attrs-dfa1eab9-b613-4b1e-836b-ecb38dc30dcf' title='Show/Hide attributes'><svg class='icon xr-icon-file-text2'><use xlink:href='#icon-file-text2'></use></svg></label><input id='data-58715076-752d-43bb-99e0-fb75a30eff87' class='xr-var-data-in' type='checkbox'><label for='data-58715076-752d-43bb-99e0-fb75a30eff87' title='Show/Hide data repr'><svg class='icon xr-icon-database'><use xlink:href='#icon-database'></use></svg></label><div class='xr-var-attrs'><dl class='xr-attrs'><dt><span>value_type :</span></dt><dd>coords</dd></dl></div><div class='xr-var-data'><pre>array([(2696250.0, 4530750.0), (2696250.0, 4532250.0), (2696250.0, 4533750.0),\n",
       "       (2696250.0, 4535250.0), (2694750.0, 4530750.0), (2694750.0, 4532250.0),\n",
       "       (2694750.0, 4533750.0), (2694750.0, 4535250.0), (2693250.0, 4530750.0),\n",
       "       (2693250.0, 4532250.0), (2693250.0, 4533750.0), (2693250.0, 4535250.0),\n",
       "       (2691750.0, 4530750.0), (2691750.0, 4532250.0), (2691750.0, 4533750.0),\n",
       "       (2691750.0, 4535250.0)], dtype=object)</pre></div></li><li class='xr-var-item'><div class='xr-var-name'><span>y</span></div><div class='xr-var-dims'>(space)</div><div class='xr-var-dtype'>float64</div><div class='xr-var-preview xr-preview'>2.696e+06 2.696e+06 ... 2.692e+06</div><input id='attrs-c577ba9f-6172-4ffb-8fe9-fc840862a1b4' class='xr-var-attrs-in' type='checkbox' disabled><label for='attrs-c577ba9f-6172-4ffb-8fe9-fc840862a1b4' title='Show/Hide attributes'><svg class='icon xr-icon-file-text2'><use xlink:href='#icon-file-text2'></use></svg></label><input id='data-ff6bdc65-3f84-44ca-9821-ea43ec05ec0e' class='xr-var-data-in' type='checkbox'><label for='data-ff6bdc65-3f84-44ca-9821-ea43ec05ec0e' title='Show/Hide data repr'><svg class='icon xr-icon-database'><use xlink:href='#icon-database'></use></svg></label><div class='xr-var-attrs'><dl class='xr-attrs'></dl></div><div class='xr-var-data'><pre>array([2696250., 2696250., 2696250., 2696250., 2694750., 2694750., 2694750.,\n",
       "       2694750., 2693250., 2693250., 2693250., 2693250., 2691750., 2691750.,\n",
       "       2691750., 2691750.])</pre></div></li><li class='xr-var-item'><div class='xr-var-name'><span>x</span></div><div class='xr-var-dims'>(space)</div><div class='xr-var-dtype'>float64</div><div class='xr-var-preview xr-preview'>4.531e+06 4.532e+06 ... 4.535e+06</div><input id='attrs-56947df5-d703-43ed-9b47-e1dc065405be' class='xr-var-attrs-in' type='checkbox' disabled><label for='attrs-56947df5-d703-43ed-9b47-e1dc065405be' title='Show/Hide attributes'><svg class='icon xr-icon-file-text2'><use xlink:href='#icon-file-text2'></use></svg></label><input id='data-f5004a6a-3198-4788-84d4-96fe94976eb6' class='xr-var-data-in' type='checkbox'><label for='data-f5004a6a-3198-4788-84d4-96fe94976eb6' title='Show/Hide data repr'><svg class='icon xr-icon-database'><use xlink:href='#icon-database'></use></svg></label><div class='xr-var-attrs'><dl class='xr-attrs'></dl></div><div class='xr-var-data'><pre>array([4530750., 4532250., 4533750., 4535250., 4530750., 4532250., 4533750.,\n",
       "       4535250., 4530750., 4532250., 4533750., 4535250., 4530750., 4532250.,\n",
       "       4533750., 4535250.])</pre></div></li><li class='xr-var-item'><div class='xr-var-name'><span>feature</span></div><div class='xr-var-dims'>(space)</div><div class='xr-var-dtype'>float64</div><div class='xr-var-preview xr-preview'>1.0 1.0 1.0 1.0 ... 1.0 1.0 1.0 1.0</div><input id='attrs-91fb8922-c660-417f-9fde-d239188615da' class='xr-var-attrs-in' type='checkbox' ><label for='attrs-91fb8922-c660-417f-9fde-d239188615da' title='Show/Hide attributes'><svg class='icon xr-icon-file-text2'><use xlink:href='#icon-file-text2'></use></svg></label><input id='data-b8006eef-a766-4613-944b-14d8f6b63292' class='xr-var-data-in' type='checkbox'><label for='data-b8006eef-a766-4613-944b-14d8f6b63292' title='Show/Hide data repr'><svg class='icon xr-icon-database'><use xlink:href='#icon-database'></use></svg></label><div class='xr-var-attrs'><dl class='xr-attrs'><dt><span>value_type :</span></dt><dd>nominal</dd><dt><span>value_labels :</span></dt><dd>{1: &#x27;feature_1&#x27;}</dd></dl></div><div class='xr-var-data'><pre>array([1., 1., 1., 1., 1., 1., 1., 1., 1., 1., 1., 1., 1., 1., 1., 1.])</pre></div></li></ul></div></li><li class='xr-section-item'><input id='section-80ff82a4-e4c3-4244-9a6e-bb4b4e814bff' class='xr-section-summary-in' type='checkbox'  checked><label for='section-80ff82a4-e4c3-4244-9a6e-bb4b4e814bff' class='xr-section-summary' >Attributes: <span>(4)</span></label><div class='xr-section-inline-details'></div><div class='xr-section-details'><dl class='xr-attrs'><dt><span>scale_factor :</span></dt><dd>1.0</dd><dt><span>add_offset :</span></dt><dd>0.0</dd><dt><span>long_name :</span></dt><dd>33SharedSpCt</dd><dt><span>value_type :</span></dt><dd>binary</dd></dl></div></li></ul></div></div>"
      ],
      "text/plain": [
       "<xarray.DataArray 'water' (time: 3, space: 16)>\n",
       "array([[0., 0., 0., 0., 0., 0., 0., 0., 0., 0., 0., 0., 0., 0., 0., 0.],\n",
       "       [0., 0., 0., 0., 0., 0., 0., 0., 0., 0., 1., 0., 0., 0., 0., 0.],\n",
       "       [1., 0., 0., 0., 0., 0., 0., 1., 1., 0., 0., 0., 0., 0., 0., 0.]])\n",
       "Coordinates:\n",
       "  * time          (time) datetime64[ns] 2019-12-15T10:17:33.408715 ... 2020-1...\n",
       "    spatial_ref   int64 0\n",
       "    temporal_ref  int64 0\n",
       "  * space         (space) MultiIndex\n",
       "  - y             (space) float64 2.696e+06 2.696e+06 ... 2.692e+06 2.692e+06\n",
       "  - x             (space) float64 4.531e+06 4.532e+06 ... 4.534e+06 4.535e+06\n",
       "    feature       (space) float64 1.0 1.0 1.0 1.0 1.0 ... 1.0 1.0 1.0 1.0 1.0\n",
       "Attributes:\n",
       "    scale_factor:  1.0\n",
       "    add_offset:    0.0\n",
       "    long_name:     33SharedSpCt\n",
       "    value_type:    binary"
      ]
     },
     "execution_count": 41,
     "metadata": {},
     "output_type": "execute_result"
    }
   ],
   "source": [
    "promoter.promote(new)"
   ]
  },
  {
   "cell_type": "markdown",
   "id": "577b0edb",
   "metadata": {},
   "source": [
    "Now what if you don't want the query processor to track types at all? There are several reasons why you'd want to do so. For example, type tracking can be so strict that it limits your flexibility of using certain processes \"out of the box\". Some EO data cube layouts may not specify value types at all, and some custom operators or reducers that you use may not have any type promotion manual. Also, type tracking of course takes time and thus decreases query performance. No worries, it is easy to tell the query processor to *not* track types. Simply add the configuration parameter \"track_types\" when initializing the query processor, and set its value to `False`:\n",
    "\n",
    "```python\n",
    "context[\"track_types\"] = False\n",
    "```"
   ]
  },
  {
   "cell_type": "markdown",
   "id": "333d48db",
   "metadata": {},
   "source": [
    "### Adding custom operators\n",
    "\n",
    "Operators are used when evaluating expressions on arrays with the [evaluate()](https://zgis.github.io/semantique/_notebooks/verbs.html#Evaluate) verb. For example, you can compare each value in an array with a given constant (using e.g. the [greater()](https://zgis.github.io/semantique/_generated/semantique.processor.operators.greater_.html) operator), add two arrays together (using the [add()](https://zgis.github.io/semantique/_generated/semantique.processor.operators.add_.html) operator), etcetera. When creating a query recipe, you can refer to these operators by their name, for example:\n",
    "\n",
    "```python\n",
    "sq.result(\"water_count\").evaluate(\"multiply\", 2)\n",
    "```\n",
    "\n",
    "The query processor instance has a [operators](https://zgis.github.io/semantique/_generated/semantique.processor.core.QueryProcessor.operators.html) property in \n",
    "which it stores all supported operator functions. The keys of this dictionary are the operator names, such that the query processor can quickly retrieve the corresponding function of any referenced operator in the query recipe. For example:"
   ]
  },
  {
   "cell_type": "code",
   "execution_count": 42,
   "id": "1cca9a9b",
   "metadata": {},
   "outputs": [
    {
     "data": {
      "text/plain": [
       "<function semantique.processor.operators.multiply_(x, y, track_types=True, **kwargs)>"
      ]
     },
     "execution_count": 42,
     "metadata": {},
     "output_type": "execute_result"
    }
   ],
   "source": [
    "processor.operators[\"multiply\"]"
   ]
  },
  {
   "cell_type": "markdown",
   "id": "58c35a9e",
   "metadata": {},
   "source": [
    "As can be seen, the operator function itself is taken from the [operators module](https://zgis.github.io/semantique/reference.html#operator-functions) of semantique. This is the module in which all built-in operator functions are defined. When initializing a query processor with default settings, these are the operators that get stored in the processors [operators](https://zgis.github.io/semantique/_generated/semantique.processor.core.QueryProcessor.operators.html) property. That all operator functions are stored inside a property of the query processor means that you can easily overwrite them with your own custom operator functions (or add new ones to the list of existing ones) when initializing a query processor instance.\n",
    "\n",
    "But let us first prepare a custom operator. This requires a name, an operator function and a type promotion manual. If you plan to disable type tracking either way, the latter is of course not needed. An operator function has to accept a [DataArray](http://xarray.pydata.org/en/stable/user-guide/data-structures.html#dataarray) object as its first argument. This is the *active evaluation object* in the processing chain, to which the verb is applied. Bivariate operators also accept a second argument, which can either be a [DataArray](http://xarray.pydata.org/en/stable/user-guide/data-structures.html#dataarray) object as well, or a single value. The return value of the operator must again be a [DataArray](http://xarray.pydata.org/en/stable/user-guide/data-structures.html#dataarray) object. Usually it is a good idea to use the [xarray.apply_ufunc()](http://xarray.pydata.org/en/stable/generated/xarray.apply_ufunc.html) function inside operator functions, as shown below. Also, you should not forget to [align](#Aligning-cubes-to-each-other) the second operand to the input object before applying the core operation!\n",
    "\n",
    "It is also possible to implement operator functions with more than two operands. All additional keyword arguments that the evaluate verb receives are simply forwarded to the operator function. You could for example build a query recipe like the following:\n",
    "\n",
    "```python\n",
    "sq.result(\"water_count\").evaluate(\"custom\", y = 1, foo = 10, bar = 100)\n",
    "```\n",
    "\n",
    "You then need to implement an operator with four arguments:\n",
    "\n",
    "```python\n",
    "def custom(x, y, foo, bar)\n",
    "```\n",
    "\n",
    "If you want to [track value types](#Tracking-value-types), the custom operator should also have a binary \"track_types\" argument. Inside the function, the type promotion should be applied whenever the \"track_types\" argument is set to `True`. You can create your own type promotion manual and provide it to the [TypePromoter](https://zgis.github.io/semantique/_generated/semantique.processor.types.TypePromoter.html) instance through the \"manual\" argument, or use the type promotion manual of a built-in operator function by providing the name of that function through the \"function\" argument.\n",
    "\n",
    "Lets create a custom operator that calculates the modulus of two arrays."
   ]
  },
  {
   "cell_type": "code",
   "execution_count": 43,
   "id": "981e88c2",
   "metadata": {},
   "outputs": [],
   "source": [
    "def modulus(x, y, track_types = True, **kwargs):\n",
    "    if track_types:\n",
    "        manual = {\"numerical\": {\"numerical\": \"numerical\"}, \"__preserve_labels\": 0}\n",
    "        promoter = TypePromoter(x, y, manual = manual)\n",
    "        promoter.check()\n",
    "    f = lambda x, y: np.mod(x, y)\n",
    "    y = xr.DataArray(y).sq.align_with(x)\n",
    "    out = xr.apply_ufunc(f, x, y)\n",
    "    if track_types:\n",
    "        out = promoter.promote(out)\n",
    "    return out"
   ]
  },
  {
   "cell_type": "markdown",
   "id": "fea30c37",
   "metadata": {},
   "source": [
    "When executing a query recipe, we can now add this operator to the configuration parameters. There are two ways. Setting the \"operators\" parameter will fully replace the default operators with the custom one(s).\n",
    "\n",
    "```python\n",
    "context[\"operators\"] = {\"modulus\": modulus}\n",
    "```\n",
    "\n",
    "Setting the \"extra_operators\" parameter will add the custom operator(s) to the default ones. If a custom operator has the same name as a default operator, the default operator will be replaced by the custom operator.\n",
    "\n",
    "```python\n",
    "context[\"extra_operators\"] = {\"modulus\": modulus}\n",
    "```."
   ]
  },
  {
   "cell_type": "code",
   "execution_count": 44,
   "id": "8c445120",
   "metadata": {},
   "outputs": [],
   "source": [
    "new_recipe = sq.QueryRecipe()\n",
    "new_context = copy.deepcopy(context)\n",
    "\n",
    "red = sq.reflectance(\"s2_band04\")\n",
    "nir = sq.reflectance(\"s2_band08\")\n",
    "\n",
    "new_recipe[\"mod\"] = nir.evaluate(\"modulus\", red).evaluate(\"floor\")"
   ]
  },
  {
   "cell_type": "code",
   "execution_count": 45,
   "id": "ec6ea19b",
   "metadata": {},
   "outputs": [],
   "source": [
    "from semantique.exceptions import UnknownOperatorError"
   ]
  },
  {
   "cell_type": "code",
   "execution_count": 46,
   "id": "68aad367",
   "metadata": {},
   "outputs": [
    {
     "name": "stdout",
     "output_type": "stream",
     "text": [
      "Operator 'modulus' is not defined\n"
     ]
    }
   ],
   "source": [
    "try:\n",
    "    print(new_recipe.execute(**new_context)[\"mod\"])\n",
    "except UnknownOperatorError as e:\n",
    "    print(e)"
   ]
  },
  {
   "cell_type": "code",
   "execution_count": 47,
   "id": "73abfe4d",
   "metadata": {},
   "outputs": [],
   "source": [
    "new_context[\"extra_operators\"] = {\"modulus\": modulus}"
   ]
  },
  {
   "cell_type": "code",
   "execution_count": 48,
   "id": "a2b2d8f7",
   "metadata": {},
   "outputs": [
    {
     "name": "stdout",
     "output_type": "stream",
     "text": [
      "<xarray.DataArray 'mod' (time: 3, y: 4, x: 4)>\n",
      "array([[[ 434.,  530.,  553.,  856.],\n",
      "        [ 499.,  725.,  291.,  378.],\n",
      "        [ 427.,  530., 2690.,  310.],\n",
      "        [ 644.,  231.,  317.,  656.]],\n",
      "\n",
      "       [[ 211.,  273.,  195.,  255.],\n",
      "        [ 245.,   61.,  367.,  229.],\n",
      "        [ 210.,   20.,  188.,  288.],\n",
      "        [  77.,  709.,  136.,  172.]],\n",
      "\n",
      "       [[ 314.,  161.,  737.,  101.],\n",
      "        [ 752.,  340.,  409.,  247.],\n",
      "        [ 344.,  724., 1085.,   64.],\n",
      "        [ 387., 1549.,  556.,  369.]]])\n",
      "Coordinates:\n",
      "  * time          (time) datetime64[ns] 2019-12-15T10:17:33.408715 ... 2020-1...\n",
      "    spatial_ref   int64 0\n",
      "    temporal_ref  int64 0\n",
      "    feature       (y, x) float64 1.0 1.0 1.0 1.0 1.0 1.0 ... 1.0 1.0 1.0 1.0 1.0\n",
      "  * y             (y) float64 2.696e+06 2.695e+06 2.693e+06 2.692e+06\n",
      "  * x             (x) float64 4.531e+06 4.532e+06 4.534e+06 4.535e+06\n",
      "Attributes:\n",
      "    value_type:  numerical\n"
     ]
    }
   ],
   "source": [
    "try:\n",
    "    print(new_recipe.execute(**new_context)[\"mod\"])\n",
    "except UnknownOperatorError as e:\n",
    "    print(e)"
   ]
  },
  {
   "cell_type": "markdown",
   "id": "712f9439",
   "metadata": {},
   "source": [
    "## Adding custom reducers\n",
    "\n",
    "Reducers are used inside the [reduce()](https://zgis.github.io/semantique/_notebooks/verbs.html#Reduce) verb as a function to aggregate values along a dimension of an array. For example, you can reduce the temporal dimension of an array by calculating the average value of each slice along the time dimension axis (using the [mean()](https://zgis.github.io/semantique/_generated/semantique.processor.reducers.mean_.html) reducer), etcetera. When creating a query recipe, you can refer to these reducers by their name, for example:\n",
    "\n",
    "```python\n",
    "sq.result(\"water_count_space\").reduce(\"mean\", \"time\")\n",
    "```\n",
    "\n",
    "The query processor instance has a [reducers](https://zgis.github.io/semantique/_generated/semantique.processor.core.QueryProcessor.reducers.html) property in which it stores all supported reducer functions. The keys of this dictionary are the reducer names, such that the query processor can quickly retrieve the corresponding function of any referenced reducer in the query recipe. For example:"
   ]
  },
  {
   "cell_type": "code",
   "execution_count": 49,
   "id": "4d4dc02b",
   "metadata": {},
   "outputs": [
    {
     "data": {
      "text/plain": [
       "<function semantique.processor.reducers.mean_(x, track_types=True, **kwargs)>"
      ]
     },
     "execution_count": 49,
     "metadata": {},
     "output_type": "execute_result"
    }
   ],
   "source": [
    "processor.reducers[\"mean\"]"
   ]
  },
  {
   "cell_type": "markdown",
   "id": "f0b0732e",
   "metadata": {},
   "source": [
    "As can be seen, the reducer function itself is taken from the [reducers module](https://zgis.github.io/semantique/reference.html#reducer-functions) of semantique. This is the module in which all built-in reducer functions are defined. When initializing a query processor with default settings, these are the reducers that get stored in the processors [reducers](https://zgis.github.io/semantique/_generated/semantique.processor.core.QueryProcessor.reducers.html) property. That all reducer functions are stored inside a property of the query processor means that you can easily overwrite them with your own custom reducer functions (or add new ones to the list of existing ones) when initializing a query processor instance.\n",
    "\n",
    "But let us first prepare a custom reducer. This requires a name, a reducer function and a type promotion manual. If you plan to disable type tracking either way, the latter is of course not needed. A reducer function has to accept a [DataArray](http://xarray.pydata.org/en/stable/user-guide/data-structures.html#dataarray) object as its first argument. This is the *active evaluation object* in the processing chain, to which the verb is applied. The return value of the reducer must again be a [DataArray](http://xarray.pydata.org/en/stable/user-guide/data-structures.html#dataarray) object. Usually it is a good idea to use the [xarray.reduce()](http://xarray.pydata.org/en/stable/generated/xarray.DataArray.reduce.html) method inside reducer functions, as shown below. This function will take care e.g. of translating the dimension name (if provided) into its corresponding axis number.\n",
    "\n",
    "A reducer function also needs to accept additional keyword arguments. Two of them are \"reserved\", and should never be used for a custom argument: \"dim\" for the name of the dimension to reduce over, and \"axis\" for the axis number belonging to that dimension. All other keyword arguments are simply forwarded to the reducer function. That allows you to include additional variables in your reducer functions (e.g. constants).\n",
    "\n",
    "If you want to [track value types](#Tracking-value-types), the custom reducer should also have a binary \"track_types\" argument. Inside the function, the type promotion should be applied whenever the \"track_types\" argument is set to `True`. You can create your own type promotion manual and provide it to the [TypePromoter](https://zgis.github.io/semantique/_generated/semantique.processor.types.TypePromoter.html) instance through the \"manual\" argument, or use the type promotion manual of a built-in reducer function by providing the name of that function through the \"function\" argument.\n",
    "\n",
    "Lets create a custom operator that reduces a set of values to its sum of squares."
   ]
  },
  {
   "cell_type": "code",
   "execution_count": 50,
   "id": "26f1d7a1",
   "metadata": {},
   "outputs": [],
   "source": [
    "def sum_of_squares(x, track_types = False, **kwargs):\n",
    "    if track_types:\n",
    "        promoter = TypePromoter(x, function = \"sum\")\n",
    "        promoter.check()\n",
    "    f = lambda x, axis = None: np.sum(np.square(x), axis)\n",
    "    out = x.reduce(f, **kwargs)\n",
    "    if track_types:\n",
    "        promoter.promote(out)\n",
    "    return out"
   ]
  },
  {
   "cell_type": "markdown",
   "id": "42c74777",
   "metadata": {},
   "source": [
    "When executing a query recipe, we can now add this reducer to the configuration parameters. There are two ways. Setting the \"reducers\" parameter will fully replace the default reducers with the custom one(s).\n",
    "\n",
    "```python\n",
    "context[\"reducers\"] = {\"sum_of_squares\": sum_of_squares}\n",
    "```\n",
    "\n",
    "Setting the \"extra_reducers\" parameter will add the custom reducer(s) to the default ones. If a custom reducer has the same name as a default reducer, the default reducer will be replaced by the custom reducer.\n",
    "\n",
    "```python\n",
    "context[\"extra_reducers\"] = {\"sum_of_squares\": sum_of_squares}\n",
    "```"
   ]
  },
  {
   "cell_type": "code",
   "execution_count": 51,
   "id": "9f7b29c2",
   "metadata": {},
   "outputs": [],
   "source": [
    "new_recipe = sq.QueryRecipe()\n",
    "new_context = copy.deepcopy(context)\n",
    "\n",
    "nir = sq.reflectance(\"s2_band08\")\n",
    "\n",
    "new_recipe[\"foo\"] = nir.reduce(\"sum_of_squares\", \"space\")"
   ]
  },
  {
   "cell_type": "code",
   "execution_count": 52,
   "id": "3c895ebe",
   "metadata": {},
   "outputs": [],
   "source": [
    "from semantique.exceptions import UnknownReducerError"
   ]
  },
  {
   "cell_type": "code",
   "execution_count": 53,
   "id": "9074655c",
   "metadata": {},
   "outputs": [
    {
     "name": "stdout",
     "output_type": "stream",
     "text": [
      "Reducer 'sum_of_squares' is not defined\n"
     ]
    }
   ],
   "source": [
    "try:\n",
    "    print(new_recipe.execute(**new_context)[\"foo\"])\n",
    "except UnknownReducerError as e:\n",
    "    print(e)"
   ]
  },
  {
   "cell_type": "code",
   "execution_count": 54,
   "id": "0d0cdd49",
   "metadata": {},
   "outputs": [],
   "source": [
    "new_context[\"extra_reducers\"] = {\"sum_of_squares\": sum_of_squares}"
   ]
  },
  {
   "cell_type": "code",
   "execution_count": 55,
   "id": "4f7f23c2",
   "metadata": {},
   "outputs": [
    {
     "name": "stdout",
     "output_type": "stream",
     "text": [
      "<xarray.DataArray 'foo' (time: 3)>\n",
      "array([2.1983427e+08, 5.3802670e+07, 3.9970504e+07])\n",
      "Coordinates:\n",
      "  * time          (time) datetime64[ns] 2019-12-15T10:17:33.408715 ... 2020-1...\n",
      "    spatial_ref   int64 0\n",
      "    temporal_ref  int64 0\n",
      "Attributes:\n",
      "    value_type:  numerical\n"
     ]
    }
   ],
   "source": [
    "try:\n",
    "    print(new_recipe.execute(**new_context)[\"foo\"])\n",
    "except UnknownReducerError as e:\n",
    "    print(e)"
   ]
  },
  {
   "cell_type": "markdown",
   "id": "8d200a80",
   "metadata": {},
   "source": [
    "## Query response\n",
    "\n",
    "To return the response, the query processor contains the [respond()](https://zgis.github.io/semantique/_generated/semantique.processor.core.QueryProcessor.respond.html) method. This method post-processes the output array of each result by unstacking its spatial dimension (which was stacked into a multi-indexed \"space\" dimension during processing), and then returns the response dictionary."
   ]
  },
  {
   "cell_type": "code",
   "execution_count": 56,
   "id": "a84c0be2",
   "metadata": {},
   "outputs": [],
   "source": [
    "response = processor.respond()"
   ]
  },
  {
   "cell_type": "code",
   "execution_count": 57,
   "id": "2859860e",
   "metadata": {},
   "outputs": [
    {
     "data": {
      "text/plain": [
       "{'blue_map': <xarray.DataArray 'blue_map' (y: 4, x: 4)>\n",
       " array([[1., 0., 0., 0.],\n",
       "        [0., 0., 0., 1.],\n",
       "        [1., 0., 1., 0.],\n",
       "        [0., 0., 0., 0.]])\n",
       " Coordinates:\n",
       "     spatial_ref   int64 0\n",
       "     temporal_ref  int64 0\n",
       "     feature       (y, x) float64 1.0 1.0 1.0 1.0 1.0 1.0 ... 1.0 1.0 1.0 1.0 1.0\n",
       "   * y             (y) float64 2.696e+06 2.695e+06 2.693e+06 2.692e+06\n",
       "   * x             (x) float64 4.531e+06 4.532e+06 4.534e+06 4.535e+06\n",
       " Attributes:\n",
       "     value_type:  numerical,\n",
       " 'green_map': <xarray.DataArray 'green_map' (y: 4, x: 4)>\n",
       " array([[1., 2., 1., 2.],\n",
       "        [2., 2., 0., 1.],\n",
       "        [1., 1., 0., 1.],\n",
       "        [2., 0., 1., 2.]])\n",
       " Coordinates:\n",
       "     spatial_ref   int64 0\n",
       "     temporal_ref  int64 0\n",
       "     feature       (y, x) float64 1.0 1.0 1.0 1.0 1.0 1.0 ... 1.0 1.0 1.0 1.0 1.0\n",
       "   * y             (y) float64 2.696e+06 2.695e+06 2.693e+06 2.692e+06\n",
       "   * x             (x) float64 4.531e+06 4.532e+06 4.534e+06 4.535e+06\n",
       " Attributes:\n",
       "     value_type:  numerical,\n",
       " 'blue_curve': <xarray.DataArray 'blue_curve' (time: 3)>\n",
       " array([0., 1., 3.])\n",
       " Coordinates:\n",
       "   * time          (time) datetime64[ns] 2019-12-15T10:17:33.408715 ... 2020-1...\n",
       "     spatial_ref   int64 0\n",
       "     temporal_ref  int64 0\n",
       " Attributes:\n",
       "     value_type:  numerical,\n",
       " 'green_curve': <xarray.DataArray 'green_curve' (time: 3)>\n",
       " array([ 0., 13.,  6.])\n",
       " Coordinates:\n",
       "   * time          (time) datetime64[ns] 2019-12-15T10:17:33.408715 ... 2020-1...\n",
       "     spatial_ref   int64 0\n",
       "     temporal_ref  int64 0\n",
       " Attributes:\n",
       "     value_type:  numerical,\n",
       " 'blue_stat': <xarray.DataArray 'blue_stat' ()>\n",
       " array(4.)\n",
       " Coordinates:\n",
       "     spatial_ref   int64 0\n",
       "     temporal_ref  int64 0\n",
       " Attributes:\n",
       "     value_type:  numerical,\n",
       " 'green_stat': <xarray.DataArray 'green_stat' ()>\n",
       " array(19.)\n",
       " Coordinates:\n",
       "     spatial_ref   int64 0\n",
       "     temporal_ref  int64 0\n",
       " Attributes:\n",
       "     value_type:  numerical}"
      ]
     },
     "execution_count": 57,
     "metadata": {},
     "output_type": "execute_result"
    }
   ],
   "source": [
    "response"
   ]
  },
  {
   "cell_type": "markdown",
   "id": "2b4c9b58",
   "metadata": {},
   "source": [
    "### Exporting the response\n",
    "\n",
    "Each array in the response is a [DataArray](http://xarray.pydata.org/en/stable/user-guide/data-structures.html#dataarray) object, and can thus be further processed with one of the many functions that the [xarray](https://docs.xarray.dev/en/stable/) package has to offer. It is also possible to convert a response to another format. Semantique contains functions to convert an array to a [DataFrame](https://pandas.pydata.org/docs/reference/api/pandas.DataFrame.html) object from the [pandas](https://pandas.pydata.org/) package, and to a [GeoDataFrame](https://geopandas.org/docs/reference/api/geopandas.GeoDataFrame.html) object from the [geopandas](https://geopandas.org/en/stable/) package (requires spatial dimensions). These conversion methods can be called through the [sq-accessor](#Data-structures) of the arrays."
   ]
  },
  {
   "cell_type": "code",
   "execution_count": 58,
   "id": "130ba09c",
   "metadata": {},
   "outputs": [
    {
     "data": {
      "text/html": [
       "<div>\n",
       "<style scoped>\n",
       "    .dataframe tbody tr th:only-of-type {\n",
       "        vertical-align: middle;\n",
       "    }\n",
       "\n",
       "    .dataframe tbody tr th {\n",
       "        vertical-align: top;\n",
       "    }\n",
       "\n",
       "    .dataframe thead th {\n",
       "        text-align: right;\n",
       "    }\n",
       "</style>\n",
       "<table border=\"1\" class=\"dataframe\">\n",
       "  <thead>\n",
       "    <tr style=\"text-align: right;\">\n",
       "      <th></th>\n",
       "      <th>blue_curve</th>\n",
       "    </tr>\n",
       "    <tr>\n",
       "      <th>time</th>\n",
       "      <th></th>\n",
       "    </tr>\n",
       "  </thead>\n",
       "  <tbody>\n",
       "    <tr>\n",
       "      <th>2019-12-15 10:17:33.408715</th>\n",
       "      <td>0.0</td>\n",
       "    </tr>\n",
       "    <tr>\n",
       "      <th>2020-09-05 10:17:43.167942</th>\n",
       "      <td>1.0</td>\n",
       "    </tr>\n",
       "    <tr>\n",
       "      <th>2020-12-19 10:17:34.610661</th>\n",
       "      <td>3.0</td>\n",
       "    </tr>\n",
       "  </tbody>\n",
       "</table>\n",
       "</div>"
      ],
      "text/plain": [
       "                            blue_curve\n",
       "time                                  \n",
       "2019-12-15 10:17:33.408715         0.0\n",
       "2020-09-05 10:17:43.167942         1.0\n",
       "2020-12-19 10:17:34.610661         3.0"
      ]
     },
     "execution_count": 58,
     "metadata": {},
     "output_type": "execute_result"
    }
   ],
   "source": [
    "response[\"blue_curve\"].sq.to_dataframe()"
   ]
  },
  {
   "cell_type": "code",
   "execution_count": 59,
   "id": "d4871fd4",
   "metadata": {},
   "outputs": [
    {
     "data": {
      "text/html": [
       "<div>\n",
       "<style scoped>\n",
       "    .dataframe tbody tr th:only-of-type {\n",
       "        vertical-align: middle;\n",
       "    }\n",
       "\n",
       "    .dataframe tbody tr th {\n",
       "        vertical-align: top;\n",
       "    }\n",
       "\n",
       "    .dataframe thead th {\n",
       "        text-align: right;\n",
       "    }\n",
       "</style>\n",
       "<table border=\"1\" class=\"dataframe\">\n",
       "  <thead>\n",
       "    <tr style=\"text-align: right;\">\n",
       "      <th></th>\n",
       "      <th>y</th>\n",
       "      <th>x</th>\n",
       "      <th>blue_map</th>\n",
       "      <th>geometry</th>\n",
       "    </tr>\n",
       "  </thead>\n",
       "  <tbody>\n",
       "    <tr>\n",
       "      <th>0</th>\n",
       "      <td>2696250.0</td>\n",
       "      <td>4530750.0</td>\n",
       "      <td>1.0</td>\n",
       "      <td>POINT (4530750.000 2696250.000)</td>\n",
       "    </tr>\n",
       "    <tr>\n",
       "      <th>1</th>\n",
       "      <td>2696250.0</td>\n",
       "      <td>4532250.0</td>\n",
       "      <td>0.0</td>\n",
       "      <td>POINT (4532250.000 2696250.000)</td>\n",
       "    </tr>\n",
       "    <tr>\n",
       "      <th>2</th>\n",
       "      <td>2696250.0</td>\n",
       "      <td>4533750.0</td>\n",
       "      <td>0.0</td>\n",
       "      <td>POINT (4533750.000 2696250.000)</td>\n",
       "    </tr>\n",
       "    <tr>\n",
       "      <th>3</th>\n",
       "      <td>2696250.0</td>\n",
       "      <td>4535250.0</td>\n",
       "      <td>0.0</td>\n",
       "      <td>POINT (4535250.000 2696250.000)</td>\n",
       "    </tr>\n",
       "    <tr>\n",
       "      <th>4</th>\n",
       "      <td>2694750.0</td>\n",
       "      <td>4530750.0</td>\n",
       "      <td>0.0</td>\n",
       "      <td>POINT (4530750.000 2694750.000)</td>\n",
       "    </tr>\n",
       "    <tr>\n",
       "      <th>5</th>\n",
       "      <td>2694750.0</td>\n",
       "      <td>4532250.0</td>\n",
       "      <td>0.0</td>\n",
       "      <td>POINT (4532250.000 2694750.000)</td>\n",
       "    </tr>\n",
       "    <tr>\n",
       "      <th>6</th>\n",
       "      <td>2694750.0</td>\n",
       "      <td>4533750.0</td>\n",
       "      <td>0.0</td>\n",
       "      <td>POINT (4533750.000 2694750.000)</td>\n",
       "    </tr>\n",
       "    <tr>\n",
       "      <th>7</th>\n",
       "      <td>2694750.0</td>\n",
       "      <td>4535250.0</td>\n",
       "      <td>1.0</td>\n",
       "      <td>POINT (4535250.000 2694750.000)</td>\n",
       "    </tr>\n",
       "    <tr>\n",
       "      <th>8</th>\n",
       "      <td>2693250.0</td>\n",
       "      <td>4530750.0</td>\n",
       "      <td>1.0</td>\n",
       "      <td>POINT (4530750.000 2693250.000)</td>\n",
       "    </tr>\n",
       "    <tr>\n",
       "      <th>9</th>\n",
       "      <td>2693250.0</td>\n",
       "      <td>4532250.0</td>\n",
       "      <td>0.0</td>\n",
       "      <td>POINT (4532250.000 2693250.000)</td>\n",
       "    </tr>\n",
       "    <tr>\n",
       "      <th>10</th>\n",
       "      <td>2693250.0</td>\n",
       "      <td>4533750.0</td>\n",
       "      <td>1.0</td>\n",
       "      <td>POINT (4533750.000 2693250.000)</td>\n",
       "    </tr>\n",
       "    <tr>\n",
       "      <th>11</th>\n",
       "      <td>2693250.0</td>\n",
       "      <td>4535250.0</td>\n",
       "      <td>0.0</td>\n",
       "      <td>POINT (4535250.000 2693250.000)</td>\n",
       "    </tr>\n",
       "    <tr>\n",
       "      <th>12</th>\n",
       "      <td>2691750.0</td>\n",
       "      <td>4530750.0</td>\n",
       "      <td>0.0</td>\n",
       "      <td>POINT (4530750.000 2691750.000)</td>\n",
       "    </tr>\n",
       "    <tr>\n",
       "      <th>13</th>\n",
       "      <td>2691750.0</td>\n",
       "      <td>4532250.0</td>\n",
       "      <td>0.0</td>\n",
       "      <td>POINT (4532250.000 2691750.000)</td>\n",
       "    </tr>\n",
       "    <tr>\n",
       "      <th>14</th>\n",
       "      <td>2691750.0</td>\n",
       "      <td>4533750.0</td>\n",
       "      <td>0.0</td>\n",
       "      <td>POINT (4533750.000 2691750.000)</td>\n",
       "    </tr>\n",
       "    <tr>\n",
       "      <th>15</th>\n",
       "      <td>2691750.0</td>\n",
       "      <td>4535250.0</td>\n",
       "      <td>0.0</td>\n",
       "      <td>POINT (4535250.000 2691750.000)</td>\n",
       "    </tr>\n",
       "  </tbody>\n",
       "</table>\n",
       "</div>"
      ],
      "text/plain": [
       "            y          x  blue_map                         geometry\n",
       "0   2696250.0  4530750.0       1.0  POINT (4530750.000 2696250.000)\n",
       "1   2696250.0  4532250.0       0.0  POINT (4532250.000 2696250.000)\n",
       "2   2696250.0  4533750.0       0.0  POINT (4533750.000 2696250.000)\n",
       "3   2696250.0  4535250.0       0.0  POINT (4535250.000 2696250.000)\n",
       "4   2694750.0  4530750.0       0.0  POINT (4530750.000 2694750.000)\n",
       "5   2694750.0  4532250.0       0.0  POINT (4532250.000 2694750.000)\n",
       "6   2694750.0  4533750.0       0.0  POINT (4533750.000 2694750.000)\n",
       "7   2694750.0  4535250.0       1.0  POINT (4535250.000 2694750.000)\n",
       "8   2693250.0  4530750.0       1.0  POINT (4530750.000 2693250.000)\n",
       "9   2693250.0  4532250.0       0.0  POINT (4532250.000 2693250.000)\n",
       "10  2693250.0  4533750.0       1.0  POINT (4533750.000 2693250.000)\n",
       "11  2693250.0  4535250.0       0.0  POINT (4535250.000 2693250.000)\n",
       "12  2691750.0  4530750.0       0.0  POINT (4530750.000 2691750.000)\n",
       "13  2691750.0  4532250.0       0.0  POINT (4532250.000 2691750.000)\n",
       "14  2691750.0  4533750.0       0.0  POINT (4533750.000 2691750.000)\n",
       "15  2691750.0  4535250.0       0.0  POINT (4535250.000 2691750.000)"
      ]
     },
     "execution_count": 59,
     "metadata": {},
     "output_type": "execute_result"
    }
   ],
   "source": [
    "response[\"blue_map\"].sq.to_geodataframe()"
   ]
  },
  {
   "cell_type": "markdown",
   "id": "a92645ce",
   "metadata": {},
   "source": [
    "Semantique also allow to export an array to either a CSV file or a GeoTIFF file (requires spatial dimensions). To do so, call respectively the [to_csv](https://zgis.github.io/semantique/_generated/semantique.processor.arrays.Array.to_csv.html) or [to_geotiff](https://zgis.github.io/semantique/_generated/semantique.processor.arrays.Array.to_geotiff.html) methods through the [sq-accessor](#Data-structures) of the arrays."
   ]
  },
  {
   "cell_type": "markdown",
   "id": "bc13ea19",
   "metadata": {},
   "source": [
    "## Logging progress\n",
    "\n",
    "When processing a query, the query processor logs its progress. Most of these logs are of the \"DEBUG\" level. They are helpful to debug the query processing, since they show intermediate outputs when the query processor iterates through the building blocks in the query recipe."
   ]
  },
  {
   "cell_type": "code",
   "execution_count": 60,
   "id": "0eda66ec",
   "metadata": {},
   "outputs": [],
   "source": [
    "import logging\n",
    "import sys\n",
    "\n",
    "logger = logging.getLogger(\"semantique.processor.core\")\n",
    "logger.setLevel(logging.DEBUG)\n",
    "logger.addHandler(logging.FileHandler(filename = \"files/logs.txt\", mode = \"w\"))"
   ]
  },
  {
   "cell_type": "code",
   "execution_count": 61,
   "id": "6983f511",
   "metadata": {},
   "outputs": [],
   "source": [
    "response = recipe.execute(**context)"
   ]
  },
  {
   "cell_type": "markdown",
   "id": "e30fa0f4",
   "metadata": {},
   "source": [
    "See [here](https://github.com/ZGIS/semantique/blob/main/demo/files/logs.txt) the logs file we created."
   ]
  }
 ],
 "metadata": {
  "kernelspec": {
   "display_name": "Python [conda env:semantique]",
   "language": "python",
   "name": "conda-env-semantique-py"
  },
  "language_info": {
   "codemirror_mode": {
    "name": "ipython",
    "version": 3
   },
   "file_extension": ".py",
   "mimetype": "text/x-python",
   "name": "python",
   "nbconvert_exporter": "python",
   "pygments_lexer": "ipython3",
   "version": "3.9.12"
  }
 },
 "nbformat": 4,
 "nbformat_minor": 5
}
