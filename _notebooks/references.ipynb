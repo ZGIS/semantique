{
 "cells": [
  {
   "cell_type": "markdown",
   "id": "c8c0bf1d",
   "metadata": {},
   "source": [
    "# References\n",
    "\n",
    "In this notebook we will show what types of references are supported by semantique. Remember that result instructions in query recipes can be formulated by combining basic building blocks into processing chains. These processing chains start with a *reference*. At the query recipe construction stage, such a reference is nothing more than a small piece of text. When executing the recipe, the query processor solves this reference and evaluates it internally into a multi-dimensional array filled with data values. Several actions can then be applied to this array. For a description of those, see the [Verbs notebook](verbs.ipynb). The same building blocks can also be used when constructing a set of mapping rules according to semantiques native mapping configuration.\n",
    "\n",
    "## Content\n",
    "\n",
    "- [Referencing semantic concepts](#Referencing-semantic-concepts)\n",
    "- [Referencing data layers](#Referencing-data-layers)\n",
    "- [Referencing results](#Referencing-results)\n",
    "- [Referencing the active evaluation object](#Referencing-the-active-evaluation-object)\n",
    "- [Referencing collections](#Referencing-collections)\n",
    "\n",
    "## Prepare\n",
    "\n",
    "Import packages:"
   ]
  },
  {
   "cell_type": "code",
   "execution_count": 1,
   "id": "38ddf40a",
   "metadata": {},
   "outputs": [],
   "source": [
    "import semantique as sq"
   ]
  },
  {
   "cell_type": "code",
   "execution_count": 2,
   "id": "4c50c36d",
   "metadata": {},
   "outputs": [],
   "source": [
    "import geopandas as gpd\n",
    "import json"
   ]
  },
  {
   "cell_type": "markdown",
   "id": "2fb00fe6",
   "metadata": {},
   "source": [
    "## Referencing semantic concepts\n",
    "\n",
    "The most common reference in a query recipe is a reference to a semantic concept, i.e. a conceptualization of something that exists in the real world. The application expert writing the recipe can refer to any semantic concept by using the general [concept()](https://zgis.github.io/semantique/_generated/semantique.concept.html) function, which should be provided with the index of the semantic concept in the mapping dictionary that will be used to process the query against. The depth of this index depends on the structure of the ontology to which the mapping refers. Usually, an ontology does not only formalize the semantic concepts themselves, but also formalizes a categorization of these concepts. That is, a reference to a specific semantic concept usually consists of the name of that concept, *and* the name of the category it belongs to. Optionally there can be multiple hierarchies of categories. The [concept()](https://zgis.github.io/semantique/_generated/semantique.concept.html) function allows as many levels as needed, starting with the lowest-level category, and ending with the name of the semantic concept itself.\n",
    "\n",
    "If no categorization exists, one can refer to a semantic concept solely by its name:"
   ]
  },
  {
   "cell_type": "code",
   "execution_count": 3,
   "id": "5fde1660",
   "metadata": {},
   "outputs": [
    {
     "name": "stdout",
     "output_type": "stream",
     "text": [
      "{\n",
      "  \"type\": \"concept\",\n",
      "  \"reference\": [\n",
      "    \"entity\",\n",
      "    \"vegetation\"\n",
      "  ]\n",
      "}\n"
     ]
    }
   ],
   "source": [
    "ref = sq.concept(\"entity\", \"vegetation\")\n",
    "print(json.dumps(ref, indent = 2))"
   ]
  },
  {
   "cell_type": "markdown",
   "id": "358c0b51",
   "metadata": {},
   "source": [
    "With ontologies that formalize a categorization, the same function can be used, in a form as below. There is no limit on how many levels of categories can be used in a reference. This all depends on the ontology."
   ]
  },
  {
   "cell_type": "code",
   "execution_count": 4,
   "id": "37a2ef35",
   "metadata": {},
   "outputs": [
    {
     "name": "stdout",
     "output_type": "stream",
     "text": [
      "{\n",
      "  \"type\": \"concept\",\n",
      "  \"reference\": [\n",
      "    \"entity\",\n",
      "    \"forest\"\n",
      "  ]\n",
      "}\n"
     ]
    }
   ],
   "source": [
    "ref = sq.concept(\"entity\", \"forest\")\n",
    "print(json.dumps(ref, indent = 2))"
   ]
  },
  {
   "cell_type": "markdown",
   "id": "f9c69c9b",
   "metadata": {},
   "source": [
    "For convenience, commonly used semantic concept categories are also implemented as separate construction functions, such that they can be called directly:\n",
    "\n",
    "- [entity()](https://zgis.github.io/semantique/_generated/semantique.entity.html): A phenonemon with a distinct and independent existence, e.g. a *forest* or a *lake*. We also use this category for land-cover like concepts such as vegetated areas (i.e. *vegetation*) and water bodies (i.e. *water*).\n",
    "- [event()](https://zgis.github.io/semantique/_generated/semantique.event.html): A phenonemon that takes place, e.g. a *fire* or a *flood*.\n",
    "\n",
    "Hence, the snippet below produces the same output as the snippet above."
   ]
  },
  {
   "cell_type": "code",
   "execution_count": 5,
   "id": "c361c44a",
   "metadata": {},
   "outputs": [
    {
     "name": "stdout",
     "output_type": "stream",
     "text": [
      "{\n",
      "  \"type\": \"concept\",\n",
      "  \"reference\": [\n",
      "    \"entity\",\n",
      "    \"vegetation\"\n",
      "  ]\n",
      "}\n"
     ]
    }
   ],
   "source": [
    "ref = sq.entity(\"vegetation\")\n",
    "print(json.dumps(ref, indent = 2))"
   ]
  },
  {
   "cell_type": "markdown",
   "id": "4b081f05",
   "metadata": {},
   "source": [
    "Each semantic concept is defined by one or more named *properties* it has. For example, a entity *lake* may be defined by its *color* (a blueish, water-like color) in combination with its *topography* (it has an approximately flat surface). To reference only a single property of a semantic concept, one can specify the \"property\" argument of the [concept()](https://zgis.github.io/semantique/_generated/semantique.concept.html) function:"
   ]
  },
  {
   "cell_type": "code",
   "execution_count": 6,
   "id": "19332bd6",
   "metadata": {},
   "outputs": [
    {
     "name": "stdout",
     "output_type": "stream",
     "text": [
      "{\n",
      "  \"type\": \"concept\",\n",
      "  \"reference\": [\n",
      "    \"entity\",\n",
      "    \"lake\"\n",
      "  ],\n",
      "  \"property\": \"color\"\n",
      "}\n"
     ]
    }
   ],
   "source": [
    "ref = sq.entity(\"lake\", property = \"color\")\n",
    "print(json.dumps(ref, indent = 2))"
   ]
  },
  {
   "cell_type": "markdown",
   "id": "f5244059",
   "metadata": {},
   "source": [
    "## Referencing data layers\n",
    "\n",
    "When an EO expert constructs a mapping using semantiques native mapping configuration, they will reference data layers in an EO data cube. They can do so by using the general [layer()](https://zgis.github.io/semantique/_generated/semantique.layer.html) function, which should be provided with the index of the data layer in the layout file of the EO data cube that will be used to process the query against. The depth of this index depends on the structure of the layout. Usually, a layout does not only list the data layers themselves, but also formalizes a categorization of these layers. That is, a reference to a data layer usually consists of the name of that layer, *and* the name of the category it belongs to. Optionally there can be multiple hierarchies of categories. The [layer()](https://zgis.github.io/semantique/_generated/semantique.layer.html) function allows as many levels as needed, starting with the lowest-level category, and ending with the name of the data layer itself.\n",
    "\n",
    "If no categorization exists, one can refer to a data layer solely by its name:"
   ]
  },
  {
   "cell_type": "code",
   "execution_count": 7,
   "id": "532400b1",
   "metadata": {},
   "outputs": [
    {
     "name": "stdout",
     "output_type": "stream",
     "text": [
      "{\n",
      "  \"type\": \"layer\",\n",
      "  \"reference\": [\n",
      "    \"s2_band01\"\n",
      "  ]\n",
      "}\n"
     ]
    }
   ],
   "source": [
    "ref = sq.layer(\"s2_band01\")\n",
    "print(json.dumps(ref, indent = 2))"
   ]
  },
  {
   "cell_type": "markdown",
   "id": "9c3f2306",
   "metadata": {},
   "source": [
    "With layouts that formalize a categorization, the same function can be used, in a form as below. There is no limit on how many levels of categories can be used in a reference. This all depends on the layout."
   ]
  },
  {
   "cell_type": "code",
   "execution_count": 8,
   "id": "bb9cb2fa",
   "metadata": {},
   "outputs": [
    {
     "name": "stdout",
     "output_type": "stream",
     "text": [
      "{\n",
      "  \"type\": \"layer\",\n",
      "  \"reference\": [\n",
      "    \"reflectance\",\n",
      "    \"s2_band01\"\n",
      "  ]\n",
      "}\n"
     ]
    }
   ],
   "source": [
    "ref = sq.layer(\"reflectance\", \"s2_band01\")\n",
    "print(json.dumps(ref, indent = 2))"
   ]
  },
  {
   "cell_type": "markdown",
   "id": "bc1fdf52",
   "metadata": {},
   "source": [
    "For convenience, commonly used data layer categories are also implemented as separate construction functions, such that they can be called directly:\n",
    "\n",
    "- [appearance()](https://zgis.github.io/semantique/_generated/semantique.appearance.html): Data layers describing what the observed phenonemon looks like.\n",
    "- [reflectance()](https://zgis.github.io/semantique/_generated/semantique.reflectance.html): Data layers describing how intensely certain types of radiation are reflected by the observed phenonemon.\n",
    "- [topography()](https://zgis.github.io/semantique/_generated/semantique.topography.html): Data layers describing the surface form of the observed phenonemon.\n",
    "- [atmosphere()](https://zgis.github.io/semantique/_generated/semantique.atmosphere.html): Data layers describing what the atmosphere above the observed phenonemon looks like.\n",
    "- [artifacts()](https://zgis.github.io/semantique/_generated/semantique.artifacts.html): Data layers that label erroneous observations.\n",
    "\n",
    "Hence, the code below produces the same output as above."
   ]
  },
  {
   "cell_type": "code",
   "execution_count": 9,
   "id": "e9972315",
   "metadata": {},
   "outputs": [
    {
     "name": "stdout",
     "output_type": "stream",
     "text": [
      "{\n",
      "  \"type\": \"layer\",\n",
      "  \"reference\": [\n",
      "    \"reflectance\",\n",
      "    \"s2_band01\"\n",
      "  ]\n",
      "}\n"
     ]
    }
   ],
   "source": [
    "ref = sq.reflectance(\"s2_band01\")\n",
    "print(json.dumps(ref, indent = 2))"
   ]
  },
  {
   "cell_type": "markdown",
   "id": "e742981c",
   "metadata": {},
   "source": [
    "Although query recipes are in the first place meant to fall inside the semantic domain, not containing any image domain terminology, it is also possible to reference data layers directly in a query recipe. This can be useful in more advanced use-cases, for example when [querying a cloud-free composite](gallery.ipynb#Cloud-free-composite). "
   ]
  },
  {
   "cell_type": "markdown",
   "id": "56ce6f9f",
   "metadata": {},
   "source": [
    "## Referencing results\n",
    "\n",
    "A query recipe can contain instructions for multiple results. Whenever instructions for a certain result get too long or complicated to be defined in one line, they can of course be broken up into several assignment operations. For example:\n",
    "\n",
    "```python\n",
    "water_count = sq.entity(\"water\").reduce(\"count\", \"time\")\n",
    "vegetation_count = sq.entity(\"vegetation\").reduce(\"count\", \"time\")\n",
    "recipe = sq.QueryRecipe({\"summed_count\": water_count.evaluate(\"add\", vegetation_count)})\n",
    "```\n",
    "\n",
    "After executing this recipe, the response will contain a single result, i.e. *summed_count*. However, one might also want to obtain the water count and vegetation count maps as separate results themselves. At that point, it is good to know that processing chains may be started with a reference to a previously defined result, using the [result()](https://zgis.github.io/semantique/_generated/semantique.result.html) function. This allows to re-use other result definitions inside a new result definition. For example:"
   ]
  },
  {
   "cell_type": "code",
   "execution_count": 10,
   "id": "41d5a5ac",
   "metadata": {},
   "outputs": [
    {
     "name": "stdout",
     "output_type": "stream",
     "text": [
      "{\n",
      "  \"type\": \"result\",\n",
      "  \"name\": \"water_count\"\n",
      "}\n"
     ]
    }
   ],
   "source": [
    "ref = sq.result(\"water_count\")\n",
    "print(json.dumps(ref, indent = 2))"
   ]
  },
  {
   "cell_type": "markdown",
   "id": "d9f3a730",
   "metadata": {},
   "source": [
    "The same *summed_count* result as shown above can in this way also be formulated as shown below. The only difference here is that next to *summed_count*, the response will also contain *water_count* and *vegetation_count* as separate results.\n",
    "\n",
    "```python\n",
    "recipe = sq.QueryRecipe()\n",
    "recipe[\"water_count\"] = sq.entity(\"water\").reduce(\"count\", \"time\")\n",
    "recipe[\"vegetation_count\"] = sq.entity(\"vegetation\").reduce(\"count\", \"time\")\n",
    "recipe[\"summed_count\"] = sq.result(\"water_count\").evaluate(\"add\", sq.result(\"vegetation_count\"))\n",
    "```"
   ]
  },
  {
   "cell_type": "markdown",
   "id": "e50d1343",
   "metadata": {},
   "source": [
    "## Referencing the active evaluation object\n",
    "\n",
    "Before explaining these type of references, we need to introduce some slightly more advanced processing chain structures. Remember that a processing chain starts with a reference, and that this reference will internally be evaluated into an array when processing the query recipe. Specific actions, called [verbs](verbs.ipynb), can then be applied to this array. This can be a single verb, but also a chain of multiple verbs. The array is constantly wrangled when moving through the verbs of the processing chain. It starts as the evaluated reference. This object will be the input to the first verb, which wrangles it into a different array. That array will then be the input to the second verb, which again wrangles it into a different array, etcetera. We use the term **active evaluation object** to refer to the input object at each stage of the processing chain. Hence, at the first verb, the active evaluation object is the evaluated reference. At the second verb, the active evaluation object is the output of the first verb, etcetera.\n",
    "\n",
    "Some verbs combine information of multiple inputs. For example, the [evaluate()](verbs.ipynb#Evaluate) verb lets you evaluate bivariate expressions in which the left-hand side of the expression is the active evaluation object, and the right-hand side of the expression is another array. This leads to nested processing chains. For example, adding the values of a vegetation count map to the values of a water count map:\n",
    "\n",
    "```python\n",
    "sq.entity(\"water\").reduce(\"count\", \"time\").evaluate(\"add\", sq.entity(\"vegetation\").reduce(\"count\", \"time\"))\n",
    "```\n",
    "\n",
    "But now what if we want to add the values of the water count map to themselves? Our recipe would look like this:\n",
    "\n",
    "```python\n",
    "sq.entity(\"water\").reduce(\"count\", \"time\").evaluate(\"add\", sq.entity(\"water\").reduce(\"count\", \"time\"))\n",
    "```\n",
    "\n",
    "Here you see that the *same* processing chain that constructs the water count map occurs twice in the recipe. This does not only make the code longer and less readable, it also decreases processing time since solving the water reference and reducing the resulting array has to be done twice instead of once. Now we came at the point where we can show that it is useful to reference the active evaluation object itself. The [self()](https://zgis.github.io/semantique/_generated/semantique.self.html) function can be used for that, without the need to provide any arguments."
   ]
  },
  {
   "cell_type": "code",
   "execution_count": 11,
   "id": "f4f4e9de",
   "metadata": {},
   "outputs": [
    {
     "name": "stdout",
     "output_type": "stream",
     "text": [
      "{\n",
      "  \"type\": \"self\"\n",
      "}\n"
     ]
    }
   ],
   "source": [
    "ref = sq.self()\n",
    "print(json.dumps(ref, indent = 2))"
   ]
  },
  {
   "cell_type": "markdown",
   "id": "01a1ae3a",
   "metadata": {},
   "source": [
    "This allows us to simplify the recipe above (and improve processing speed!):\n",
    "\n",
    "```python\n",
    "sq.entity(\"water\").reduce(\"count\", \"time\").evaluate(\"add\", sq.self())\n",
    "```\n",
    "\n",
    "Of course, the example above is trivial. Why would you add the active evaluation object to itself, when you can also just multiply it by 2. However, there are cases where the self-reference can be of real use. For example, when applying a self-filter (see [here](verbs.ipynb#Self-filtering)), when applying a filter based on dimension coordinates (see [here](verbs.ipynb#Aligning-the-filterer)), or when grouping an array along one of its dimensions (see [here](verbs.ipynb#Groupby))."
   ]
  },
  {
   "cell_type": "markdown",
   "id": "1e27fe48",
   "metadata": {},
   "source": [
    "## Referencing collections\n",
    "\n",
    "Up to now we have only talked about references to single objects (e.g. a single semantic concept or a single data layer), that will result in a single array during query processing. It is also possible to reference a *collection* of multiple objects at once. Such collections have [dedicated verbs](verbs.ipynb#Verbs-for-collections-of-arrays) that can be applied to them.\n",
    "\n",
    "Consider for example a case where someone wants to sum five arrays together. This could be done by starting a processing chain with a single reference, and calling four times the [evaluate()](verbs.ipynb#Evaluate) verb to add each of the other arrays step-by-step. It is much easier to reference all the five arrays together in a collection, and call the [merge()](verbs.ipynb#Merge) verb to sum them in a single step. Furthermore, a chained structure always implies some kind of a hierarchy, in which you start with a main input object, and add the other objects along the way. This might not feel fitting for every use-case. \n",
    "\n",
    "The [collection()](https://zgis.github.io/semantique/_generated/semantique.collection.html) function can be used to reference collections. It can be provided with as many singular references as needed. For example:"
   ]
  },
  {
   "cell_type": "code",
   "execution_count": 12,
   "id": "ebe73b8e",
   "metadata": {},
   "outputs": [
    {
     "name": "stdout",
     "output_type": "stream",
     "text": [
      "{\n",
      "  \"type\": \"collection\",\n",
      "  \"elements\": [\n",
      "    {\n",
      "      \"type\": \"concept\",\n",
      "      \"reference\": [\n",
      "        \"entity\",\n",
      "        \"water\"\n",
      "      ]\n",
      "    },\n",
      "    {\n",
      "      \"type\": \"concept\",\n",
      "      \"reference\": [\n",
      "        \"entity\",\n",
      "        \"vegetation\"\n",
      "      ]\n",
      "    }\n",
      "  ]\n",
      "}\n"
     ]
    }
   ],
   "source": [
    "ref = sq.collection(sq.entity(\"water\"), sq.entity(\"vegetation\"))\n",
    "print(json.dumps(ref, indent = 2))"
   ]
  }
 ],
 "metadata": {
  "kernelspec": {
   "display_name": "Python [conda env:semantique]",
   "language": "python",
   "name": "conda-env-semantique-py"
  },
  "language_info": {
   "codemirror_mode": {
    "name": "ipython",
    "version": 3
   },
   "file_extension": ".py",
   "mimetype": "text/x-python",
   "name": "python",
   "nbconvert_exporter": "python",
   "pygments_lexer": "ipython3",
   "version": "3.9.12"
  }
 },
 "nbformat": 4,
 "nbformat_minor": 5
}
