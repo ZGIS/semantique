{
 "cells": [
  {
   "cell_type": "markdown",
   "id": "placed-brain",
   "metadata": {},
   "source": [
    "# Advanced usage\n",
    "\n",
    "In this notebook we will go a bit deeped into internal structures of the `semantique` package. We will also show some common operations for advanced users, that want more control over the behaviour of the query processor, and extend built-in structures of the package. It is assumed that you are already quite familiar with the structure and contents of the package, for example by reading the other provided notebooks.\n",
    "\n",
    "## Content\n",
    "\n",
    "- [The query processor class](#The-query-processor-class)\n",
    "- [Creating a spatio-temporal extent cube](#Creating-a-spatio-temporal-extent-cube)\n",
    "- [Tracking value types](#Tracking-value-types)\n",
    "- [Adding custom operators](#Adding-custom-operators)\n",
    "- [Adding custom reducers](#Adding-custom-reducers)\n",
    "- [Tuning factbase configuration settings](#Tuning-factbase-configuration-settings)\n",
    "- [Creating custom factbase classes](#Creating-custom-factbase-classes)\n",
    "- [Creating custom ontology classes](#Creating-custom-ontology-classes)\n",
    "\n",
    "## Prepare\n",
    "\n",
    "Import the `semantique` package:"
   ]
  },
  {
   "cell_type": "code",
   "execution_count": 32,
   "id": "engaged-abuse",
   "metadata": {},
   "outputs": [],
   "source": [
    "import semantique as sq"
   ]
  },
  {
   "cell_type": "markdown",
   "id": "religious-advocate",
   "metadata": {},
   "source": [
    "Import other packages we will use in this demo:"
   ]
  },
  {
   "cell_type": "code",
   "execution_count": 33,
   "id": "increased-magazine",
   "metadata": {},
   "outputs": [],
   "source": [
    "import geopandas as gpd\n",
    "import matplotlib.pyplot as plt\n",
    "import numpy as np\n",
    "import xarray as xr\n",
    "import copy\n",
    "import json\n",
    "import inspect"
   ]
  },
  {
   "cell_type": "markdown",
   "id": "important-ozone",
   "metadata": {},
   "source": [
    "Create the components for query processing. See the [Intro notebook](intro.ipynb) for details."
   ]
  },
  {
   "cell_type": "code",
   "execution_count": 34,
   "id": "integrated-token",
   "metadata": {},
   "outputs": [],
   "source": [
    "# Query recipe.\n",
    "with open(\"files/recipe.json\", \"r\") as file:\n",
    "    recipe = sq.QueryRecipe(json.load(file))\n",
    "\n",
    "# Ontology.\n",
    "with open(\"files/ontology.json\", \"r\") as file:\n",
    "    ontology = sq.ontology.Semantique(json.load(file))\n",
    "\n",
    "# Factbase.\n",
    "with open(\"files/factbase.json\", \"r\") as file:\n",
    "    factbase = sq.factbase.GeotiffArchive(json.load(file), src = \"files/resources.zip\")\n",
    "\n",
    "# Extent.\n",
    "space = sq.SpatialExtent(gpd.read_file(\"files/footprint.geojson\"))\n",
    "time = sq.TemporalExtent(\"2019-01-01\", \"2020-12-31\")\n",
    "\n",
    "# Additional configuration.\n",
    "config = {\"crs\": 3035, \"tz\": \"UTC\", \"spatial_resolution\": [-10, 10]}"
   ]
  },
  {
   "cell_type": "markdown",
   "id": "trying-floating",
   "metadata": {},
   "source": [
    "## The query processor class\n",
    "\n",
    "A semantic query is processed by a query processor. In `semantique`, this query processor is internally modelled as an object of class `QueryProcessor`. An instance of this class is initialized whenever a query recipe is executed with respect to a given factbase, ontology and spatio-temporal extent. That is, whenever you call the execute method of a `QueryRecipe` instance, semantique internally creates a `QueryProcessor` object to take care of all processing tasks."
   ]
  },
  {
   "cell_type": "code",
   "execution_count": 35,
   "id": "c9d7f740",
   "metadata": {},
   "outputs": [],
   "source": [
    "from semantique.processor.core import QueryProcessor"
   ]
  },
  {
   "cell_type": "markdown",
   "id": "44193815",
   "metadata": {},
   "source": [
    "The query processor processes a query in three three core phases: query parsing, query optimization and query execution. These align with the common phases in regular relational database querying (see for example [this paper](https://dsf.berkeley.edu/papers/fntdb07-architecture.pdf)). Each of these phases has their own, dedicated method. Below we will explain in more detail how each phase is implemented in `semantique`.\n",
    "\n",
    "### Query parsing\n",
    "\n",
    "During query parsing, the required components for processing (i.e., the query recipe, the spatial and temporal extents, the ontology, the factbase and the additional configuration parameters) are read and converted all together into a single object which will be used internally for further processing of the query. This object is called the query processor. Parsing should take care of validating the components and their interrelations. For example, it will check if referenced concepts in the query statement are actually defined in the ontology. A specific task of the query parser in `semantique` is also to combine the spatial and temporal extent of the query into a single spatio-temporal extent cube, see [here](#Creating-a-spatio-temporal-extent-cube) for details.\n",
    "\n",
    "Parsing is implemented as a [classmethod](https://www.programiz.com/python-programming/methods/built-in/classmethod) of the `QueryProcessor` class. Hence, it can be used directly to construct a `QueryProcessor` instance given the components mentioned above.\n",
    "\n",
    "> **NOTE** <br/> Currently the actual implementation of the query parsing phase is still very basic in its functionalities. It initializes the internal query processor object, but does not validate the query components yet."
   ]
  },
  {
   "cell_type": "code",
   "execution_count": 36,
   "id": "canadian-congo",
   "metadata": {},
   "outputs": [],
   "source": [
    "processor = QueryProcessor.parse(recipe, factbase, ontology, space, time, **config)"
   ]
  },
  {
   "cell_type": "code",
   "execution_count": 37,
   "id": "personalized-tours",
   "metadata": {},
   "outputs": [
    {
     "data": {
      "text/plain": [
       "semantique.processor.core.QueryProcessor"
      ]
     },
     "execution_count": 37,
     "metadata": {},
     "output_type": "execute_result"
    }
   ],
   "source": [
    "type(processor)"
   ]
  },
  {
   "cell_type": "markdown",
   "id": "proud-garlic",
   "metadata": {},
   "source": [
    "### Query optimization\n",
    "\n",
    "During query optimization, the query processor is scanned and an execution plan is written. The execution plan is a step-by-step guide of how the query should be executed during the execution phase that follows. Creating this causes some overhead, but that should be balanced out by considerably faster execution times. For example, if the given spatial extent consists of multiple dispersed sub-areas, the execution plan might instruct the execution phase to load data separately for each sub-area, instead of loading data for the full extent and then subset it afterwards. \n",
    "\n",
    "Optimization is implemented as a method of the `QueryProcessor` class, and returns the same instance, but with a query execution plan added to it.\n",
    "\n",
    "> **NOTE** <br/> Currently the actual implementation of the query optimization phase is still very basic in its functionalities. To be honest, it currently does exactly nothing. That is, the query will be executed ‘as-is’, and not yet according to an optimized query execution plan. The function is merely provided as a placeholder for a future implementation of query optimization."
   ]
  },
  {
   "cell_type": "code",
   "execution_count": 38,
   "id": "sonic-homeless",
   "metadata": {},
   "outputs": [],
   "source": [
    "processor = processor.optimize()"
   ]
  },
  {
   "cell_type": "code",
   "execution_count": 39,
   "id": "integral-suspension",
   "metadata": {},
   "outputs": [
    {
     "data": {
      "text/plain": [
       "semantique.processor.core.QueryProcessor"
      ]
     },
     "execution_count": 39,
     "metadata": {},
     "output_type": "execute_result"
    }
   ],
   "source": [
    "type(processor)"
   ]
  },
  {
   "cell_type": "markdown",
   "id": "difficult-humidity",
   "metadata": {},
   "source": [
    "### Query execution\n",
    "\n",
    "Finally, the execution phase follows the execution plan and executes all result instructions. The query processor instance contains specific handlers for all kind of operations that may be specified in the execution plan. Internally it will take care of the interaction with (and between) the given ontology and factbase, and forward required parameters to their translator and retriever accordingly.\n",
    "\n",
    "Execution is modelled as a method of the `QueryProcessor` class, and returns the same instance, but with a filled response property containing all executed result instructions as `xarray.DataArray` objects."
   ]
  },
  {
   "cell_type": "code",
   "execution_count": 40,
   "id": "a067d6db",
   "metadata": {},
   "outputs": [
    {
     "data": {
      "text/plain": [
       "{}"
      ]
     },
     "execution_count": 40,
     "metadata": {},
     "output_type": "execute_result"
    }
   ],
   "source": [
    "# Before execution the response property is empty.\n",
    "processor.response"
   ]
  },
  {
   "cell_type": "code",
   "execution_count": 41,
   "id": "frank-infrared",
   "metadata": {},
   "outputs": [],
   "source": [
    "processor = processor.execute()"
   ]
  },
  {
   "cell_type": "code",
   "execution_count": 42,
   "id": "c9221379",
   "metadata": {},
   "outputs": [
    {
     "data": {
      "text/plain": [
       "semantique.processor.core.QueryProcessor"
      ]
     },
     "execution_count": 42,
     "metadata": {},
     "output_type": "execute_result"
    }
   ],
   "source": [
    "type(processor)"
   ]
  },
  {
   "cell_type": "code",
   "execution_count": 43,
   "id": "guilty-danish",
   "metadata": {},
   "outputs": [
    {
     "data": {
      "text/plain": [
       "{'water_count_map': <xarray.DataArray 'water_count_map' (space: 324288)>\n",
       " array([1., 1., 1., ..., 0., 0., 0.])\n",
       " Coordinates:\n",
       "     spatial_ref   int64 0\n",
       "     temporal_ref  int64 0\n",
       "   * space         (space) MultiIndex\n",
       "   - y             (space) float64 2.697e+06 2.697e+06 ... 2.691e+06 2.691e+06\n",
       "   - x             (space) float64 4.53e+06 4.53e+06 ... 4.536e+06 4.536e+06\n",
       "     feature       (space) float64 1.0 1.0 1.0 1.0 1.0 ... 1.0 1.0 1.0 1.0 1.0\n",
       " Attributes:\n",
       "     value_type:  numerical,\n",
       " 'vegetation_count_map': <xarray.DataArray 'vegetation_count_map' (space: 324288)>\n",
       " array([1., 1., 1., ..., 1., 1., 1.])\n",
       " Coordinates:\n",
       "     spatial_ref   int64 0\n",
       "     temporal_ref  int64 0\n",
       "   * space         (space) MultiIndex\n",
       "   - y             (space) float64 2.697e+06 2.697e+06 ... 2.691e+06 2.691e+06\n",
       "   - x             (space) float64 4.53e+06 4.53e+06 ... 4.536e+06 4.536e+06\n",
       "     feature       (space) float64 1.0 1.0 1.0 1.0 1.0 ... 1.0 1.0 1.0 1.0 1.0\n",
       " Attributes:\n",
       "     value_type:  numerical,\n",
       " 'water_percentage_time_series': <xarray.DataArray 'water_percentage_time_series' (time: 3)>\n",
       " array([ 0.        , 13.81611407, 24.2398732 ])\n",
       " Coordinates:\n",
       "   * time          (time) datetime64[ns] 2019-12-15T10:17:33.408715 ... 2020-1...\n",
       "     spatial_ref   int64 0\n",
       "     temporal_ref  int64 0\n",
       " Attributes:\n",
       "     value_type:  numerical,\n",
       " 'avg_water_count': <xarray.DataArray 'avg_water_count' ()>\n",
       " array(0.38055987)\n",
       " Coordinates:\n",
       "     spatial_ref   int64 0\n",
       "     temporal_ref  int64 0\n",
       " Attributes:\n",
       "     value_type:  numerical,\n",
       " 'summed_count': <xarray.DataArray 'summed_count' (space: 324288)>\n",
       " array([2., 2., 2., ..., 1., 1., 1.])\n",
       " Coordinates:\n",
       "     spatial_ref   int64 0\n",
       "     temporal_ref  int64 0\n",
       "   * space         (space) MultiIndex\n",
       "   - y             (space) float64 2.697e+06 2.697e+06 ... 2.691e+06 2.691e+06\n",
       "   - x             (space) float64 4.53e+06 4.53e+06 ... 4.536e+06 4.536e+06\n",
       "     feature       (space) float64 1.0 1.0 1.0 1.0 1.0 ... 1.0 1.0 1.0 1.0 1.0\n",
       " Attributes:\n",
       "     value_type:  numerical}"
      ]
     },
     "execution_count": 43,
     "metadata": {},
     "output_type": "execute_result"
    }
   ],
   "source": [
    "# After execution the response property is filled.\n",
    "processor.response"
   ]
  },
  {
   "cell_type": "markdown",
   "id": "separate-salvation",
   "metadata": {},
   "source": [
    "When executing a query recipe, the `QueryProcessor` moves through the building blocks of the result instructions. For each building block, it has a specific **handler function** implemented as a method. Whenever the processor reaches a new block, it looks up its type and then calls its handler with the `call_handler` method.\n",
    "\n",
    "For example, when the processor stumbles upon a reference to a semantic concept, it forwards it to the `call_handler` function, which will notice this is a block of type \"concept\", and therefore call the handler `handle_concept`. This handler knows exactly what to do with this type of block. In this specific example, it calls the translator function of the provided ontology to obtain the boolean data cube belonging to the referenced concept. Note that this example makes it extra clear that the query processor does not care *how* the reference is translated. It only cares about the parameters the translator function accepts, and about the type of object it returns (which should be an `xarray.DataArray`)."
   ]
  },
  {
   "cell_type": "code",
   "execution_count": 44,
   "id": "talented-resistance",
   "metadata": {},
   "outputs": [
    {
     "name": "stdout",
     "output_type": "stream",
     "text": [
      "  def handle_concept(self, block):\n",
      "    \"\"\"Handler for semantic concept references.\n",
      "\n",
      "    Parameters\n",
      "    ----------\n",
      "      block : :obj:`dict`\n",
      "        Textual representation of a building block of type \"concept\".\n",
      "\n",
      "    Returns\n",
      "    -------\n",
      "      :obj:`xarray.DataArray`\n",
      "\n",
      "    \"\"\"\n",
      "    out = self._ontology.translate(\n",
      "      *block[\"reference\"],\n",
      "      property = block[\"property\"] if \"property\" in block else None,\n",
      "      extent = self._extent,\n",
      "      factbase = self._factbase,\n",
      "      eval_obj = self._get_eval_obj(),\n",
      "      operators = self._operators,\n",
      "      reducers = self._reducers,\n",
      "      track_types = self._track_types,\n",
      "      trim_filter = self._trim_filter\n",
      "    )\n",
      "    return out\n",
      "\n"
     ]
    }
   ],
   "source": [
    "print(inspect.getsource(processor.handle_concept))"
   ]
  },
  {
   "cell_type": "code",
   "execution_count": 45,
   "id": "streaming-driving",
   "metadata": {},
   "outputs": [],
   "source": [
    "water = processor.handle_concept(sq.entity(\"water\"))"
   ]
  },
  {
   "cell_type": "code",
   "execution_count": 46,
   "id": "restricted-environment",
   "metadata": {},
   "outputs": [
    {
     "data": {
      "text/plain": [
       "<xarray.plot.facetgrid.FacetGrid at 0x7f37e8ea6550>"
      ]
     },
     "execution_count": 46,
     "metadata": {},
     "output_type": "execute_result"
    },
    {
     "data": {
      "image/png": "[encoded data removed]",
      "text/plain": [
       "<Figure size 720x216 with 4 Axes>"
      ]
     },
     "metadata": {
      "needs_background": "light"
     },
     "output_type": "display_data"
    }
   ],
   "source": [
    "values = [0, 1]\n",
    "levels = [x - 0.5 for x in values + [max(values) + 1]]\n",
    "colors = [\"#d3d3d3\", \"#77abb7\"]\n",
    "legend = {\"ticks\": values, \"label\": \"IsWater\"}\n",
    "water.unstack().plot(col = \"time\", levels = levels, colors = colors, cbar_kwargs = legend)"
   ]
  },
  {
   "cell_type": "code",
   "execution_count": 47,
   "id": "vulnerable-midwest",
   "metadata": {},
   "outputs": [
    {
     "data": {
      "text/plain": [
       "<xarray.plot.facetgrid.FacetGrid at 0x7f37e82d09a0>"
      ]
     },
     "execution_count": 47,
     "metadata": {},
     "output_type": "execute_result"
    },
    {
     "data": {
      "image/png": "[encoded data removed]",
      "text/plain": [
       "<Figure size 720x216 with 4 Axes>"
      ]
     },
     "metadata": {
      "needs_background": "light"
     },
     "output_type": "display_data"
    }
   ],
   "source": [
    "vegetation = processor.handle_concept(sq.entity(\"vegetation\"))\n",
    "legend = {\"ticks\": values, \"label\": \"IsVegetation\"}\n",
    "vegetation.unstack().plot(col = \"time\", levels = levels, colors = colors, cbar_kwargs = legend)"
   ]
  },
  {
   "cell_type": "markdown",
   "id": "ba379bda",
   "metadata": {},
   "source": [
    "Another example: when the processor stumbles upon a processing chain, it forwards it to the `call_handler` function, which will notice this is a block of type \"chain\", and therefore call the handler `handle_chain`. This handler knows exactly what to do with this type of block. It first moves into the *with* part of the chain, and processes the reference (or a nested processing chain) it finds there by calling the corresponding handler. Then, it sets the obtained data cube (represented as `xarray.DataArray` object) as the new active evaluation object, and moves into the *do* part of the chain. For each verb, it calls the handler corresponding to that verb, which knows exactly how to apply that verb to a data cube (this is explained in more detail in the [Verbs notebook](verbs.ipynb)). Et cetera."
   ]
  },
  {
   "cell_type": "code",
   "execution_count": 48,
   "id": "a16bb055",
   "metadata": {},
   "outputs": [
    {
     "name": "stdout",
     "output_type": "stream",
     "text": [
      "  def handle_processing_chain(self, block):\n",
      "    \"\"\"Handler for processing chains.\n",
      "\n",
      "    Parameters\n",
      "    ----------\n",
      "      block : :obj:`dict`\n",
      "        Textual representation of a building block of type \"processing_chain\".\n",
      "\n",
      "    Returns\n",
      "    -------\n",
      "      :obj:`xarray.DataArray` or :obj:`CubeCollection <semantique.processor.structures.CubeCollection>`\n",
      "\n",
      "    \"\"\"\n",
      "    obj = self.call_handler(block[\"with\"])\n",
      "    self._set_eval_obj(obj)\n",
      "    for i in block[\"do\"]:\n",
      "      out = self.call_handler(i)\n",
      "    self._reset_eval_obj()\n",
      "    return out\n",
      "\n"
     ]
    }
   ],
   "source": [
    "print(inspect.getsource(processor.handle_processing_chain))"
   ]
  },
  {
   "cell_type": "code",
   "execution_count": 49,
   "id": "casual-captain",
   "metadata": {},
   "outputs": [],
   "source": [
    "chain = sq.entity(\"water\").\\\n",
    "    filter_time(\"year\", \"equal\", 2020).\\\n",
    "    evaluate(\"or\", sq.entity(\"vegetation\"))\n",
    "\n",
    "out = processor.handle_processing_chain(chain)"
   ]
  },
  {
   "cell_type": "code",
   "execution_count": 50,
   "id": "christian-belgium",
   "metadata": {
    "scrolled": true
   },
   "outputs": [
    {
     "data": {
      "text/plain": [
       "<xarray.plot.facetgrid.FacetGrid at 0x7f37e63d5a60>"
      ]
     },
     "execution_count": 50,
     "metadata": {},
     "output_type": "execute_result"
    },
    {
     "data": {
      "image/png": "[encoded data removed]",
      "text/plain": [
       "<Figure size 720x216 with 4 Axes>"
      ]
     },
     "metadata": {
      "needs_background": "light"
     },
     "output_type": "display_data"
    }
   ],
   "source": [
    "values = [0, 1]\n",
    "levels = [x - 0.5 for x in values + [max(values) + 1]]\n",
    "legend = {\"ticks\": values, \"label\": \"IsWaterOrVegetation\"}\n",
    "out.unstack().plot(col = \"time\", levels = levels, colors = colors, cbar_kwargs = legend)"
   ]
  },
  {
   "cell_type": "markdown",
   "id": "5150a5c0",
   "metadata": {},
   "source": [
    "Some of the verbs accept other building blocks as their parameters. For example, the `filter` verb, as shown above, requires the `filterer` parameter to be a binary data cube, which can be constructed inside a nested processing chain. However, in the block structure, this is still nothing more than a textual reference. Hence, for some verbs, its parameters need to be parsed before applying the actual verb to the input data cube. The query processor uses the `parse_params_of_*` set of functions to take care of this. It also specifies additional parameters to be forwarded to the filter function, such as if it needs to keep track of value types or not (see [Tracking value types](#Tracking-value-types)).\n",
    "\n",
    "For example:"
   ]
  },
  {
   "cell_type": "code",
   "execution_count": 51,
   "id": "da613a86",
   "metadata": {},
   "outputs": [
    {
     "data": {
      "text/plain": [
       "{'type': 'verb',\n",
       " 'name': 'filter',\n",
       " 'params': {'filterer': {'type': 'processing_chain',\n",
       "   'with': {'type': 'self'},\n",
       "   'do': [{'type': 'verb',\n",
       "     'name': 'extract',\n",
       "     'params': {'dimension': 'time', 'component': 'year'}},\n",
       "    {'type': 'verb',\n",
       "     'name': 'evaluate',\n",
       "     'params': {'operator': 'equal', 'y': 2020}}]}}}"
      ]
     },
     "execution_count": 51,
     "metadata": {},
     "output_type": "execute_result"
    }
   ],
   "source": [
    "verb = sq.entity(\"water\").filter(sq.self().extract(\"time\", \"year\").evaluate(\"equal\", 2020))[\"do\"][0]\n",
    "verb"
   ]
  },
  {
   "cell_type": "code",
   "execution_count": 52,
   "id": "23c36fc0",
   "metadata": {},
   "outputs": [
    {
     "data": {
      "text/plain": [
       "{'type': 'verb',\n",
       " 'name': 'filter',\n",
       " 'params': {'filterer': <xarray.DataArray (time: 2)>\n",
       "  array([0., 1.])\n",
       "  Coordinates:\n",
       "    * time          (time) datetime64[ns] 2019-01-01 2020-12-31\n",
       "      spatial_ref   int64 0\n",
       "      temporal_ref  int64 0\n",
       "  Attributes:\n",
       "      value_type:  binary,\n",
       "  'trim': False,\n",
       "  'track_types': True}}"
      ]
     },
     "execution_count": 52,
     "metadata": {},
     "output_type": "execute_result"
    }
   ],
   "source": [
    "verb[\"params\"] = processor.parse_params_of_filter(verb[\"params\"])\n",
    "verb"
   ]
  },
  {
   "cell_type": "markdown",
   "id": "1ec33486",
   "metadata": {},
   "source": [
    "### Query response\n",
    "\n",
    "To actually make the query processor return the response, you have to call the `respond` method of the `QueryProcessor` instance. Before returning the result arrays, this method will first post-process them.\n",
    "\n",
    "One of the post-processing steps is *trimming* the result arrays. This means that all coordinates for which all values are nodata, are dropped from the array. The spatial dimension (if present) is treated differently, by trimming it only at the edges, and thus maintaining the regularity of the spatial dimension.\n",
    "\n",
    "Trimming results can be disabled by adding the configuration parameter \"trim_results\" when initializing the query processor, and set its value to \"False\".\n",
    "\n",
    "```python\n",
    "config[\"trim_results\"] = False\n",
    "```\n",
    "\n",
    "Note the difference:"
   ]
  },
  {
   "cell_type": "code",
   "execution_count": 53,
   "id": "2a62824b",
   "metadata": {},
   "outputs": [],
   "source": [
    "new_recipe = sq.QueryRecipe()\n",
    "new_config = copy.deepcopy(config)\n",
    "\n",
    "new_recipe[\"foo\"] = sq.entity(\"water\").filter_time(\"year\", \"equal\", 2020)"
   ]
  },
  {
   "cell_type": "code",
   "execution_count": 54,
   "id": "af97a7b7",
   "metadata": {},
   "outputs": [
    {
     "data": {
      "text/plain": [
       "<xarray.plot.facetgrid.FacetGrid at 0x7f37e44f4d00>"
      ]
     },
     "execution_count": 54,
     "metadata": {},
     "output_type": "execute_result"
    },
    {
     "data": {
      "image/png": "[encoded data removed]",
      "text/plain": [
       "<Figure size 504x216 with 3 Axes>"
      ]
     },
     "metadata": {
      "needs_background": "light"
     },
     "output_type": "display_data"
    }
   ],
   "source": [
    "out = new_recipe.execute(factbase, ontology, space, time, **new_config)[\"foo\"]\n",
    "\n",
    "values = [0, 1]\n",
    "levels = [x - 0.5 for x in values + [max(values) + 1]]\n",
    "legend = {\"ticks\": values, \"label\": \"IsWater\"}\n",
    "out.unstack().plot(col = \"time\", levels = levels, colors = colors, cbar_kwargs = legend)"
   ]
  },
  {
   "cell_type": "code",
   "execution_count": 55,
   "id": "828ea354",
   "metadata": {},
   "outputs": [],
   "source": [
    "new_config[\"trim_results\"] = False"
   ]
  },
  {
   "cell_type": "code",
   "execution_count": 56,
   "id": "43549ee5",
   "metadata": {},
   "outputs": [
    {
     "data": {
      "text/plain": [
       "<xarray.plot.facetgrid.FacetGrid at 0x7f37e44e5e80>"
      ]
     },
     "execution_count": 56,
     "metadata": {},
     "output_type": "execute_result"
    },
    {
     "data": {
      "image/png": "[encoded data removed]",
      "text/plain": [
       "<Figure size 720x216 with 4 Axes>"
      ]
     },
     "metadata": {
      "needs_background": "light"
     },
     "output_type": "display_data"
    }
   ],
   "source": [
    "out = new_recipe.execute(factbase, ontology, space, time, **new_config)[\"foo\"]\n",
    "\n",
    "values = [0, 1]\n",
    "levels = [x - 0.5 for x in values + [max(values) + 1]]\n",
    "legend = {\"ticks\": values, \"label\": \"IsWater\"}\n",
    "out.unstack().plot(col = \"time\", levels = levels, colors = colors, cbar_kwargs = legend)"
   ]
  },
  {
   "cell_type": "markdown",
   "id": "9e0efc8d",
   "metadata": {},
   "source": [
    "Another post-processing step is *unstacking* the result arrays. Internally the query processor always works with arrays that have a stacked spatial dimension, meaning the the x and y dimension are stacked together into a single multi-indexed space dimension. Before responding, the query processor unstacks the space dimension, such that the returned arrays have separate x and y dimensions again.\n",
    "\n",
    "Unstacking results can be disabled by adding the configuration parameter \"unstack_results\" when initializing the query processor, and set its value to \"False\".\n",
    "\n",
    "```python\n",
    "config[\"unstack_results\"] = False\n",
    "```\n",
    "\n",
    "Note the difference:"
   ]
  },
  {
   "cell_type": "code",
   "execution_count": 57,
   "id": "cb7655cc",
   "metadata": {},
   "outputs": [],
   "source": [
    "new_recipe = sq.QueryRecipe()\n",
    "new_config = copy.deepcopy(config)\n",
    "\n",
    "new_recipe[\"foo\"] = sq.entity(\"water\").filter_time(\"year\", \"equal\", 2020)"
   ]
  },
  {
   "cell_type": "code",
   "execution_count": 58,
   "id": "d2206f3f",
   "metadata": {},
   "outputs": [
    {
     "name": "stdout",
     "output_type": "stream",
     "text": [
      "<xarray.DataArray 'foo' (time: 2, y: 563, x: 576)>\n",
      "array([[[0., 0., 0., ..., 0., 0., 0.],\n",
      "        [0., 0., 0., ..., 0., 0., 0.],\n",
      "        [0., 0., 0., ..., 0., 0., 0.],\n",
      "        ...,\n",
      "        [0., 0., 0., ..., 0., 0., 0.],\n",
      "        [0., 0., 0., ..., 0., 0., 0.],\n",
      "        [0., 0., 0., ..., 0., 0., 0.]],\n",
      "\n",
      "       [[1., 1., 1., ..., 0., 0., 0.],\n",
      "        [1., 1., 1., ..., 0., 0., 0.],\n",
      "        [1., 1., 1., ..., 0., 0., 0.],\n",
      "        ...,\n",
      "        [0., 0., 0., ..., 0., 0., 0.],\n",
      "        [0., 0., 0., ..., 0., 0., 0.],\n",
      "        [0., 0., 0., ..., 0., 0., 0.]]])\n",
      "Coordinates:\n",
      "  * time          (time) datetime64[ns] 2020-09-05T10:17:43.167942 2020-12-19...\n",
      "    spatial_ref   int64 0\n",
      "    temporal_ref  int64 0\n",
      "    feature       (y, x) float64 1.0 1.0 1.0 1.0 1.0 1.0 ... 1.0 1.0 1.0 1.0 1.0\n",
      "  * y             (y) float64 2.697e+06 2.697e+06 ... 2.691e+06 2.691e+06\n",
      "  * x             (x) float64 4.53e+06 4.53e+06 4.53e+06 ... 4.536e+06 4.536e+06\n",
      "Attributes:\n",
      "    value_type:  binary\n"
     ]
    }
   ],
   "source": [
    "out = new_recipe.execute(factbase, ontology, space, time, **new_config)[\"foo\"]\n",
    "print(out)"
   ]
  },
  {
   "cell_type": "code",
   "execution_count": 59,
   "id": "3b477602",
   "metadata": {},
   "outputs": [],
   "source": [
    "new_config[\"unstack_results\"] = False"
   ]
  },
  {
   "cell_type": "code",
   "execution_count": 60,
   "id": "f0f7ab60",
   "metadata": {},
   "outputs": [
    {
     "name": "stdout",
     "output_type": "stream",
     "text": [
      "<xarray.DataArray 'foo' (time: 2, space: 324288)>\n",
      "array([[0., 0., 0., ..., 0., 0., 0.],\n",
      "       [1., 1., 1., ..., 0., 0., 0.]])\n",
      "Coordinates:\n",
      "  * time          (time) datetime64[ns] 2020-09-05T10:17:43.167942 2020-12-19...\n",
      "    spatial_ref   int64 0\n",
      "    temporal_ref  int64 0\n",
      "    feature       (space) float64 1.0 1.0 1.0 1.0 1.0 ... 1.0 1.0 1.0 1.0 1.0\n",
      "  * space         (space) MultiIndex\n",
      "  - y             (space) float64 2.697e+06 2.697e+06 ... 2.691e+06 2.691e+06\n",
      "  - x             (space) float64 4.53e+06 4.53e+06 ... 4.536e+06 4.536e+06\n",
      "Attributes:\n",
      "    value_type:  binary\n"
     ]
    }
   ],
   "source": [
    "out = new_recipe.execute(factbase, ontology, space, time, **new_config)[\"foo\"]\n",
    "print(out)"
   ]
  },
  {
   "cell_type": "markdown",
   "id": "834baf26",
   "metadata": {},
   "source": [
    "## Creating a spatio-temporal extent cube\n",
    "\n",
    "Internally the query processor uses a single multi-dimensional array to represent the spatio-temporal extent of the query. This is an `xarray.DataArray` object and forms the base template for all cubes that are fetched from the factbase during query processing. It is created during the [query parsing](#Query-parsing) phase, using a specific function named `create_extent_cube`. \n",
    "\n",
    "The array is constructed as follows:\n",
    "\n",
    "1) The spatial extent is *reprojected* and *rasterized* given the specified coordinate reference system and spatial resolution in the configuration parameters. The resulting array is always rectangular and therefore covers the full *bounding box* of the area that was orginally given as spatial extent. Cells that don't overlap with the area boundaries itself are filled with nodata values (i.e. `nan`). Others are filled with an integer. If the given area consisted of a single feature, they are all filled with a value of `1`. If the given area consisted of multiple disconnected features, each feature gets a different index value.\n",
    "\n",
    "2) The two spatial dimensions are *stacked* together into a single \"space\" dimension. This dimension has as many coordinates as the number of cells in the trimmed spatial array. Each coordinate value is a tuple of the x and y coordinate of the corresponding cell.\n",
    "\n",
    "3) This stacked spatial array is *expanded* over a time dimension. The time dimension has two coordinates: the first coordinate value corresponds to the timestamp at the start of the given time interval, and the second coordinate value corresponds to the timestamp at the end of the given time interval. The time values are *converted* into the specified time zone in the configuration parameters.\n",
    "\n",
    "4) The spatio-temporal array is *trimmed*, meaning that all coordinates for which all pixel values are nodata, are removed from the array. The spatial dimension (if present) is treated differently, by trimming it only at the edges, and thus maintaining the regularity of the spatial dimension.\n",
    "\n",
    "You can call the `create_extent_cube` function directly to create a spatio-temporal extent cube from respectively a spatial and temporal extent. It may occur that due to the reprojection of the provided spatial extent, some pixels at the edges of the extent get a nodata value."
   ]
  },
  {
   "cell_type": "code",
   "execution_count": 61,
   "id": "47ca28ec",
   "metadata": {},
   "outputs": [],
   "source": [
    "from semantique.processor.utils import create_extent_cube"
   ]
  },
  {
   "cell_type": "code",
   "execution_count": 62,
   "id": "a7ad0eaf",
   "metadata": {},
   "outputs": [],
   "source": [
    "crs = config[\"crs\"]\n",
    "tz = config[\"tz\"]\n",
    "res = config[\"spatial_resolution\"]\n",
    "extent = create_extent_cube(space, time, res, crs = crs, tz = tz)"
   ]
  },
  {
   "cell_type": "code",
   "execution_count": 63,
   "id": "02e2d34d",
   "metadata": {},
   "outputs": [
    {
     "name": "stdout",
     "output_type": "stream",
     "text": [
      "<xarray.DataArray 'index' (time: 2, space: 324288)>\n",
      "array([[1., 1., 1., ..., 1., 1., 1.],\n",
      "       [1., 1., 1., ..., 1., 1., 1.]])\n",
      "Coordinates:\n",
      "  * time          (time) datetime64[ns] 2019-01-01 2020-12-31\n",
      "    spatial_ref   int64 0\n",
      "    feature       (space) float64 1.0 1.0 1.0 1.0 1.0 ... 1.0 1.0 1.0 1.0 1.0\n",
      "    temporal_ref  int64 0\n",
      "  * space         (space) MultiIndex\n",
      "  - y             (space) float64 2.697e+06 2.697e+06 ... 2.691e+06 2.691e+06\n",
      "  - x             (space) float64 4.53e+06 4.53e+06 ... 4.536e+06 4.536e+06\n",
      "Attributes:\n",
      "    name:          index\n",
      "    long_name:     index\n",
      "    _FillValue:    nan\n",
      "    value_type:    nominal\n",
      "    value_labels:  {'feature_1': 1}\n"
     ]
    }
   ],
   "source": [
    "print(extent)"
   ]
  },
  {
   "cell_type": "markdown",
   "id": "9dfbb4b6",
   "metadata": {},
   "source": [
    "Complying with common standards (see e.g. the discussion [here](https://github.com/opendatacube/datacube-core/issues/837)), the coordinate reference system of the spatial coordinates is stored as attribute of a specific non-dimension coordinate named \"spatial_ref\". Storing this inside a non-dimension coordinate instead of as direct attribute of the array guarantees that this information is preserved during any kind of operation. The coordinate itself serves merely as a placeholder."
   ]
  },
  {
   "cell_type": "code",
   "execution_count": 64,
   "id": "36320299",
   "metadata": {},
   "outputs": [
    {
     "name": "stdout",
     "output_type": "stream",
     "text": [
      "{'crs_wkt': 'PROJCS[\"ETRS89-extended / LAEA Europe\",GEOGCS[\"ETRS89\",DATUM[\"European_Terrestrial_Reference_System_1989\",SPHEROID[\"GRS 1980\",6378137,298.257222101,AUTHORITY[\"EPSG\",\"7019\"]],AUTHORITY[\"EPSG\",\"6258\"]],PRIMEM[\"Greenwich\",0,AUTHORITY[\"EPSG\",\"8901\"]],UNIT[\"degree\",0.0174532925199433,AUTHORITY[\"EPSG\",\"9122\"]],AUTHORITY[\"EPSG\",\"4258\"]],PROJECTION[\"Lambert_Azimuthal_Equal_Area\"],PARAMETER[\"latitude_of_center\",52],PARAMETER[\"longitude_of_center\",10],PARAMETER[\"false_easting\",4321000],PARAMETER[\"false_northing\",3210000],UNIT[\"metre\",1,AUTHORITY[\"EPSG\",\"9001\"]],AXIS[\"Northing\",NORTH],AXIS[\"Easting\",EAST],AUTHORITY[\"EPSG\",\"3035\"]]', 'semi_major_axis': 6378137.0, 'semi_minor_axis': 6356752.314140356, 'inverse_flattening': 298.257222101, 'reference_ellipsoid_name': 'GRS 1980', 'longitude_of_prime_meridian': 0.0, 'prime_meridian_name': 'Greenwich', 'geographic_crs_name': 'ETRS89', 'horizontal_datum_name': 'European Terrestrial Reference System 1989', 'projected_crs_name': 'ETRS89-extended / LAEA Europe', 'grid_mapping_name': 'lambert_azimuthal_equal_area', 'latitude_of_projection_origin': 52.0, 'longitude_of_projection_origin': 10.0, 'false_easting': 4321000.0, 'false_northing': 3210000.0, 'spatial_ref': 'PROJCS[\"ETRS89-extended / LAEA Europe\",GEOGCS[\"ETRS89\",DATUM[\"European_Terrestrial_Reference_System_1989\",SPHEROID[\"GRS 1980\",6378137,298.257222101,AUTHORITY[\"EPSG\",\"7019\"]],AUTHORITY[\"EPSG\",\"6258\"]],PRIMEM[\"Greenwich\",0,AUTHORITY[\"EPSG\",\"8901\"]],UNIT[\"degree\",0.0174532925199433,AUTHORITY[\"EPSG\",\"9122\"]],AUTHORITY[\"EPSG\",\"4258\"]],PROJECTION[\"Lambert_Azimuthal_Equal_Area\"],PARAMETER[\"latitude_of_center\",52],PARAMETER[\"longitude_of_center\",10],PARAMETER[\"false_easting\",4321000],PARAMETER[\"false_northing\",3210000],UNIT[\"metre\",1,AUTHORITY[\"EPSG\",\"9001\"]],AXIS[\"Northing\",NORTH],AXIS[\"Easting\",EAST],AUTHORITY[\"EPSG\",\"3035\"]]', 'GeoTransform': '4530110.0 10.0 0.0 2696640.0 0.0 -10.0'}\n"
     ]
    }
   ],
   "source": [
    "print(extent[\"spatial_ref\"].attrs)"
   ]
  },
  {
   "cell_type": "markdown",
   "id": "13338002",
   "metadata": {},
   "source": [
    "In the same style, `semantique` stores time zone information as attribute of a non-dimension coordinate named \"temporal_ref\". Note that time coordinates themselves are stored as `numpy.datetime64` objects, which in itself don't support timezone information anymore. Therefore, the \"temporal_ref\" coordinate is an important piece of information in the spatio-temporal extent cube."
   ]
  },
  {
   "cell_type": "code",
   "execution_count": 65,
   "id": "538e9995",
   "metadata": {},
   "outputs": [
    {
     "name": "stdout",
     "output_type": "stream",
     "text": [
      "{'zone': 'UTC'}\n"
     ]
    }
   ],
   "source": [
    "print(extent[\"temporal_ref\"].attrs)"
   ]
  },
  {
   "cell_type": "markdown",
   "id": "a6c32939",
   "metadata": {},
   "source": [
    "The query processor obtains such spatio-temporal information by calling specific properties of the array, rather than scanning the above-mentioned non-dimension coordinates directly.\n",
    "\n",
    "> **NOTE** <br/> `semantique` extends regular `xarray.DataArray` objects with an accessor named `sq`. Therefore, `semantique` specific array methods are always called as `sq.methodname`. Using accessors instead of the common class inheritance is recommended by the developers of `xarray`. Read more about it [here](http://xarray.pydata.org/en/stable/internals/extending-xarray.html)."
   ]
  },
  {
   "cell_type": "code",
   "execution_count": 66,
   "id": "3d8fe221",
   "metadata": {},
   "outputs": [
    {
     "data": {
      "text/plain": [
       "CRS.from_epsg(3035)"
      ]
     },
     "execution_count": 66,
     "metadata": {},
     "output_type": "execute_result"
    }
   ],
   "source": [
    "extent.sq.crs"
   ]
  },
  {
   "cell_type": "code",
   "execution_count": 67,
   "id": "1b88abc5",
   "metadata": {},
   "outputs": [
    {
     "data": {
      "text/plain": [
       "rasterio.crs.CRS"
      ]
     },
     "execution_count": 67,
     "metadata": {},
     "output_type": "execute_result"
    }
   ],
   "source": [
    "type(extent.sq.crs)"
   ]
  },
  {
   "cell_type": "code",
   "execution_count": 68,
   "id": "968b0f4b",
   "metadata": {},
   "outputs": [
    {
     "data": {
      "text/plain": [
       "<UTC>"
      ]
     },
     "execution_count": 68,
     "metadata": {},
     "output_type": "execute_result"
    }
   ],
   "source": [
    "extent.sq.tz"
   ]
  },
  {
   "cell_type": "code",
   "execution_count": 69,
   "id": "0cd261cc",
   "metadata": {},
   "outputs": [
    {
     "data": {
      "text/plain": [
       "pytz.UTC"
      ]
     },
     "execution_count": 69,
     "metadata": {},
     "output_type": "execute_result"
    }
   ],
   "source": [
    "type(extent.sq.tz)"
   ]
  },
  {
   "cell_type": "code",
   "execution_count": 70,
   "id": "e8328863",
   "metadata": {},
   "outputs": [
    {
     "data": {
      "text/plain": [
       "(-10.0, 10.0)"
      ]
     },
     "execution_count": 70,
     "metadata": {},
     "output_type": "execute_result"
    }
   ],
   "source": [
    "extent.sq.spatial_resolution"
   ]
  },
  {
   "cell_type": "markdown",
   "id": "249ff319",
   "metadata": {},
   "source": [
    "## Tracking value types"
   ]
  },
  {
   "cell_type": "markdown",
   "id": "37f74390",
   "metadata": {},
   "source": [
    "During query processing references get translated into data cubes, and these data cubes are wrangled by specified actions. Along this road, the query processor keeps track of the *value type* of each data cube. Such a value type describes what kind of data the cube contains. It differs from the very technical, computer-oriented `numpy.dtype` categorization, which contains e.g. `int`, `float`, etc. Instead, the *value type* describes data on a more general, statistical level.  Currently it makes a distinction between three main value types:\n",
    "\n",
    "- Numerical\n",
    "- Nominal\n",
    "- Ordinal\n",
    "- Binary\n",
    "\n",
    "It is expected that whenever a data cube is retrieved from the factbase, the corresponding value type is stored as an array attribute named \"value_type\". Even when the data are not qualitative, they are usually stored as numbers. In these cases, an additional attribute named \"value_labels\" may be used to define the mapping between character-encoded *labels* and integer-encoded *indices*.\n",
    "\n",
    "If a data cube does not contain these attributes, the value type is considered to be `None`, which in practice means that the query processor assumes it can be any of the supported value types."
   ]
  },
  {
   "cell_type": "code",
   "execution_count": 71,
   "id": "42f85130",
   "metadata": {},
   "outputs": [],
   "source": [
    "colors = factbase.retrieve(\"appearance\", \"Color type\", extent = extent)"
   ]
  },
  {
   "cell_type": "code",
   "execution_count": 72,
   "id": "f4db7df4",
   "metadata": {},
   "outputs": [
    {
     "data": {
      "text/plain": [
       "'ordinal'"
      ]
     },
     "execution_count": 72,
     "metadata": {},
     "output_type": "execute_result"
    }
   ],
   "source": [
    "colors.sq.value_type"
   ]
  },
  {
   "cell_type": "code",
   "execution_count": 73,
   "id": "5b9f687f",
   "metadata": {},
   "outputs": [
    {
     "data": {
      "text/plain": [
       "{'SVHNIR': 1,\n",
       " 'SVLNIR': 2,\n",
       " 'AVHNIR': 3,\n",
       " 'AVLNIR': 4,\n",
       " 'WV': 5,\n",
       " 'SHV': 6,\n",
       " 'SHRBRHNIR': 7,\n",
       " 'SHRBRLNIR': 8,\n",
       " 'HRBCR': 9,\n",
       " 'WR': 10,\n",
       " 'PB': 11,\n",
       " 'GH': 12,\n",
       " 'VBBB': 13,\n",
       " 'BBB': 14,\n",
       " 'SBB': 15,\n",
       " 'ABB': 16,\n",
       " 'DBB': 17,\n",
       " 'WBBorSHB': 18,\n",
       " 'NIRPBB': 19,\n",
       " 'BA': 20,\n",
       " 'DPWASH': 21,\n",
       " 'SLWASH': 22,\n",
       " 'TWASH': 23,\n",
       " 'SASLWA': 24,\n",
       " 'TNCLV': 27,\n",
       " 'TNCLWA_BB': 28,\n",
       " 'SN': 29,\n",
       " 'SHSN': 30,\n",
       " 'SH': 31,\n",
       " 'FLAME': 32}"
      ]
     },
     "execution_count": 73,
     "metadata": {},
     "output_type": "execute_result"
    }
   ],
   "source": [
    "colors.sq.value_labels"
   ]
  },
  {
   "cell_type": "code",
   "execution_count": 74,
   "id": "ec7533c6",
   "metadata": {},
   "outputs": [],
   "source": [
    "water = ontology.translate(\"entity\", \"water\", extent = extent, factbase = factbase)"
   ]
  },
  {
   "cell_type": "code",
   "execution_count": 75,
   "id": "e3a7c09c",
   "metadata": {},
   "outputs": [
    {
     "data": {
      "text/plain": [
       "'binary'"
      ]
     },
     "execution_count": 75,
     "metadata": {},
     "output_type": "execute_result"
    }
   ],
   "source": [
    "water.sq.value_type"
   ]
  },
  {
   "cell_type": "markdown",
   "id": "64842104",
   "metadata": {},
   "source": [
    "Whenever applying actions to a data cube, its value type might change. For example, when evaluating an expression (e.g. when evaluating an expression involving a comparison operator the resulting values are always binary) or applying a reducer (e.g. when counting the number of \"true\" values in a binary data cube the resulting values are numerical). This is what we also call **type promotion**. Each implemented operator and reducer function is able to promote the type of the output given the type(s) of the input(s) by using a type promotion manual. Most of the times this manual is not constructed inside the function itself, but a pre-defined template is used instead.\n",
    "\n",
    "A common type promotion manual for a univariate operator and a reducer has a dictionary structure with as keys the supported input value types. The value of each key is the output value type. For example, the `count` reducer should only be applied to data cubes containing binary data, since it counts the number of \"true\" values. The output of that operation, however, is a data cube with numerical data. Hence, the corresponding type promotion manual looks like this:"
   ]
  },
  {
   "cell_type": "code",
   "execution_count": 76,
   "id": "2ca900f8",
   "metadata": {},
   "outputs": [],
   "source": [
    "from semantique.processor.templates import TYPE_PROMOTION_TEMPLATES"
   ]
  },
  {
   "cell_type": "code",
   "execution_count": 77,
   "id": "4631ff49",
   "metadata": {},
   "outputs": [
    {
     "data": {
      "text/plain": [
       "{'binary': 'numerical', None: None, '__preserve_labels__': False}"
      ]
     },
     "execution_count": 77,
     "metadata": {},
     "output_type": "execute_result"
    }
   ],
   "source": [
    "TYPE_PROMOTION_TEMPLATES[\"count_reducers\"]"
   ]
  },
  {
   "cell_type": "markdown",
   "id": "fd4317df",
   "metadata": {},
   "source": [
    "The additional key `__preserve_labels__` defines if value labels should be preserved after the reducer is applied.\n",
    "\n",
    "The reduction function will apply the type promotion whenever argument `track_types` is set to `True`. When we apply the count reducer to a binary data cube, this means the value type of the output will be numerical:"
   ]
  },
  {
   "cell_type": "code",
   "execution_count": 78,
   "id": "8b20e14e",
   "metadata": {},
   "outputs": [],
   "source": [
    "from semantique.processor import reducers"
   ]
  },
  {
   "cell_type": "code",
   "execution_count": 79,
   "id": "b197606f",
   "metadata": {},
   "outputs": [
    {
     "data": {
      "text/plain": [
       "'numerical'"
      ]
     },
     "execution_count": 79,
     "metadata": {},
     "output_type": "execute_result"
    }
   ],
   "source": [
    "new = water.sq.reduce(\"time\", reducers.count_, track_types = True)\n",
    "new.sq.value_type"
   ]
  },
  {
   "cell_type": "markdown",
   "id": "80e9514c",
   "metadata": {},
   "source": [
    "Now, when we call this reducer function on e.g. an ordinal data cube instead of a binary data cube, an `InvalidValueTypeError` will be thrown. Hence, the query processor uses type tracking also to *check* type promotions, and thus, to detect invalid operations."
   ]
  },
  {
   "cell_type": "code",
   "execution_count": 80,
   "id": "43f89775",
   "metadata": {},
   "outputs": [],
   "source": [
    "from semantique.exceptions import InvalidValueTypeError"
   ]
  },
  {
   "cell_type": "code",
   "execution_count": 81,
   "id": "2db84cfa",
   "metadata": {},
   "outputs": [
    {
     "name": "stdout",
     "output_type": "stream",
     "text": [
      "Unsupported operand value type(s) for 'count': '['ordinal']'\n"
     ]
    }
   ],
   "source": [
    "try:\n",
    "    colors.sq.reduce(\"time\", reducers.count_, track_types = True)\n",
    "except InvalidValueTypeError as e:\n",
    "    print(e)"
   ]
  },
  {
   "cell_type": "markdown",
   "id": "1e873d8a",
   "metadata": {},
   "source": [
    "This will not happen when `track_types = False`. In that case, value types are not tracked and the output cube has no value type at all."
   ]
  },
  {
   "cell_type": "code",
   "execution_count": 82,
   "id": "5727500b",
   "metadata": {},
   "outputs": [
    {
     "data": {
      "text/plain": [
       "False"
      ]
     },
     "execution_count": 82,
     "metadata": {},
     "output_type": "execute_result"
    }
   ],
   "source": [
    "new = colors.sq.reduce(\"time\", reducers.count_, track_types = False)\n",
    "\"value_type\" in new.attrs"
   ]
  },
  {
   "cell_type": "markdown",
   "id": "a12e752e",
   "metadata": {},
   "source": [
    "For multivariate expressions, the type promotion manuals have an extra \"layer\" per additional operand. For expressions with two operands, that means that the first layer of keys refers to the value type of the first operand (i.e. x) and the second layer of keys to the value type of the second operand (i.e. y). For example, the boolean operator `and` accepts only data cubes with binary values, and returns binary values as well. Hence, the corresponding type promotion manual looks like this:"
   ]
  },
  {
   "cell_type": "code",
   "execution_count": 83,
   "id": "d8f10820",
   "metadata": {},
   "outputs": [
    {
     "data": {
      "text/plain": [
       "{'binary': {'binary': 'binary', 'b': 'binary', None: None},\n",
       " None: {'binary': None, 'b': None, None: None},\n",
       " '__preserve_labels__': True}"
      ]
     },
     "execution_count": 83,
     "metadata": {},
     "output_type": "execute_result"
    }
   ],
   "source": [
    "TYPE_PROMOTION_TEMPLATES[\"boolean_multivariate_operators\"]"
   ]
  },
  {
   "cell_type": "markdown",
   "id": "b07318ac",
   "metadata": {},
   "source": [
    "When `track_types = True`, the operator function will apply the type promotion. Also here, providing data cubes with an unsupported value type for this operation results in an `InvalidValueTypeError`."
   ]
  },
  {
   "cell_type": "code",
   "execution_count": 84,
   "id": "6afc04bf",
   "metadata": {},
   "outputs": [],
   "source": [
    "from semantique.processor import operators"
   ]
  },
  {
   "cell_type": "code",
   "execution_count": 85,
   "id": "cfcb844d",
   "metadata": {},
   "outputs": [
    {
     "data": {
      "text/plain": [
       "'binary'"
      ]
     },
     "execution_count": 85,
     "metadata": {},
     "output_type": "execute_result"
    }
   ],
   "source": [
    "new = water.sq.evaluate(operators.and_, water, track_types = True)\n",
    "new.sq.value_type"
   ]
  },
  {
   "cell_type": "code",
   "execution_count": 86,
   "id": "82a450d6",
   "metadata": {},
   "outputs": [
    {
     "name": "stdout",
     "output_type": "stream",
     "text": [
      "Unsupported operand value type(s) for 'and': '['ordinal', 'binary']'\n"
     ]
    }
   ],
   "source": [
    "try:\n",
    "    colors.sq.evaluate(operators.and_, water, track_types = True)\n",
    "except InvalidValueTypeError as e:\n",
    "    print(e)"
   ]
  },
  {
   "cell_type": "markdown",
   "id": "a47bbce6",
   "metadata": {},
   "source": [
    "In the type promotion manual of the `and` operator we see something interesting: the occurence \"b\" in the second layer of keys. This is there since the second operand in the evaluate verb can also be a single value or a list of values instead of a data cube. For such values, we use regular numpy dtypes to check types. In numpy, the [character code](https://numpy.org/doc/stable/reference/generated/numpy.dtype.kind.html) \"b\" refers to boolean values, and are therefore accepted as second operand in an expression involving a logical operator like `and`."
   ]
  },
  {
   "cell_type": "code",
   "execution_count": 87,
   "id": "81f5cfb8",
   "metadata": {},
   "outputs": [
    {
     "data": {
      "text/plain": [
       "'binary'"
      ]
     },
     "execution_count": 87,
     "metadata": {},
     "output_type": "execute_result"
    }
   ],
   "source": [
    "new = water.sq.evaluate(operators.and_, True, track_types = True)\n",
    "new.sq.value_type"
   ]
  },
  {
   "cell_type": "markdown",
   "id": "aef613d5",
   "metadata": {},
   "source": [
    "Next to the main value types, there are two special value types we did not touch upon yet. These are *time* for timestamps and *space* for tuples of (x, y)-coordinates. These additional value types are added to support specific temporal (e.g. during, after) and spatial (e.g. intersects) operators. For example, the temporal operator `during` only accepts data cubes containing timestamps (usually such cubes are obtained by extracting dimension coordinates from a retrieved data cube), and possibly datetime objects (character code \"M\") as second operand."
   ]
  },
  {
   "cell_type": "code",
   "execution_count": 88,
   "id": "94a1c693",
   "metadata": {},
   "outputs": [
    {
     "data": {
      "text/plain": [
       "{'time': {'time': 'binary', 'M': 'binary', None: None},\n",
       " None: {'time': None, 'M': None, None: None},\n",
       " '__preserve_labels__': False}"
      ]
     },
     "execution_count": 88,
     "metadata": {},
     "output_type": "execute_result"
    }
   ],
   "source": [
    "TYPE_PROMOTION_TEMPLATES[\"temporal_relational_operators\"]"
   ]
  },
  {
   "cell_type": "markdown",
   "id": "577b0edb",
   "metadata": {},
   "source": [
    "Now what if you don't want the query processor to track types at all? There are several reasons why you'd want to do so. For example, type tracking can be so strict that it limits your flexibility of using certain processes \"out of the box\". Some custom factbases you use may not set value types at all, and some custom operators or reducers that you use may not have any type promotion manual. Also, type tracking of course takes time and thus decreases query performance. No worries, it is easy to tell the query processor to *not* track types. Simply add the configuration parameter \"track_types\" when initializing the query processor, and set its value to \"False\":\n",
    "\n",
    "```python\n",
    "config[\"track_types\"] = False\n",
    "```"
   ]
  },
  {
   "cell_type": "markdown",
   "id": "333d48db",
   "metadata": {},
   "source": [
    "## Adding custom operators\n",
    "\n",
    "Operators are used when evaluating expressions on data cubes with the [evaluate verb](verbs.ipynb#Evaluate). For example, you can compare each value in a data cube with a given constant (using e.g. the `greater`, `equal` or `less` operators), add two data cubes together (using the `add` operator), etcetera. When creating a query recipe, you can refer to these operators by their name, for example:\n",
    "\n",
    "```python\n",
    "sq.result(\"water_count\").evaluate(\"multiply\", 2)\n",
    "```\n",
    "\n",
    "The query processor instance has a `operators` property in \n",
    "which it stores all supported operator functions. The keys of this dictionary are the operator names, such that the query processor can quickly retrieve the corresponding function of any referenced operator in the query recipe. For example:"
   ]
  },
  {
   "cell_type": "code",
   "execution_count": 89,
   "id": "1cca9a9b",
   "metadata": {},
   "outputs": [
    {
     "data": {
      "text/plain": [
       "<function semantique.processor.operators.multiply_(x, y, track_types=False, **kwargs)>"
      ]
     },
     "execution_count": 89,
     "metadata": {},
     "output_type": "execute_result"
    }
   ],
   "source": [
    "processor.operators[\"multiply\"]"
   ]
  },
  {
   "cell_type": "markdown",
   "id": "649ba90d",
   "metadata": {},
   "source": [
    "As can be seen, the operator function itself is taken from the [operators module](semantique/processor/operators.py) of `semantique`. This is the module in which all built-in operator functions are defined. When initializing a query processor with default settings, these are the operators that get stored in the processors `operators` property."
   ]
  },
  {
   "cell_type": "code",
   "execution_count": 90,
   "id": "9d3e552b",
   "metadata": {},
   "outputs": [
    {
     "name": "stdout",
     "output_type": "stream",
     "text": [
      "absolute\n",
      "add\n",
      "after\n",
      "and\n",
      "assign\n",
      "before\n",
      "cube_root\n",
      "divide\n",
      "during\n",
      "equal\n",
      "exclusive_or\n",
      "greater\n",
      "greater_equal\n",
      "in\n",
      "invert\n",
      "less\n",
      "less_equal\n",
      "multiply\n",
      "natural_logarithm\n",
      "not_equal\n",
      "not_in\n",
      "or\n",
      "power\n",
      "square_root\n",
      "subtract\n"
     ]
    }
   ],
   "source": [
    "for x in processor.operators.keys():\n",
    "    print(x)"
   ]
  },
  {
   "cell_type": "markdown",
   "id": "58c35a9e",
   "metadata": {},
   "source": [
    "That all operator functions are stored inside a property of the query processor means that you can easily overwrite them with your own custom operator functions (or add new ones to the list of existing ones) after initializing a query processor instance. However, you can also do this already at initialization itself, by setting specific configuration parameters.\n",
    "\n",
    "But let us first prepare a custom operator. As shown above this requires a name, an operator function and a type promotion manual. If you plan to disable type tracking either way, the latter is of course not needed. An operator function has to accept a `xarray.DataArray` object as its first argument. This is the *active evaluation object* in the processing chain, to which the verb is applied. Multivariate operators also accept a second argument, which can either be a `xarray.DataArray`, or a single value. The return value of the operator must again be a `xarray.DataArray`. Usually it is a good idea to use the [apply_ufunc](http://xarray.pydata.org/en/stable/generated/xarray.apply_ufunc.html) function from `xarray` inside operator functions, as shown below. Also, you should not forget to [align](verbs.ipynb#Aligning-data-cubes-to-the-same-shape) the second operand to the input object before applying the core operation!\n",
    "\n",
    "> **NOTE** <br/> It is also possible to implement operator functions with more than two operands. All additional keyword arguments that the `evaluate` verb receives are simply forwarded to the operator function. You could for example build a query recipe like the following:\n",
    "> ```python\n",
    "sq.result(\"water_count\").evaluate(\"custom\", y = 1, foo = 10, bar = 100)\n",
    "> ```\n",
    "> You then need to implement an operator with four arguments:\n",
    "> ```python\n",
    "def custom(x, y, foo, bar)\n",
    "> ```\n",
    "\n",
    "If you want to [track value types](#Tracking-value-types), the custom operator should also have a `track_types` argument, which can be set to either `True` or `False`. Inside the function, the type promotion should be applied whenever the `track_types` argument is set to `True`. You can create your own type promotion manual or use one of the existing templates. There are different templates for different types of operators. \n",
    "\n",
    "Lets create a custom operator that calculates the normalized difference between two values. Since this is a multivariate algebraic operator, we can use the type promotion template for such operators."
   ]
  },
  {
   "cell_type": "code",
   "execution_count": 91,
   "id": "981e88c2",
   "metadata": {},
   "outputs": [],
   "source": [
    "def normalized_difference(x, y, track_types = False, **kwargs):\n",
    "    def f(x, y):\n",
    "        dif = np.subtract(x, y)\n",
    "        sum = np.add(x, y)\n",
    "        return np.divide(dif, sum)\n",
    "    y = xr.DataArray(y).sq.align_with(x)\n",
    "    out = xr.apply_ufunc(f, x, y)\n",
    "    if track_types:\n",
    "        manual = TYPE_PROMOTION_TEMPLATES[\"algebraic_multivariate_operators\"]\n",
    "        out.sq.promote_value_type(x, y, func = \"normalized_difference\", manual = manual)\n",
    "    return out"
   ]
  },
  {
   "cell_type": "markdown",
   "id": "fea30c37",
   "metadata": {},
   "source": [
    "When executing a query recipe, we can now add this operator to the configuration parameters. There are two ways:\n",
    "\n",
    "1) Setting the \"operators\" parameter will fully replace the default operators with the custom one(s).\n",
    "```python\n",
    "config[\"operators\"] = {\"normalized_difference\": normalized_difference}\n",
    "```\n",
    "\n",
    "2) Setting the \"extra_operators\" parameter will add the custom operator(s) to the default ones. If a custom operator has the same name as a default operator, the default operator will be replaced by the custom operator.\n",
    "```python\n",
    "config[\"extra_operators\"] = {\"normalized_difference\": normalized_difference}\n",
    "```"
   ]
  },
  {
   "cell_type": "code",
   "execution_count": 92,
   "id": "8c445120",
   "metadata": {},
   "outputs": [],
   "source": [
    "new_recipe = sq.QueryRecipe()\n",
    "new_config = copy.deepcopy(config)\n",
    "\n",
    "red = sq.reflectance(\"s2_band04\")\n",
    "nir = sq.reflectance(\"s2_band08\")\n",
    "\n",
    "new_recipe[\"ndvi\"] = nir.evaluate(\"normalized_difference\", red)"
   ]
  },
  {
   "cell_type": "code",
   "execution_count": 93,
   "id": "ec6ea19b",
   "metadata": {},
   "outputs": [],
   "source": [
    "from semantique.exceptions import UnknownOperatorError"
   ]
  },
  {
   "cell_type": "code",
   "execution_count": 94,
   "id": "68aad367",
   "metadata": {},
   "outputs": [
    {
     "name": "stdout",
     "output_type": "stream",
     "text": [
      "Operator 'normalized_difference' is not defined\n"
     ]
    }
   ],
   "source": [
    "try:\n",
    "    print(new_recipe.execute(factbase, ontology, space, time, **new_config)[\"ndvi\"])\n",
    "except UnknownOperatorError as e:\n",
    "    print(e)"
   ]
  },
  {
   "cell_type": "code",
   "execution_count": 95,
   "id": "73abfe4d",
   "metadata": {},
   "outputs": [],
   "source": [
    "new_config[\"extra_operators\"] = {\"normalized_difference\": normalized_difference}"
   ]
  },
  {
   "cell_type": "code",
   "execution_count": 96,
   "id": "a2b2d8f7",
   "metadata": {},
   "outputs": [
    {
     "name": "stdout",
     "output_type": "stream",
     "text": [
      "<xarray.DataArray 'ndvi' (time: 3, y: 563, x: 576)>\n",
      "array([[[ 0.06463104,  0.06605417,  0.04975973, ...,  0.11545816,\n",
      "          0.10660313,  0.10823728],\n",
      "        [ 0.07442172,  0.03657611,  0.04975973, ...,  0.14102377,\n",
      "          0.09754753,  0.10823728],\n",
      "        [ 0.0389009 ,  0.04185903,  0.05637693, ...,  0.11246979,\n",
      "          0.11095286,  0.11179397],\n",
      "        ...,\n",
      "        [ 0.13882795,  0.13730929,  0.14364387, ...,  0.05175072,\n",
      "          0.04400544,  0.06594342],\n",
      "        [ 0.14264128,  0.13166518,  0.13150118, ...,  0.06302978,\n",
      "          0.04802882,  0.04945549],\n",
      "        [ 0.1257726 ,  0.11195005,  0.11356696, ...,  0.08424991,\n",
      "          0.04015335,  0.03483351]],\n",
      "\n",
      "       [[ 0.64032073,  0.51404151,  0.52908966, ...,  0.65699208,\n",
      "          0.75698067,  0.70158989],\n",
      "        [ 0.57204169,  0.42692939,  0.5282392 , ...,  0.68892508,\n",
      "          0.73757455,  0.67257112],\n",
      "        [ 0.36415094,  0.4533205 ,  0.52322524, ...,  0.68765331,\n",
      "          0.70018116,  0.65779927],\n",
      "...\n",
      "        [ 0.7087529 ,  0.73780044,  0.74212034, ...,  0.760401  ,\n",
      "          0.76305419,  0.80208103],\n",
      "        [ 0.71806167,  0.74991482,  0.77155307, ...,  0.78023758,\n",
      "          0.7745248 ,  0.7745248 ],\n",
      "        [ 0.74438108,  0.7622291 ,  0.79881094, ...,  0.76843734,\n",
      "          0.77130371,  0.76729272]],\n",
      "\n",
      "       [[-0.18237082, -0.26141079, -0.25398773, ...,  0.59859155,\n",
      "          0.48709572,  0.60056259],\n",
      "        [-0.1641791 , -0.2920354 , -0.21957041, ...,  0.61845478,\n",
      "          0.54006969,  0.53923818],\n",
      "        [-0.23684211, -0.26146789, -0.20727273, ...,  0.60207972,\n",
      "          0.49000444,  0.42719615],\n",
      "        ...,\n",
      "        [ 0.64620061,  0.66354078,  0.6400818 , ...,  0.54438368,\n",
      "          0.52448133,  0.45625896],\n",
      "        [ 0.61768671,  0.61704394,  0.5682248 , ...,  0.53318966,\n",
      "          0.49320197,  0.49231981],\n",
      "        [ 0.55243644,  0.53545904,  0.47660587, ...,  0.51008278,\n",
      "          0.51458991,  0.4960907 ]]])\n",
      "Coordinates:\n",
      "  * time          (time) datetime64[ns] 2019-12-15T10:17:33.408715 ... 2020-1...\n",
      "    spatial_ref   int64 0\n",
      "    temporal_ref  int64 0\n",
      "    feature       (y, x) float64 1.0 1.0 1.0 1.0 1.0 1.0 ... 1.0 1.0 1.0 1.0 1.0\n",
      "  * y             (y) float64 2.697e+06 2.697e+06 ... 2.691e+06 2.691e+06\n",
      "  * x             (x) float64 4.53e+06 4.53e+06 4.53e+06 ... 4.536e+06 4.536e+06\n",
      "Attributes:\n",
      "    value_type:  numerical\n"
     ]
    }
   ],
   "source": [
    "try:\n",
    "    print(new_recipe.execute(factbase, ontology, space, time, **new_config)[\"ndvi\"])\n",
    "except UnknownOperatorError as e:\n",
    "    print(e)"
   ]
  },
  {
   "cell_type": "markdown",
   "id": "712f9439",
   "metadata": {},
   "source": [
    "## Adding custom reducers\n",
    "\n",
    "Reducers are used inside the [reduce verb](verbs.ipynb#Reduce) as a function to aggregate values along a dimension of a data cube. For example, you can reduce the temporal dimension of a data cube by calculating the average value of each slice along the time dimension axis (using the `mean` reducer), etcetera. When creating a query recipe, you can refer to these reducers by their name, for example:\n",
    "\n",
    "```python\n",
    "sq.result(\"water_count_space\").reduce(\"time\", \"mean\")\n",
    "```\n",
    "\n",
    "The query processor instance has a `reducers` property in which it stores all supported reducer functions. The keys of this dictionary are the reducer names, such that the query processor can quickly retrieve the corresponding function of any referenced reducer in the query recipe. For example:"
   ]
  },
  {
   "cell_type": "code",
   "execution_count": 97,
   "id": "4d4dc02b",
   "metadata": {},
   "outputs": [
    {
     "data": {
      "text/plain": [
       "<function semantique.processor.reducers.mean_(x, dimension, track_types=False, **kwargs)>"
      ]
     },
     "execution_count": 97,
     "metadata": {},
     "output_type": "execute_result"
    }
   ],
   "source": [
    "processor.reducers[\"mean\"]"
   ]
  },
  {
   "cell_type": "markdown",
   "id": "b179b12e",
   "metadata": {},
   "source": [
    "As can be seen, the reducer function itself is taken from the [reducers module](semantique/processor/reducers.py) of `semantique`. This is the module in which all built-in reducer functions are defined. When initializing a query processor with default settings, these are the reducers that get stored in the processors `reducers` property."
   ]
  },
  {
   "cell_type": "code",
   "execution_count": 98,
   "id": "d6c24987",
   "metadata": {},
   "outputs": [
    {
     "name": "stdout",
     "output_type": "stream",
     "text": [
      "all\n",
      "any\n",
      "count\n",
      "first\n",
      "last\n",
      "max\n",
      "mean\n",
      "median\n",
      "min\n",
      "mode\n",
      "percentage\n",
      "product\n",
      "standard_deviation\n",
      "sum\n",
      "variance\n"
     ]
    }
   ],
   "source": [
    "for x in processor.reducers.keys():\n",
    "    print(x)"
   ]
  },
  {
   "cell_type": "markdown",
   "id": "f0b0732e",
   "metadata": {},
   "source": [
    "That all reducer functions are stored inside a property of the query processor means that you can easily overwrite them with your own custom reducer functions (or add new ones to the list of existing ones) after initializing a query processor instance. However, you can also do this already at initialization itself, by setting specific configuration parameters.\n",
    "\n",
    "But let us first prepare a custom reducer. As shown above this requires a name, a reducer function and a type promotion manual. If you plan to disable type tracking either way, the latter is of course not needed. A reducer function has to accept a `xarray.DataArray` object as its first argument. This is the *active evaluation object* in the processing chain, to which the verb is applied. The function should also accept a `dimension` argument, containing the name of the dimension to reduce over. The return value of the reducer must again be a `xarray.DataArray`. Usually it is a good idea to use the [reduce](http://xarray.pydata.org/en/stable/generated/xarray.DataArray.reduce.html) method from `xarray` inside reducer functions, as shown below. This function will take care e.g. of translating the dimension name into its corresponding axis number.\n",
    "\n",
    "> **NOTE** <br/> All additional keyword arguments that the `reduce` verb receives are simply forwarded to the reducers function. That allows you to include additional variables in your reducer functions (e.g. constants). You could for example build a query recipe like the following:\n",
    ">```python\n",
    "sq.result(\"water\").reduce(\"time\", \"custom\", alpha = 0.5)\n",
    ">```\n",
    "> You then need to implement a reducer with four arguments:\n",
    "> ```python\n",
    "def custom(x, dimension, alpha)\n",
    "> ```\n",
    "\n",
    "If you want to [track value types](#Tracking-value-types), the custom reducer should also have a `track_types` argument, which can be set to either `True` or `False`. Inside the function, the type promotion should be applied whenever the `track_types` argument is set to `True`. You can create your own type promotion manual or use one of the existing templates. There are different templates for different types of reducers. \n",
    "\n",
    "Lets create a custom operator that reduces a set of values to its sum of squares. Since this is a numerical reducer (i.e. it only makes sense for numerical data), we can use the type promotion template for such reducers."
   ]
  },
  {
   "cell_type": "code",
   "execution_count": 99,
   "id": "26f1d7a1",
   "metadata": {},
   "outputs": [],
   "source": [
    "def sum_of_squares(x, dimension, track_types = False, **kwargs):\n",
    "    def f(x, axis):\n",
    "        squares = np.square(x)\n",
    "        return np.sum(squares, axis)\n",
    "    out = x.reduce(f, dim = dimension)\n",
    "    if track_types:\n",
    "        manual = TYPE_PROMOTION_TEMPLATES[\"numerical_reducers\"]\n",
    "        out.sq.promote_value_type(x, func = \"sum_of_squares\", manual = manual)\n",
    "    return out"
   ]
  },
  {
   "cell_type": "markdown",
   "id": "42c74777",
   "metadata": {},
   "source": [
    "When executing a query recipe, we can now add this reducer to the configuration parameters. There are two ways:\n",
    "\n",
    "1) Setting the \"reducers\" parameter will fully replace the default reducers with the custom one(s).\n",
    "```python\n",
    "config[\"reducers\"] = {\"sum_of_squares\": sum_of_squares}\n",
    "```\n",
    "\n",
    "2) Setting the \"extra_reducers\" parameter will add the custom reducer(s) to the default ones. If a custom reducer has the same name as a default reducer, the default reducer will be replaced by the custom reducer.\n",
    "```python\n",
    "config[\"extra_reducers\"] = {\"sum_of_squares\": sum_of_squares}\n",
    "```"
   ]
  },
  {
   "cell_type": "code",
   "execution_count": 100,
   "id": "9f7b29c2",
   "metadata": {},
   "outputs": [],
   "source": [
    "new_recipe = sq.QueryRecipe()\n",
    "new_config = copy.deepcopy(config)\n",
    "\n",
    "nir = sq.reflectance(\"s2_band08\")\n",
    "\n",
    "new_recipe[\"foo\"] = nir.reduce(\"time\", \"sum_of_squares\")"
   ]
  },
  {
   "cell_type": "code",
   "execution_count": 101,
   "id": "3c895ebe",
   "metadata": {},
   "outputs": [],
   "source": [
    "from semantique.exceptions import UnknownReducerError"
   ]
  },
  {
   "cell_type": "code",
   "execution_count": 102,
   "id": "9074655c",
   "metadata": {},
   "outputs": [
    {
     "name": "stdout",
     "output_type": "stream",
     "text": [
      "Reducer 'sum_of_squares' is not defined\n"
     ]
    }
   ],
   "source": [
    "try:\n",
    "    print(new_recipe.execute(factbase, ontology, space, time, **new_config)[\"foo\"])\n",
    "except UnknownReducerError as e:\n",
    "    print(e)"
   ]
  },
  {
   "cell_type": "code",
   "execution_count": 103,
   "id": "0d0cdd49",
   "metadata": {},
   "outputs": [],
   "source": [
    "new_config[\"extra_reducers\"] = {\"sum_of_squares\": sum_of_squares}"
   ]
  },
  {
   "cell_type": "code",
   "execution_count": 104,
   "id": "4f7f23c2",
   "metadata": {},
   "outputs": [
    {
     "name": "stdout",
     "output_type": "stream",
     "text": [
      "<xarray.DataArray 'foo' (y: 563, x: 576)>\n",
      "array([[11970029., 12932114., 12805101., ..., 21018013., 29893041.,\n",
      "        25075109.],\n",
      "       [11993949., 12495786., 12418325., ..., 24489320., 27623273.,\n",
      "        20779057.],\n",
      "       [11930054., 12131934., 11431091., ..., 24904561., 21545458.,\n",
      "        17718638.],\n",
      "       ...,\n",
      "       [25405656., 27876425., 27766517., ..., 48620561., 51247553.,\n",
      "        54305937.],\n",
      "       [28771561., 30244321., 31182561., ..., 47444339., 58274411.,\n",
      "        58431746.],\n",
      "       [30685817., 30561806., 36765614., ..., 47268251., 54635210.,\n",
      "        58603757.]])\n",
      "Coordinates:\n",
      "    spatial_ref   int64 0\n",
      "    temporal_ref  int64 0\n",
      "    feature       (y, x) float64 1.0 1.0 1.0 1.0 1.0 1.0 ... 1.0 1.0 1.0 1.0 1.0\n",
      "  * y             (y) float64 2.697e+06 2.697e+06 ... 2.691e+06 2.691e+06\n",
      "  * x             (x) float64 4.53e+06 4.53e+06 4.53e+06 ... 4.536e+06 4.536e+06\n",
      "Attributes:\n",
      "    value_type:  numerical\n"
     ]
    }
   ],
   "source": [
    "try:\n",
    "    print(new_recipe.execute(factbase, ontology, space, time, **new_config)[\"foo\"])\n",
    "except UnknownReducerError as e:\n",
    "    print(e)"
   ]
  },
  {
   "cell_type": "markdown",
   "id": "8b4b6bc7",
   "metadata": {},
   "source": [
    "## Tuning factbase configuration settings\n",
    "\n",
    "*To be added*"
   ]
  },
  {
   "cell_type": "markdown",
   "id": "f28bb88b",
   "metadata": {},
   "source": [
    "## Creating custom factbase classes\n",
    "\n",
    "*To be added*"
   ]
  },
  {
   "cell_type": "markdown",
   "id": "4509aab0",
   "metadata": {},
   "source": [
    "## Creating custom ontology classes\n",
    "\n",
    "*To be added*"
   ]
  }
 ],
 "metadata": {
  "kernelspec": {
   "display_name": "Python [conda env:semantique]",
   "language": "python",
   "name": "conda-env-semantique-py"
  },
  "language_info": {
   "codemirror_mode": {
    "name": "ipython",
    "version": 3
   },
   "file_extension": ".py",
   "mimetype": "text/x-python",
   "name": "python",
   "nbconvert_exporter": "python",
   "pygments_lexer": "ipython3",
   "version": "3.9.7"
  }
 },
 "nbformat": 4,
 "nbformat_minor": 5
}
