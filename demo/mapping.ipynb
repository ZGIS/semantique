{
 "cells": [
  {
   "cell_type": "markdown",
   "id": "38507a1d",
   "metadata": {},
   "source": [
    "# Constructing a mapping\n",
    "\n",
    "A mapping is written by an EO expert and contains rules that map semantic concepts formalized in an ontology to data values stored in an EO data cube. As such, the mapping forms the connection between the semantic domain and the image domain. \n",
    "\n",
    "This notebook describes the data structures to represent a mapping in semantique, and shows how an EO expert can construct a mapping from scratch.\n",
    "\n",
    "## Content\n",
    "\n",
    "- [Structure](#Structure)\n",
    "- [The Semantique configuration](#The-Semantique-configuration)\n",
    "\n",
    "## Prepare\n",
    "\n",
    "Import packages:"
   ]
  },
  {
   "cell_type": "code",
   "execution_count": 1,
   "id": "97a004c3",
   "metadata": {},
   "outputs": [],
   "source": [
    "import semantique as sq"
   ]
  },
  {
   "cell_type": "code",
   "execution_count": 2,
   "id": "32841834",
   "metadata": {},
   "outputs": [],
   "source": [
    "import geopandas as gpd\n",
    "import json"
   ]
  },
  {
   "cell_type": "markdown",
   "id": "95722baf",
   "metadata": {},
   "source": [
    "## Structure\n",
    "\n",
    "The rules in the mapping should support computational inference on the pixel level. That is, for each spatio-temporal location contained in the EO data cube, they should be able to quantify a relation to the semantic concept. Such a relation may be binary, stating if the concept was observed at the location or not. However, relations may also be numeric (e.g. a probability that the concept was observed) or ordinal (e.g. \"likely\" or \"very likely\" that the concept was observed). It is important to emphasize here that there is no limitation to formulate rules as a function of only the data values of the pixel to which they are applied. In order to quantify the relations more accurately, the EO expert may exploit all the values in the EO data cube. For example, they may analyze spatial or temporal patterns around the location of the pixel.\n",
    "\n",
    "How the rules are formulated in practice depends largely on the approach that the EO expert decides to take. This can be entirely knowledge-driven, but also hybrid approaches combining knowledge-driven and data-driven components are possible. For example, a rule may interpret the prediction of a machine learning classifier. Approaches can also differ in how they encode the formulated rules. We refer to all these different approaches as different *configurations* of a mapping. \n",
    "\n",
    "The structure of semantique is flexible and does not put any limitations on what the configuration of a mapping should be. Instead, it allows expert users to create their own class that implements their specific mapping configuration. Such a class should always inherit from the abstract base class [Mapping](https://zgis.github.io/semantique/semantique.mapping.Mapping.html) that semantique contains. Such a base class can be seen as a blueprint for any object that represents a mapping."
   ]
  },
  {
   "cell_type": "code",
   "execution_count": 3,
   "id": "9e375042",
   "metadata": {},
   "outputs": [],
   "source": [
    "base = sq.mapping.Mapping()"
   ]
  },
  {
   "cell_type": "markdown",
   "id": "910ebfcb",
   "metadata": {},
   "source": [
    "The mapping base class inherits from the Python dictionary class, meaning that every mapping configuration should have the structure of a Python dictionary. In this dictionary, the names of semantic concepts are the keys and the rules that map them to data in an EO data cube are the values. The dictionary may have a nested structure formalizing a categorization of semantic concepts, e.g. the rules of the semantic concept water can be indexed by the key pair (\"entity\", \"water\") instead of only \"water\". The depth of this index depends on the structure of the ontology to which the mapping refers."
   ]
  },
  {
   "cell_type": "code",
   "execution_count": 4,
   "id": "9f951edb",
   "metadata": {},
   "outputs": [
    {
     "data": {
      "text/plain": [
       "True"
      ]
     },
     "execution_count": 4,
     "metadata": {},
     "output_type": "execute_result"
    }
   ],
   "source": [
    "isinstance(base, dict)"
   ]
  },
  {
   "cell_type": "markdown",
   "id": "ab034052",
   "metadata": {},
   "source": [
    "The mapping base class requires each mapping configuration to have a [translate()](https://zgis.github.io/semantique/semantique.mapping.Mapping.translate.html) method that implements the translator of the mapping, with fixed input and output types. The translator is an interface that exposes the rules in the mapping to the other components of the querying framework. Given a textual reference to a semantic concept, it is able to apply the corresponding rules to the data values in the EO data cube, and return for each pixel the quantified relation with the semantic concept. The exact implementation of the translator depends on the configuration of the mapping, but the inputs it accepts and the output it returns does not. Hence, the translator serves as a standardized API that allows other components of the framework to evaluate the rules in the mapping independent from its configuration."
   ]
  },
  {
   "cell_type": "code",
   "execution_count": 5,
   "id": "d5e47879",
   "metadata": {},
   "outputs": [
    {
     "data": {
      "text/plain": [
       "True"
      ]
     },
     "execution_count": 5,
     "metadata": {},
     "output_type": "execute_result"
    }
   ],
   "source": [
    "hasattr(base, \"translate\")"
   ]
  },
  {
   "cell_type": "markdown",
   "id": "13488cee",
   "metadata": {},
   "source": [
    "It is important to note here that when evaluating a query recipe the query processor does not care at all what the configuration of the mapping is and how it translates semantic concept references. It only interacts with the translator function, and thus only cares about what input the translator function accepts, and in what format it returns the translated concepts."
   ]
  },
  {
   "cell_type": "markdown",
   "id": "ffe37290",
   "metadata": {},
   "source": [
    "## The Semantique configuration\n",
    "\n",
    "Semantique formalizes its own native mapping configuration through the [Semantique](https://zgis.github.io/semantique/semantique.mapping.Semantique.html) sub-class. It implements a knowledge-driven approach in which the EO expert formulates rules that quantify binary relations between properties of semantic concepts and data values, rather than directly from semantic concepts to data values. For example, a entity *lake* may be defined by its *color* (a blueish, water-like color) in combination with its *texture* (it has an approximately flat surface). These property relations are then combined with a logical “and” operator to quantify the relation for the semantic concept as a whole, meaning that the concept is only observed if all its properties are observed.\n",
    "\n",
    "To formulate the rules for each property, the EO expert can use the same building blocks as made available for [writing query recipes](recipes.ipynb), and combine them into processing chains. However, where in a query recipe such a processing chain usually start with a [reference to a semantic concept](references.ipynb#Referencing-semantic-concepts), in the mapping they will usually start with a [reference to a data layer](references.ipynb#Referencing-data-layers) in the EO data cube. Such a reference can then be directly followed by an [evaluate verb](verbs#Evaluate) that evaluates a condition on the data values of one or more layers. More complex rules can be formulated by utilizing more verbs, and nesting multiple processing chains into each other.\n",
    "\n",
    "Below we will show some examples on how you can construct rules with the Semantique mapping configuration. They are heavily simplified and don't always make sense, but are meant mainly to get an idea of how the mapping construction works. First, we need to create an instance of the Semantique class, which inherits from the abstract base class Mapping. We can create an instance of it by providing a dictionary with rules that was shared with us. However, when creating a mapping from scratch, we start with an empty mapping, and iteratively fill it with rules afterwards."
   ]
  },
  {
   "cell_type": "code",
   "execution_count": 6,
   "id": "60b07419",
   "metadata": {},
   "outputs": [],
   "source": [
    "mapping = sq.mapping.Semantique()"
   ]
  },
  {
   "cell_type": "code",
   "execution_count": 7,
   "id": "ab822008",
   "metadata": {},
   "outputs": [
    {
     "data": {
      "text/plain": [
       "True"
      ]
     },
     "execution_count": 7,
     "metadata": {},
     "output_type": "execute_result"
    }
   ],
   "source": [
    "isinstance(mapping, sq.mapping.Mapping)"
   ]
  },
  {
   "cell_type": "markdown",
   "id": "8ab27b09",
   "metadata": {},
   "source": [
    "In our example, we will focus solely on defining entities, and use a one-layer categorization. That is, our only category is *entity*. The first step is to add this category as a key to the mapping. Its value can still be an empty dictionary. We will add the concept definitions afterwards."
   ]
  },
  {
   "cell_type": "code",
   "execution_count": 8,
   "id": "36f328b1",
   "metadata": {},
   "outputs": [],
   "source": [
    "mapping[\"entity\"] = {}"
   ]
  },
  {
   "cell_type": "markdown",
   "id": "55ea80da",
   "metadata": {},
   "source": [
    "Now, we need to construct rules that define a binary relationship between the distinct properties of an entity and the data values in the EO data cube. That is, the rules should define for each pixel in our data if it meets a specific property (\"true\"), or not (\"false\"). As said, we can do this by applying the same building blocks as we did for constructing our query recipe, but now starting with a reference to a data layer in the EO data cube. For example: we utilize the (\"appearance\", \"colortype\") data layer in the EO data cube to define if a pixel has a water-like color. This is a layer of semantically enriched data and contains categorical values. The categories with indices 21, 22, 23 and 24 correspond to color combinations that *appear* to be water. Hence, we state that a pixel meets the color property of a lake when its value in the (\"appearance\", \"colortype\") corresponds with one of the above mentioned indices. Furthermore, we state that a pixel meets the texture property of a lake when its value in the (\"topography\", \"slope\") layer equals 0."
   ]
  },
  {
   "cell_type": "code",
   "execution_count": 9,
   "id": "c8b83a3f",
   "metadata": {},
   "outputs": [],
   "source": [
    "mapping[\"entity\"][\"lake\"] = {\n",
    "    \"color\": sq.appearance(\"colortype\").evaluate(\"in\", [21, 22, 23, 24]),\n",
    "    \"texture\": sq.topography(\"slope\").evaluate(\"equal\", 0)\n",
    "}"
   ]
  },
  {
   "cell_type": "markdown",
   "id": "ded380ea",
   "metadata": {},
   "source": [
    "The way that semantique parses the layout of the EO data cube, you can also access labels and/or descriptions of category indices in an auto-complete friendly way."
   ]
  },
  {
   "cell_type": "code",
   "execution_count": 10,
   "id": "0936f6c8",
   "metadata": {},
   "outputs": [],
   "source": [
    "with open(\"files/layout_gtiff.json\", \"r\") as file:\n",
    "    dc = sq.datacube.GeotiffArchive(json.load(file), src = \"files/layers_gtiff.zip\")\n",
    "    \n",
    "layout = dc.layout"
   ]
  },
  {
   "cell_type": "code",
   "execution_count": 11,
   "id": "fe34c284",
   "metadata": {},
   "outputs": [],
   "source": [
    "descriptions = layout[\"appearance\"][\"colortype\"][\"descriptions\"]"
   ]
  },
  {
   "cell_type": "code",
   "execution_count": 12,
   "id": "e7692b53",
   "metadata": {},
   "outputs": [],
   "source": [
    "indices = [\n",
    "    descriptions[\"Deep water or shadow\"],\n",
    "    descriptions[\"Shallow water or shadow\"],\n",
    "    descriptions[\"Turbid water or shadow\"],\n",
    "    descriptions[\"Salty Shallow Water\"]\n",
    "]"
   ]
  },
  {
   "cell_type": "code",
   "execution_count": 13,
   "id": "72b5b23c",
   "metadata": {},
   "outputs": [],
   "source": [
    "mapping[\"entity\"][\"lake\"] = {\n",
    "    \"color\": sq.appearance(\"colortype\").evaluate(\"in\", indices),\n",
    "    \"texture\": sq.topography(\"slope\").evaluate(\"equal\", 0)\n",
    "}"
   ]
  },
  {
   "cell_type": "markdown",
   "id": "16a1f5f5",
   "metadata": {},
   "source": [
    "Now we define a second entity *river*, which we say has the same color property of a lake, but instead has a non-zero slope."
   ]
  },
  {
   "cell_type": "code",
   "execution_count": 14,
   "id": "11d8f84a",
   "metadata": {},
   "outputs": [],
   "source": [
    "mapping[\"entity\"][\"river\"] = {\n",
    "    \"color\": sq.appearance(\"colortype\").evaluate(\"in\", [21, 22, 23, 24]),\n",
    "    \"texture\": sq.topography(\"slope\").evaluate(\"not_equal\", 0) \n",
    "}"
   ]
  },
  {
   "cell_type": "markdown",
   "id": "39d81958",
   "metadata": {},
   "source": [
    "As you see, there is a relation between the entities *lake* and *river*. They share a property. However, we defined the same property twice. This is not needed, since you can always refer to other entities in the mapping, as well as to properties of these entities. In this way, you can intuitively model relations between different semantic concepts. Hence, the same *river* definition can also be structured as follows:"
   ]
  },
  {
   "cell_type": "code",
   "execution_count": 15,
   "id": "bd60ff48",
   "metadata": {},
   "outputs": [],
   "source": [
    "mapping[\"entity\"][\"river\"] = {\n",
    "    \"color\": sq.entity(\"lake\", property = \"color\"),\n",
    "    \"texture\": sq.entity(\"lake\", property = \"texture\").evaluate(\"not\")\n",
    "}"
   ]
  },
  {
   "cell_type": "markdown",
   "id": "dd924a5d",
   "metadata": {},
   "source": [
    "Or, to take it a step further, as below. Basically we are saying here that a *lake* has the color of *water* and the texture of a *plain* (again, we oversimplify here!)."
   ]
  },
  {
   "cell_type": "code",
   "execution_count": 16,
   "id": "0f767ded",
   "metadata": {},
   "outputs": [],
   "source": [
    "mapping[\"entity\"][\"water\"] = {\n",
    "    \"color\": sq.appearance(\"colortype\").evaluate(\"in\", [21, 22, 23, 24]),\n",
    "}\n",
    "\n",
    "mapping[\"entity\"][\"vegetation\"] = {\n",
    "    \"color\": sq.appearance(\"colortype\").evaluate(\"in\", [1, 2, 3, 4, 5, 6]),\n",
    "}\n",
    "\n",
    "mapping[\"entity\"][\"plain\"] = {\n",
    "    \"color\": sq.entity(\"vegetation\", property = \"color\"),\n",
    "    \"texture\": sq.topography(\"slope\").evaluate(\"equal\", 0) \n",
    "}\n",
    "\n",
    "mapping[\"entity\"][\"lake\"] = {\n",
    "    \"color\": sq.entity(\"water\", property = \"color\"),\n",
    "    \"texture\": sq.entity(\"plain\", property = \"texture\")\n",
    "}\n",
    "\n",
    "mapping[\"entity\"][\"river\"] = {\n",
    "    \"color\": sq.entity(\"water\", property = \"color\"),\n",
    "    \"texture\": sq.entity(\"plain\", property = \"texture\").evaluate(\"not\")\n",
    "}"
   ]
  },
  {
   "cell_type": "markdown",
   "id": "ed6bb3b3",
   "metadata": {},
   "source": [
    "We can also model relationships in a way where some entity is the union of other entities."
   ]
  },
  {
   "cell_type": "code",
   "execution_count": 17,
   "id": "ea11890d",
   "metadata": {},
   "outputs": [],
   "source": [
    "mapping[\"entity\"][\"natural_area\"] = {\n",
    "    \"members\": sq.collection(sq.entity(\"water\"), sq.entity(\"vegetation\")).merge(\"or\")\n",
    "}"
   ]
  },
  {
   "cell_type": "markdown",
   "id": "d2a8ad0d",
   "metadata": {},
   "source": [
    "It is also possible to include temporal information. For example, we only consider an observation to be part of a lake when over time more than 80% of the observations at that location are identified as water, excluding those observations that are identified as a cloud."
   ]
  },
  {
   "cell_type": "code",
   "execution_count": 18,
   "id": "286375ba",
   "metadata": {},
   "outputs": [],
   "source": [
    "mapping[\"entity\"][\"lake\"] = {\n",
    "    \"color\": sq.entity(\"water\", property = \"color\"),\n",
    "    \"texture\": sq.entity(\"plain\", property = \"texture\"),\n",
    "    \"continuity\": sq.entity(\"water\", property = \"color\").\\\n",
    "        filter(sq.entity(\"cloud\").evaluate(\"not\")).\\\n",
    "        reduce(\"percentage\", \"time\").\\\n",
    "        evaluate(\"greater\", 80)\n",
    "}"
   ]
  },
  {
   "cell_type": "markdown",
   "id": "93bd2618",
   "metadata": {},
   "source": [
    "Besides referencing data layers or other entities, a ruleset may also start with a [self reference](references.ipynb#Referencing-the-active-evaluation-object). This means that when translating the semantic concept within a query recipe, the rules are applied to the array that at that moment is the active evaluation object of the query processor. This may sound slighlty overwhelming, but basically it allows for example to model custom seasons as being temporal entities, and use them as a temporal filter in a query recipe."
   ]
  },
  {
   "cell_type": "code",
   "execution_count": 19,
   "id": "45b55efd",
   "metadata": {},
   "outputs": [],
   "source": [
    "mapping[\"entity\"][\"harvest_season\"] = {\n",
    "    \"timespan\": sq.self().extract(\"time\", \"month\").evaluate(\"in\", [8, 9, 10])\n",
    "}\n",
    "\n",
    "recipe = sq.QueryRecipe()\n",
    "recipe[\"vegetation_during_harvest\"] = sq.entity(\"vegetation\").filter(sq.entity(\"harvest_season\"))"
   ]
  },
  {
   "cell_type": "markdown",
   "id": "98511bd7",
   "metadata": {},
   "source": [
    "The flexible structure with the building blocks of semantique make many more structures possible. Note that you can visualise the structure of your defined mapping by calling `.visualise()`."
   ]
  },
  {
   "cell_type": "code",
   "execution_count": null,
   "id": "a9ee5654",
   "metadata": {},
   "outputs": [],
   "source": [
    "mapping.visualise()"
   ]
  },
  {
   "cell_type": "markdown",
   "id": "21de8ad5",
   "metadata": {},
   "source": [
    "\n",
    "Now you have an idea of how to construct a mapping from scratch using the built-in Semantique configuration, we move on and construct a complete mapping in one go. However, we use simpler rules as above, since our demo EO data cube only contains a very limited set of resources."
   ]
  },
  {
   "cell_type": "code",
   "execution_count": 20,
   "id": "19db360f",
   "metadata": {},
   "outputs": [],
   "source": [
    "mapping = sq.mapping.Semantique()\n",
    "mapping[\"entity\"] = {}\n",
    "\n",
    "mapping[\"entity\"][\"water\"] = {\"color\": sq.appearance(\"colortype\").evaluate(\"in\", [21, 22, 23, 24])}\n",
    "mapping[\"entity\"][\"vegetation\"] = {\"color\": sq.appearance(\"colortype\").evaluate(\"in\", [1, 2, 3, 4, 5, 6])}\n",
    "mapping[\"entity\"][\"builtup\"] = {\"color\": sq.appearance(\"colortype\").evaluate(\"in\", [13, 14, 15, 16, 17])}\n",
    "mapping[\"entity\"][\"cloud\"] = {\"color\": sq.atmosphere(\"colortype\").evaluate(\"equal\", 25)}\n",
    "mapping[\"entity\"][\"snow\"] = {\"color\": sq.appearance(\"colortype\").evaluate(\"in\", [29, 30])}"
   ]
  },
  {
   "cell_type": "markdown",
   "id": "9bb5bf1e",
   "metadata": {},
   "source": [
    "Our constructed mapping looks like [this](https://github.com/ZGIS/semantique/blob/main/demo/files/mapping.json). We can easily export and share this mapping as a JSON file."
   ]
  },
  {
   "cell_type": "code",
   "execution_count": 21,
   "id": "8401ca57",
   "metadata": {},
   "outputs": [],
   "source": [
    "with open(\"files/mapping.json\", \"w\") as file:\n",
    "    json.dump(mapping, file, indent = 2)"
   ]
  },
  {
   "cell_type": "markdown",
   "id": "2b9964b6",
   "metadata": {},
   "source": [
    "That also means that as non-EO-expert you don't have to worry about constructing your own mapping from scratch. You can simply load a shared mapping and use it to initialize a Semantique mapping instance."
   ]
  },
  {
   "cell_type": "code",
   "execution_count": 22,
   "id": "1e1d5150",
   "metadata": {},
   "outputs": [],
   "source": [
    "with open(\"files/mapping.json\", \"r\") as file:\n",
    "    rules = json.load(file)\n",
    "\n",
    "mapping = sq.mapping.Semantique(rules)"
   ]
  },
  {
   "cell_type": "markdown",
   "id": "d014dc9f",
   "metadata": {},
   "source": [
    "As mentioned, internally the query processor will only interact with the translator function of the provided mapping instance. To show how this works, we do need to provide a spatio-temporal extent inside which the concept needs to be translated and a EO data cube instance from which the translator can retrieve the referenced data layers. Also here, the translator only interacts with the retriever function of the EO data cube instance, and hence does not care what the configuration of the cube is."
   ]
  },
  {
   "cell_type": "code",
   "execution_count": 23,
   "id": "1cc489a8",
   "metadata": {},
   "outputs": [],
   "source": [
    "from semantique.processor.utils import parse_extent"
   ]
  },
  {
   "cell_type": "code",
   "execution_count": 24,
   "id": "6bc365de",
   "metadata": {},
   "outputs": [],
   "source": [
    "space = sq.SpatialExtent(gpd.read_file(\"files/footprint.geojson\"))\n",
    "time = sq.TemporalExtent(\"2019-01-01\", \"2020-12-31\")\n",
    "\n",
    "extent = parse_extent(space, time, spatial_resolution = [-10, 10], crs = 3035)"
   ]
  },
  {
   "cell_type": "code",
   "execution_count": 25,
   "id": "7bea88fc",
   "metadata": {},
   "outputs": [],
   "source": [
    "with open(\"files/layout_gtiff.json\", \"r\") as file:\n",
    "    dc = sq.datacube.GeotiffArchive(json.load(file), src = \"files/layers_gtiff.zip\")"
   ]
  },
  {
   "cell_type": "code",
   "execution_count": 26,
   "id": "148c0e31",
   "metadata": {},
   "outputs": [],
   "source": [
    "water = mapping.translate(\"entity\", \"water\", extent = extent, datacube = dc)"
   ]
  },
  {
   "cell_type": "code",
   "execution_count": 27,
   "id": "756a1a75",
   "metadata": {},
   "outputs": [
    {
     "data": {
      "text/html": [
       "<div><svg style=\"position: absolute; width: 0; height: 0; overflow: hidden\">\n",
       "<defs>\n",
       "<symbol id=\"icon-database\" viewBox=\"0 0 32 32\">\n",
       "<path d=\"M16 0c-8.837 0-16 2.239-16 5v4c0 2.761 7.163 5 16 5s16-2.239 16-5v-4c0-2.761-7.163-5-16-5z\"></path>\n",
       "<path d=\"M16 17c-8.837 0-16-2.239-16-5v6c0 2.761 7.163 5 16 5s16-2.239 16-5v-6c0 2.761-7.163 5-16 5z\"></path>\n",
       "<path d=\"M16 26c-8.837 0-16-2.239-16-5v6c0 2.761 7.163 5 16 5s16-2.239 16-5v-6c0 2.761-7.163 5-16 5z\"></path>\n",
       "</symbol>\n",
       "<symbol id=\"icon-file-text2\" viewBox=\"0 0 32 32\">\n",
       "<path d=\"M28.681 7.159c-0.694-0.947-1.662-2.053-2.724-3.116s-2.169-2.030-3.116-2.724c-1.612-1.182-2.393-1.319-2.841-1.319h-15.5c-1.378 0-2.5 1.121-2.5 2.5v27c0 1.378 1.122 2.5 2.5 2.5h23c1.378 0 2.5-1.122 2.5-2.5v-19.5c0-0.448-0.137-1.23-1.319-2.841zM24.543 5.457c0.959 0.959 1.712 1.825 2.268 2.543h-4.811v-4.811c0.718 0.556 1.584 1.309 2.543 2.268zM28 29.5c0 0.271-0.229 0.5-0.5 0.5h-23c-0.271 0-0.5-0.229-0.5-0.5v-27c0-0.271 0.229-0.5 0.5-0.5 0 0 15.499-0 15.5 0v7c0 0.552 0.448 1 1 1h7v19.5z\"></path>\n",
       "<path d=\"M23 26h-14c-0.552 0-1-0.448-1-1s0.448-1 1-1h14c0.552 0 1 0.448 1 1s-0.448 1-1 1z\"></path>\n",
       "<path d=\"M23 22h-14c-0.552 0-1-0.448-1-1s0.448-1 1-1h14c0.552 0 1 0.448 1 1s-0.448 1-1 1z\"></path>\n",
       "<path d=\"M23 18h-14c-0.552 0-1-0.448-1-1s0.448-1 1-1h14c0.552 0 1 0.448 1 1s-0.448 1-1 1z\"></path>\n",
       "</symbol>\n",
       "</defs>\n",
       "</svg>\n",
       "<style>/* CSS stylesheet for displaying xarray objects in jupyterlab.\n",
       " *\n",
       " */\n",
       "\n",
       ":root {\n",
       "  --xr-font-color0: var(--jp-content-font-color0, rgba(0, 0, 0, 1));\n",
       "  --xr-font-color2: var(--jp-content-font-color2, rgba(0, 0, 0, 0.54));\n",
       "  --xr-font-color3: var(--jp-content-font-color3, rgba(0, 0, 0, 0.38));\n",
       "  --xr-border-color: var(--jp-border-color2, #e0e0e0);\n",
       "  --xr-disabled-color: var(--jp-layout-color3, #bdbdbd);\n",
       "  --xr-background-color: var(--jp-layout-color0, white);\n",
       "  --xr-background-color-row-even: var(--jp-layout-color1, white);\n",
       "  --xr-background-color-row-odd: var(--jp-layout-color2, #eeeeee);\n",
       "}\n",
       "\n",
       "html[theme=dark],\n",
       "body[data-theme=dark],\n",
       "body.vscode-dark {\n",
       "  --xr-font-color0: rgba(255, 255, 255, 1);\n",
       "  --xr-font-color2: rgba(255, 255, 255, 0.54);\n",
       "  --xr-font-color3: rgba(255, 255, 255, 0.38);\n",
       "  --xr-border-color: #1F1F1F;\n",
       "  --xr-disabled-color: #515151;\n",
       "  --xr-background-color: #111111;\n",
       "  --xr-background-color-row-even: #111111;\n",
       "  --xr-background-color-row-odd: #313131;\n",
       "}\n",
       "\n",
       ".xr-wrap {\n",
       "  display: block !important;\n",
       "  min-width: 300px;\n",
       "  max-width: 700px;\n",
       "}\n",
       "\n",
       ".xr-text-repr-fallback {\n",
       "  /* fallback to plain text repr when CSS is not injected (untrusted notebook) */\n",
       "  display: none;\n",
       "}\n",
       "\n",
       ".xr-header {\n",
       "  padding-top: 6px;\n",
       "  padding-bottom: 6px;\n",
       "  margin-bottom: 4px;\n",
       "  border-bottom: solid 1px var(--xr-border-color);\n",
       "}\n",
       "\n",
       ".xr-header > div,\n",
       ".xr-header > ul {\n",
       "  display: inline;\n",
       "  margin-top: 0;\n",
       "  margin-bottom: 0;\n",
       "}\n",
       "\n",
       ".xr-obj-type,\n",
       ".xr-array-name {\n",
       "  margin-left: 2px;\n",
       "  margin-right: 10px;\n",
       "}\n",
       "\n",
       ".xr-obj-type {\n",
       "  color: var(--xr-font-color2);\n",
       "}\n",
       "\n",
       ".xr-sections {\n",
       "  padding-left: 0 !important;\n",
       "  display: grid;\n",
       "  grid-template-columns: 150px auto auto 1fr 20px 20px;\n",
       "}\n",
       "\n",
       ".xr-section-item {\n",
       "  display: contents;\n",
       "}\n",
       "\n",
       ".xr-section-item input {\n",
       "  display: none;\n",
       "}\n",
       "\n",
       ".xr-section-item input + label {\n",
       "  color: var(--xr-disabled-color);\n",
       "}\n",
       "\n",
       ".xr-section-item input:enabled + label {\n",
       "  cursor: pointer;\n",
       "  color: var(--xr-font-color2);\n",
       "}\n",
       "\n",
       ".xr-section-item input:enabled + label:hover {\n",
       "  color: var(--xr-font-color0);\n",
       "}\n",
       "\n",
       ".xr-section-summary {\n",
       "  grid-column: 1;\n",
       "  color: var(--xr-font-color2);\n",
       "  font-weight: 500;\n",
       "}\n",
       "\n",
       ".xr-section-summary > span {\n",
       "  display: inline-block;\n",
       "  padding-left: 0.5em;\n",
       "}\n",
       "\n",
       ".xr-section-summary-in:disabled + label {\n",
       "  color: var(--xr-font-color2);\n",
       "}\n",
       "\n",
       ".xr-section-summary-in + label:before {\n",
       "  display: inline-block;\n",
       "  content: '►';\n",
       "  font-size: 11px;\n",
       "  width: 15px;\n",
       "  text-align: center;\n",
       "}\n",
       "\n",
       ".xr-section-summary-in:disabled + label:before {\n",
       "  color: var(--xr-disabled-color);\n",
       "}\n",
       "\n",
       ".xr-section-summary-in:checked + label:before {\n",
       "  content: '▼';\n",
       "}\n",
       "\n",
       ".xr-section-summary-in:checked + label > span {\n",
       "  display: none;\n",
       "}\n",
       "\n",
       ".xr-section-summary,\n",
       ".xr-section-inline-details {\n",
       "  padding-top: 4px;\n",
       "  padding-bottom: 4px;\n",
       "}\n",
       "\n",
       ".xr-section-inline-details {\n",
       "  grid-column: 2 / -1;\n",
       "}\n",
       "\n",
       ".xr-section-details {\n",
       "  display: none;\n",
       "  grid-column: 1 / -1;\n",
       "  margin-bottom: 5px;\n",
       "}\n",
       "\n",
       ".xr-section-summary-in:checked ~ .xr-section-details {\n",
       "  display: contents;\n",
       "}\n",
       "\n",
       ".xr-array-wrap {\n",
       "  grid-column: 1 / -1;\n",
       "  display: grid;\n",
       "  grid-template-columns: 20px auto;\n",
       "}\n",
       "\n",
       ".xr-array-wrap > label {\n",
       "  grid-column: 1;\n",
       "  vertical-align: top;\n",
       "}\n",
       "\n",
       ".xr-preview {\n",
       "  color: var(--xr-font-color3);\n",
       "}\n",
       "\n",
       ".xr-array-preview,\n",
       ".xr-array-data {\n",
       "  padding: 0 5px !important;\n",
       "  grid-column: 2;\n",
       "}\n",
       "\n",
       ".xr-array-data,\n",
       ".xr-array-in:checked ~ .xr-array-preview {\n",
       "  display: none;\n",
       "}\n",
       "\n",
       ".xr-array-in:checked ~ .xr-array-data,\n",
       ".xr-array-preview {\n",
       "  display: inline-block;\n",
       "}\n",
       "\n",
       ".xr-dim-list {\n",
       "  display: inline-block !important;\n",
       "  list-style: none;\n",
       "  padding: 0 !important;\n",
       "  margin: 0;\n",
       "}\n",
       "\n",
       ".xr-dim-list li {\n",
       "  display: inline-block;\n",
       "  padding: 0;\n",
       "  margin: 0;\n",
       "}\n",
       "\n",
       ".xr-dim-list:before {\n",
       "  content: '(';\n",
       "}\n",
       "\n",
       ".xr-dim-list:after {\n",
       "  content: ')';\n",
       "}\n",
       "\n",
       ".xr-dim-list li:not(:last-child):after {\n",
       "  content: ',';\n",
       "  padding-right: 5px;\n",
       "}\n",
       "\n",
       ".xr-has-index {\n",
       "  font-weight: bold;\n",
       "}\n",
       "\n",
       ".xr-var-list,\n",
       ".xr-var-item {\n",
       "  display: contents;\n",
       "}\n",
       "\n",
       ".xr-var-item > div,\n",
       ".xr-var-item label,\n",
       ".xr-var-item > .xr-var-name span {\n",
       "  background-color: var(--xr-background-color-row-even);\n",
       "  margin-bottom: 0;\n",
       "}\n",
       "\n",
       ".xr-var-item > .xr-var-name:hover span {\n",
       "  padding-right: 5px;\n",
       "}\n",
       "\n",
       ".xr-var-list > li:nth-child(odd) > div,\n",
       ".xr-var-list > li:nth-child(odd) > label,\n",
       ".xr-var-list > li:nth-child(odd) > .xr-var-name span {\n",
       "  background-color: var(--xr-background-color-row-odd);\n",
       "}\n",
       "\n",
       ".xr-var-name {\n",
       "  grid-column: 1;\n",
       "}\n",
       "\n",
       ".xr-var-dims {\n",
       "  grid-column: 2;\n",
       "}\n",
       "\n",
       ".xr-var-dtype {\n",
       "  grid-column: 3;\n",
       "  text-align: right;\n",
       "  color: var(--xr-font-color2);\n",
       "}\n",
       "\n",
       ".xr-var-preview {\n",
       "  grid-column: 4;\n",
       "}\n",
       "\n",
       ".xr-index-preview {\n",
       "  grid-column: 2 / 5;\n",
       "  color: var(--xr-font-color2);\n",
       "}\n",
       "\n",
       ".xr-var-name,\n",
       ".xr-var-dims,\n",
       ".xr-var-dtype,\n",
       ".xr-preview,\n",
       ".xr-attrs dt {\n",
       "  white-space: nowrap;\n",
       "  overflow: hidden;\n",
       "  text-overflow: ellipsis;\n",
       "  padding-right: 10px;\n",
       "}\n",
       "\n",
       ".xr-var-name:hover,\n",
       ".xr-var-dims:hover,\n",
       ".xr-var-dtype:hover,\n",
       ".xr-attrs dt:hover {\n",
       "  overflow: visible;\n",
       "  width: auto;\n",
       "  z-index: 1;\n",
       "}\n",
       "\n",
       ".xr-var-attrs,\n",
       ".xr-var-data,\n",
       ".xr-index-data {\n",
       "  display: none;\n",
       "  background-color: var(--xr-background-color) !important;\n",
       "  padding-bottom: 5px !important;\n",
       "}\n",
       "\n",
       ".xr-var-attrs-in:checked ~ .xr-var-attrs,\n",
       ".xr-var-data-in:checked ~ .xr-var-data,\n",
       ".xr-index-data-in:checked ~ .xr-index-data {\n",
       "  display: block;\n",
       "}\n",
       "\n",
       ".xr-var-data > table {\n",
       "  float: right;\n",
       "}\n",
       "\n",
       ".xr-var-name span,\n",
       ".xr-var-data,\n",
       ".xr-index-name div,\n",
       ".xr-index-data,\n",
       ".xr-attrs {\n",
       "  padding-left: 25px !important;\n",
       "}\n",
       "\n",
       ".xr-attrs,\n",
       ".xr-var-attrs,\n",
       ".xr-var-data,\n",
       ".xr-index-data {\n",
       "  grid-column: 1 / -1;\n",
       "}\n",
       "\n",
       "dl.xr-attrs {\n",
       "  padding: 0;\n",
       "  margin: 0;\n",
       "  display: grid;\n",
       "  grid-template-columns: 125px auto;\n",
       "}\n",
       "\n",
       ".xr-attrs dt,\n",
       ".xr-attrs dd {\n",
       "  padding: 0;\n",
       "  margin: 0;\n",
       "  float: left;\n",
       "  padding-right: 10px;\n",
       "  width: auto;\n",
       "}\n",
       "\n",
       ".xr-attrs dt {\n",
       "  font-weight: normal;\n",
       "  grid-column: 1;\n",
       "}\n",
       "\n",
       ".xr-attrs dt:hover span {\n",
       "  display: inline-block;\n",
       "  background: var(--xr-background-color);\n",
       "  padding-right: 10px;\n",
       "}\n",
       "\n",
       ".xr-attrs dd {\n",
       "  grid-column: 2;\n",
       "  white-space: pre-wrap;\n",
       "  word-break: break-all;\n",
       "}\n",
       "\n",
       ".xr-icon-database,\n",
       ".xr-icon-file-text2,\n",
       ".xr-no-icon {\n",
       "  display: inline-block;\n",
       "  vertical-align: middle;\n",
       "  width: 1em;\n",
       "  height: 1.5em !important;\n",
       "  stroke-width: 0;\n",
       "  stroke: currentColor;\n",
       "  fill: currentColor;\n",
       "}\n",
       "</style><pre class='xr-text-repr-fallback'>&lt;xarray.DataArray &#x27;water&#x27; (time: 3, y: 563, x: 576)&gt;\n",
       "array([[[0., 0., 0., ..., 0., 0., 0.],\n",
       "        [0., 0., 0., ..., 0., 0., 0.],\n",
       "        [0., 0., 0., ..., 0., 0., 0.],\n",
       "        ...,\n",
       "        [0., 0., 0., ..., 0., 0., 0.],\n",
       "        [0., 0., 0., ..., 0., 0., 0.],\n",
       "        [0., 0., 0., ..., 0., 0., 0.]],\n",
       "\n",
       "       [[0., 0., 0., ..., 0., 0., 0.],\n",
       "        [0., 0., 0., ..., 0., 0., 0.],\n",
       "        [0., 0., 0., ..., 0., 0., 0.],\n",
       "        ...,\n",
       "        [0., 0., 0., ..., 0., 0., 0.],\n",
       "        [0., 0., 0., ..., 0., 0., 0.],\n",
       "        [0., 0., 0., ..., 0., 0., 0.]],\n",
       "\n",
       "       [[1., 1., 1., ..., 0., 0., 0.],\n",
       "        [1., 1., 1., ..., 0., 0., 0.],\n",
       "        [1., 1., 1., ..., 0., 0., 0.],\n",
       "        ...,\n",
       "        [0., 0., 0., ..., 0., 0., 0.],\n",
       "        [0., 0., 0., ..., 0., 0., 0.],\n",
       "        [0., 0., 0., ..., 0., 0., 0.]]])\n",
       "Coordinates:\n",
       "  * x              (x) float64 4.53e+06 4.53e+06 ... 4.536e+06 4.536e+06\n",
       "  * y              (y) float64 2.697e+06 2.697e+06 ... 2.691e+06 2.691e+06\n",
       "    spatial_ref    int64 0\n",
       "  * time           (time) datetime64[ns] 2019-12-15T10:17:33.408715 ... 2020-...\n",
       "    temporal_ref   int64 0\n",
       "    spatial_feats  (y, x) float64 1.0 1.0 1.0 1.0 1.0 ... 1.0 1.0 1.0 1.0 1.0\n",
       "Attributes:\n",
       "    AREA_OR_POINT:  Area\n",
       "    scale_factor:   1.0\n",
       "    add_offset:     0.0\n",
       "    _FillValue:     1.7976931348623157e+308\n",
       "    value_type:     binary</pre><div class='xr-wrap' style='display:none'><div class='xr-header'><div class='xr-obj-type'>xarray.DataArray</div><div class='xr-array-name'>'water'</div><ul class='xr-dim-list'><li><span class='xr-has-index'>time</span>: 3</li><li><span class='xr-has-index'>y</span>: 563</li><li><span class='xr-has-index'>x</span>: 576</li></ul></div><ul class='xr-sections'><li class='xr-section-item'><div class='xr-array-wrap'><input id='section-7dc7bb60-e8c6-4f42-858c-fa4c51be1404' class='xr-array-in' type='checkbox' checked><label for='section-7dc7bb60-e8c6-4f42-858c-fa4c51be1404' title='Show/hide data repr'><svg class='icon xr-icon-database'><use xlink:href='#icon-database'></use></svg></label><div class='xr-array-preview xr-preview'><span>0.0 0.0 0.0 0.0 0.0 0.0 0.0 0.0 ... 0.0 0.0 0.0 0.0 0.0 0.0 0.0 0.0</span></div><div class='xr-array-data'><pre>array([[[0., 0., 0., ..., 0., 0., 0.],\n",
       "        [0., 0., 0., ..., 0., 0., 0.],\n",
       "        [0., 0., 0., ..., 0., 0., 0.],\n",
       "        ...,\n",
       "        [0., 0., 0., ..., 0., 0., 0.],\n",
       "        [0., 0., 0., ..., 0., 0., 0.],\n",
       "        [0., 0., 0., ..., 0., 0., 0.]],\n",
       "\n",
       "       [[0., 0., 0., ..., 0., 0., 0.],\n",
       "        [0., 0., 0., ..., 0., 0., 0.],\n",
       "        [0., 0., 0., ..., 0., 0., 0.],\n",
       "        ...,\n",
       "        [0., 0., 0., ..., 0., 0., 0.],\n",
       "        [0., 0., 0., ..., 0., 0., 0.],\n",
       "        [0., 0., 0., ..., 0., 0., 0.]],\n",
       "\n",
       "       [[1., 1., 1., ..., 0., 0., 0.],\n",
       "        [1., 1., 1., ..., 0., 0., 0.],\n",
       "        [1., 1., 1., ..., 0., 0., 0.],\n",
       "        ...,\n",
       "        [0., 0., 0., ..., 0., 0., 0.],\n",
       "        [0., 0., 0., ..., 0., 0., 0.],\n",
       "        [0., 0., 0., ..., 0., 0., 0.]]])</pre></div></div></li><li class='xr-section-item'><input id='section-0b662d72-2193-4a3c-af74-53d3efe93746' class='xr-section-summary-in' type='checkbox'  checked><label for='section-0b662d72-2193-4a3c-af74-53d3efe93746' class='xr-section-summary' >Coordinates: <span>(6)</span></label><div class='xr-section-inline-details'></div><div class='xr-section-details'><ul class='xr-var-list'><li class='xr-var-item'><div class='xr-var-name'><span class='xr-has-index'>x</span></div><div class='xr-var-dims'>(x)</div><div class='xr-var-dtype'>float64</div><div class='xr-var-preview xr-preview'>4.53e+06 4.53e+06 ... 4.536e+06</div><input id='attrs-0f568475-2f77-4975-8ee1-9a97d639d523' class='xr-var-attrs-in' type='checkbox' ><label for='attrs-0f568475-2f77-4975-8ee1-9a97d639d523' title='Show/Hide attributes'><svg class='icon xr-icon-file-text2'><use xlink:href='#icon-file-text2'></use></svg></label><input id='data-1a684ee7-88ab-4cb1-8435-fea9fe506a0d' class='xr-var-data-in' type='checkbox'><label for='data-1a684ee7-88ab-4cb1-8435-fea9fe506a0d' title='Show/Hide data repr'><svg class='icon xr-icon-database'><use xlink:href='#icon-database'></use></svg></label><div class='xr-var-attrs'><dl class='xr-attrs'><dt><span>axis :</span></dt><dd>X</dd><dt><span>long_name :</span></dt><dd>x coordinate of projection</dd><dt><span>standard_name :</span></dt><dd>projection_x_coordinate</dd><dt><span>units :</span></dt><dd>metre</dd><dt><span>resolution :</span></dt><dd>10</dd><dt><span>value_type :</span></dt><dd>continuous</dd></dl></div><div class='xr-var-data'><pre>array([4530115., 4530125., 4530135., ..., 4535845., 4535855., 4535865.])</pre></div></li><li class='xr-var-item'><div class='xr-var-name'><span class='xr-has-index'>y</span></div><div class='xr-var-dims'>(y)</div><div class='xr-var-dtype'>float64</div><div class='xr-var-preview xr-preview'>2.697e+06 2.697e+06 ... 2.691e+06</div><input id='attrs-970dda26-5a29-476d-9150-deb46938422a' class='xr-var-attrs-in' type='checkbox' ><label for='attrs-970dda26-5a29-476d-9150-deb46938422a' title='Show/Hide attributes'><svg class='icon xr-icon-file-text2'><use xlink:href='#icon-file-text2'></use></svg></label><input id='data-a5c7c000-c041-4309-affb-ef7168d8280b' class='xr-var-data-in' type='checkbox'><label for='data-a5c7c000-c041-4309-affb-ef7168d8280b' title='Show/Hide data repr'><svg class='icon xr-icon-database'><use xlink:href='#icon-database'></use></svg></label><div class='xr-var-attrs'><dl class='xr-attrs'><dt><span>axis :</span></dt><dd>Y</dd><dt><span>long_name :</span></dt><dd>y coordinate of projection</dd><dt><span>standard_name :</span></dt><dd>projection_y_coordinate</dd><dt><span>units :</span></dt><dd>metre</dd><dt><span>resolution :</span></dt><dd>-10</dd><dt><span>value_type :</span></dt><dd>continuous</dd></dl></div><div class='xr-var-data'><pre>array([2696625., 2696615., 2696605., ..., 2691025., 2691015., 2691005.])</pre></div></li><li class='xr-var-item'><div class='xr-var-name'><span>spatial_ref</span></div><div class='xr-var-dims'>()</div><div class='xr-var-dtype'>int64</div><div class='xr-var-preview xr-preview'>0</div><input id='attrs-bfa6e831-66e0-4c25-905e-b008a291ea10' class='xr-var-attrs-in' type='checkbox' ><label for='attrs-bfa6e831-66e0-4c25-905e-b008a291ea10' title='Show/Hide attributes'><svg class='icon xr-icon-file-text2'><use xlink:href='#icon-file-text2'></use></svg></label><input id='data-fca2a3a3-cf3a-4141-8495-8990dca3ef5f' class='xr-var-data-in' type='checkbox'><label for='data-fca2a3a3-cf3a-4141-8495-8990dca3ef5f' title='Show/Hide data repr'><svg class='icon xr-icon-database'><use xlink:href='#icon-database'></use></svg></label><div class='xr-var-attrs'><dl class='xr-attrs'><dt><span>crs_wkt :</span></dt><dd>PROJCS[&quot;ETRS89-extended / LAEA Europe&quot;,GEOGCS[&quot;ETRS89&quot;,DATUM[&quot;European_Terrestrial_Reference_System_1989&quot;,SPHEROID[&quot;GRS 1980&quot;,6378137,298.257222101,AUTHORITY[&quot;EPSG&quot;,&quot;7019&quot;]],AUTHORITY[&quot;EPSG&quot;,&quot;6258&quot;]],PRIMEM[&quot;Greenwich&quot;,0,AUTHORITY[&quot;EPSG&quot;,&quot;8901&quot;]],UNIT[&quot;degree&quot;,0.0174532925199433,AUTHORITY[&quot;EPSG&quot;,&quot;9122&quot;]],AUTHORITY[&quot;EPSG&quot;,&quot;4258&quot;]],PROJECTION[&quot;Lambert_Azimuthal_Equal_Area&quot;],PARAMETER[&quot;latitude_of_center&quot;,52],PARAMETER[&quot;longitude_of_center&quot;,10],PARAMETER[&quot;false_easting&quot;,4321000],PARAMETER[&quot;false_northing&quot;,3210000],UNIT[&quot;metre&quot;,1,AUTHORITY[&quot;EPSG&quot;,&quot;9001&quot;]],AXIS[&quot;Northing&quot;,NORTH],AXIS[&quot;Easting&quot;,EAST],AUTHORITY[&quot;EPSG&quot;,&quot;3035&quot;]]</dd><dt><span>semi_major_axis :</span></dt><dd>6378137.0</dd><dt><span>semi_minor_axis :</span></dt><dd>6356752.314140356</dd><dt><span>inverse_flattening :</span></dt><dd>298.257222101</dd><dt><span>reference_ellipsoid_name :</span></dt><dd>GRS 1980</dd><dt><span>longitude_of_prime_meridian :</span></dt><dd>0.0</dd><dt><span>prime_meridian_name :</span></dt><dd>Greenwich</dd><dt><span>geographic_crs_name :</span></dt><dd>ETRS89</dd><dt><span>horizontal_datum_name :</span></dt><dd>European Terrestrial Reference System 1989</dd><dt><span>projected_crs_name :</span></dt><dd>ETRS89-extended / LAEA Europe</dd><dt><span>grid_mapping_name :</span></dt><dd>lambert_azimuthal_equal_area</dd><dt><span>latitude_of_projection_origin :</span></dt><dd>52.0</dd><dt><span>longitude_of_projection_origin :</span></dt><dd>10.0</dd><dt><span>false_easting :</span></dt><dd>4321000.0</dd><dt><span>false_northing :</span></dt><dd>3210000.0</dd><dt><span>spatial_ref :</span></dt><dd>PROJCS[&quot;ETRS89-extended / LAEA Europe&quot;,GEOGCS[&quot;ETRS89&quot;,DATUM[&quot;European_Terrestrial_Reference_System_1989&quot;,SPHEROID[&quot;GRS 1980&quot;,6378137,298.257222101,AUTHORITY[&quot;EPSG&quot;,&quot;7019&quot;]],AUTHORITY[&quot;EPSG&quot;,&quot;6258&quot;]],PRIMEM[&quot;Greenwich&quot;,0,AUTHORITY[&quot;EPSG&quot;,&quot;8901&quot;]],UNIT[&quot;degree&quot;,0.0174532925199433,AUTHORITY[&quot;EPSG&quot;,&quot;9122&quot;]],AUTHORITY[&quot;EPSG&quot;,&quot;4258&quot;]],PROJECTION[&quot;Lambert_Azimuthal_Equal_Area&quot;],PARAMETER[&quot;latitude_of_center&quot;,52],PARAMETER[&quot;longitude_of_center&quot;,10],PARAMETER[&quot;false_easting&quot;,4321000],PARAMETER[&quot;false_northing&quot;,3210000],UNIT[&quot;metre&quot;,1,AUTHORITY[&quot;EPSG&quot;,&quot;9001&quot;]],AXIS[&quot;Northing&quot;,NORTH],AXIS[&quot;Easting&quot;,EAST],AUTHORITY[&quot;EPSG&quot;,&quot;3035&quot;]]</dd><dt><span>GeoTransform :</span></dt><dd>4530110.0 10.0 0.0 2696630.0 0.0 -10.0</dd></dl></div><div class='xr-var-data'><pre>array(0)</pre></div></li><li class='xr-var-item'><div class='xr-var-name'><span class='xr-has-index'>time</span></div><div class='xr-var-dims'>(time)</div><div class='xr-var-dtype'>datetime64[ns]</div><div class='xr-var-preview xr-preview'>2019-12-15T10:17:33.408715 ... 2...</div><input id='attrs-979c44cf-69f7-41af-83a7-0c4dd047f671' class='xr-var-attrs-in' type='checkbox' ><label for='attrs-979c44cf-69f7-41af-83a7-0c4dd047f671' title='Show/Hide attributes'><svg class='icon xr-icon-file-text2'><use xlink:href='#icon-file-text2'></use></svg></label><input id='data-651eef19-b51a-413b-b533-63a15dca4db1' class='xr-var-data-in' type='checkbox'><label for='data-651eef19-b51a-413b-b533-63a15dca4db1' title='Show/Hide data repr'><svg class='icon xr-icon-database'><use xlink:href='#icon-database'></use></svg></label><div class='xr-var-attrs'><dl class='xr-attrs'><dt><span>value_type :</span></dt><dd>datetime</dd></dl></div><div class='xr-var-data'><pre>array([&#x27;2019-12-15T10:17:33.408715000&#x27;, &#x27;2020-09-05T10:17:43.167942000&#x27;,\n",
       "       &#x27;2020-12-19T10:17:34.610661000&#x27;], dtype=&#x27;datetime64[ns]&#x27;)</pre></div></li><li class='xr-var-item'><div class='xr-var-name'><span>temporal_ref</span></div><div class='xr-var-dims'>()</div><div class='xr-var-dtype'>int64</div><div class='xr-var-preview xr-preview'>0</div><input id='attrs-3d60d2a3-e1c0-4fbf-986e-06f2705446ae' class='xr-var-attrs-in' type='checkbox' ><label for='attrs-3d60d2a3-e1c0-4fbf-986e-06f2705446ae' title='Show/Hide attributes'><svg class='icon xr-icon-file-text2'><use xlink:href='#icon-file-text2'></use></svg></label><input id='data-828250ed-fb17-4c6a-829b-fc26d89aa516' class='xr-var-data-in' type='checkbox'><label for='data-828250ed-fb17-4c6a-829b-fc26d89aa516' title='Show/Hide data repr'><svg class='icon xr-icon-database'><use xlink:href='#icon-database'></use></svg></label><div class='xr-var-attrs'><dl class='xr-attrs'><dt><span>zone :</span></dt><dd>UTC</dd></dl></div><div class='xr-var-data'><pre>array(0)</pre></div></li><li class='xr-var-item'><div class='xr-var-name'><span>spatial_feats</span></div><div class='xr-var-dims'>(y, x)</div><div class='xr-var-dtype'>float64</div><div class='xr-var-preview xr-preview'>1.0 1.0 1.0 1.0 ... 1.0 1.0 1.0 1.0</div><input id='attrs-52f576f8-e92d-4fa6-a885-fb2e48a1e400' class='xr-var-attrs-in' type='checkbox' ><label for='attrs-52f576f8-e92d-4fa6-a885-fb2e48a1e400' title='Show/Hide attributes'><svg class='icon xr-icon-file-text2'><use xlink:href='#icon-file-text2'></use></svg></label><input id='data-6c75f081-e51f-4ab9-8aa8-079d01396a78' class='xr-var-data-in' type='checkbox'><label for='data-6c75f081-e51f-4ab9-8aa8-079d01396a78' title='Show/Hide data repr'><svg class='icon xr-icon-database'><use xlink:href='#icon-database'></use></svg></label><div class='xr-var-attrs'><dl class='xr-attrs'><dt><span>value_type :</span></dt><dd>nominal</dd><dt><span>value_labels :</span></dt><dd>{1: &#x27;feature_1&#x27;}</dd></dl></div><div class='xr-var-data'><pre>array([[1., 1., 1., ..., 1., 1., 1.],\n",
       "       [1., 1., 1., ..., 1., 1., 1.],\n",
       "       [1., 1., 1., ..., 1., 1., 1.],\n",
       "       ...,\n",
       "       [1., 1., 1., ..., 1., 1., 1.],\n",
       "       [1., 1., 1., ..., 1., 1., 1.],\n",
       "       [1., 1., 1., ..., 1., 1., 1.]])</pre></div></li></ul></div></li><li class='xr-section-item'><input id='section-9958338f-0d78-43ff-9def-43ef4d509c37' class='xr-section-summary-in' type='checkbox'  ><label for='section-9958338f-0d78-43ff-9def-43ef4d509c37' class='xr-section-summary' >Indexes: <span>(3)</span></label><div class='xr-section-inline-details'></div><div class='xr-section-details'><ul class='xr-var-list'><li class='xr-var-item'><div class='xr-index-name'><div>x</div></div><div class='xr-index-preview'>PandasIndex</div><div></div><input id='index-7a0d1272-9766-4fd0-8db2-8905d5d23667' class='xr-index-data-in' type='checkbox'/><label for='index-7a0d1272-9766-4fd0-8db2-8905d5d23667' title='Show/Hide index repr'><svg class='icon xr-icon-database'><use xlink:href='#icon-database'></use></svg></label><div class='xr-index-data'><pre>PandasIndex(Index([4530115.0, 4530125.0, 4530135.0, 4530145.0, 4530155.0, 4530165.0,\n",
       "       4530175.0, 4530185.0, 4530195.0, 4530205.0,\n",
       "       ...\n",
       "       4535775.0, 4535785.0, 4535795.0, 4535805.0, 4535815.0, 4535825.0,\n",
       "       4535835.0, 4535845.0, 4535855.0, 4535865.0],\n",
       "      dtype=&#x27;float64&#x27;, name=&#x27;x&#x27;, length=576))</pre></div></li><li class='xr-var-item'><div class='xr-index-name'><div>y</div></div><div class='xr-index-preview'>PandasIndex</div><div></div><input id='index-6b6d2351-4f6c-4973-9f56-2563dda937e5' class='xr-index-data-in' type='checkbox'/><label for='index-6b6d2351-4f6c-4973-9f56-2563dda937e5' title='Show/Hide index repr'><svg class='icon xr-icon-database'><use xlink:href='#icon-database'></use></svg></label><div class='xr-index-data'><pre>PandasIndex(Index([2696625.0, 2696615.0, 2696605.0, 2696595.0, 2696585.0, 2696575.0,\n",
       "       2696565.0, 2696555.0, 2696545.0, 2696535.0,\n",
       "       ...\n",
       "       2691095.0, 2691085.0, 2691075.0, 2691065.0, 2691055.0, 2691045.0,\n",
       "       2691035.0, 2691025.0, 2691015.0, 2691005.0],\n",
       "      dtype=&#x27;float64&#x27;, name=&#x27;y&#x27;, length=563))</pre></div></li><li class='xr-var-item'><div class='xr-index-name'><div>time</div></div><div class='xr-index-preview'>PandasIndex</div><div></div><input id='index-eba42ec9-587c-4f2c-b707-8fd9321d47e9' class='xr-index-data-in' type='checkbox'/><label for='index-eba42ec9-587c-4f2c-b707-8fd9321d47e9' title='Show/Hide index repr'><svg class='icon xr-icon-database'><use xlink:href='#icon-database'></use></svg></label><div class='xr-index-data'><pre>PandasIndex(DatetimeIndex([&#x27;2019-12-15 10:17:33.408715&#x27;, &#x27;2020-09-05 10:17:43.167942&#x27;,\n",
       "               &#x27;2020-12-19 10:17:34.610661&#x27;],\n",
       "              dtype=&#x27;datetime64[ns]&#x27;, name=&#x27;time&#x27;, freq=None))</pre></div></li></ul></div></li><li class='xr-section-item'><input id='section-ec31d679-1e87-43a7-b6a5-dc8f62f684f8' class='xr-section-summary-in' type='checkbox'  checked><label for='section-ec31d679-1e87-43a7-b6a5-dc8f62f684f8' class='xr-section-summary' >Attributes: <span>(5)</span></label><div class='xr-section-inline-details'></div><div class='xr-section-details'><dl class='xr-attrs'><dt><span>AREA_OR_POINT :</span></dt><dd>Area</dd><dt><span>scale_factor :</span></dt><dd>1.0</dd><dt><span>add_offset :</span></dt><dd>0.0</dd><dt><span>_FillValue :</span></dt><dd>1.7976931348623157e+308</dd><dt><span>value_type :</span></dt><dd>binary</dd></dl></div></li></ul></div></div>"
      ],
      "text/plain": [
       "<xarray.DataArray 'water' (time: 3, y: 563, x: 576)>\n",
       "array([[[0., 0., 0., ..., 0., 0., 0.],\n",
       "        [0., 0., 0., ..., 0., 0., 0.],\n",
       "        [0., 0., 0., ..., 0., 0., 0.],\n",
       "        ...,\n",
       "        [0., 0., 0., ..., 0., 0., 0.],\n",
       "        [0., 0., 0., ..., 0., 0., 0.],\n",
       "        [0., 0., 0., ..., 0., 0., 0.]],\n",
       "\n",
       "       [[0., 0., 0., ..., 0., 0., 0.],\n",
       "        [0., 0., 0., ..., 0., 0., 0.],\n",
       "        [0., 0., 0., ..., 0., 0., 0.],\n",
       "        ...,\n",
       "        [0., 0., 0., ..., 0., 0., 0.],\n",
       "        [0., 0., 0., ..., 0., 0., 0.],\n",
       "        [0., 0., 0., ..., 0., 0., 0.]],\n",
       "\n",
       "       [[1., 1., 1., ..., 0., 0., 0.],\n",
       "        [1., 1., 1., ..., 0., 0., 0.],\n",
       "        [1., 1., 1., ..., 0., 0., 0.],\n",
       "        ...,\n",
       "        [0., 0., 0., ..., 0., 0., 0.],\n",
       "        [0., 0., 0., ..., 0., 0., 0.],\n",
       "        [0., 0., 0., ..., 0., 0., 0.]]])\n",
       "Coordinates:\n",
       "  * x              (x) float64 4.53e+06 4.53e+06 ... 4.536e+06 4.536e+06\n",
       "  * y              (y) float64 2.697e+06 2.697e+06 ... 2.691e+06 2.691e+06\n",
       "    spatial_ref    int64 0\n",
       "  * time           (time) datetime64[ns] 2019-12-15T10:17:33.408715 ... 2020-...\n",
       "    temporal_ref   int64 0\n",
       "    spatial_feats  (y, x) float64 1.0 1.0 1.0 1.0 1.0 ... 1.0 1.0 1.0 1.0 1.0\n",
       "Attributes:\n",
       "    AREA_OR_POINT:  Area\n",
       "    scale_factor:   1.0\n",
       "    add_offset:     0.0\n",
       "    _FillValue:     1.7976931348623157e+308\n",
       "    value_type:     binary"
      ]
     },
     "execution_count": 27,
     "metadata": {},
     "output_type": "execute_result"
    }
   ],
   "source": [
    "water"
   ]
  },
  {
   "cell_type": "code",
   "execution_count": 28,
   "id": "47b576c8",
   "metadata": {},
   "outputs": [
    {
     "data": {
      "text/plain": [
       "<xarray.plot.facetgrid.FacetGrid at 0x7f5a66999090>"
      ]
     },
     "execution_count": 28,
     "metadata": {},
     "output_type": "execute_result"
    },
    {
     "data": {
      "image/png": "[encoded data removed]",
      "text/plain": [
       "<Figure size 1000x300 with 4 Axes>"
      ]
     },
     "metadata": {},
     "output_type": "display_data"
    }
   ],
   "source": [
    "levels = [-0.5, 0.5, 1.5]\n",
    "legend = {\"ticks\": [0, 1], \"label\": \"is_water\"}\n",
    "colors = [\"lightgrey\", \"deepskyblue\"]\n",
    "water.plot(x = \"x\", y = \"y\", col = \"time\", colors = colors, levels = levels, cbar_kwargs = legend)"
   ]
  }
 ],
 "metadata": {
  "kernelspec": {
   "display_name": "gsemantique",
   "language": "python",
   "name": "python3"
  },
  "language_info": {
   "codemirror_mode": {
    "name": "ipython",
    "version": 3
   },
   "file_extension": ".py",
   "mimetype": "text/x-python",
   "name": "python",
   "nbconvert_exporter": "python",
   "pygments_lexer": "ipython3",
   "version": "3.10.1"
  }
 },
 "nbformat": 4,
 "nbformat_minor": 5
}
