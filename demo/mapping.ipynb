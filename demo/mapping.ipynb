{
 "cells": [
  {
   "cell_type": "markdown",
   "id": "38507a1d",
   "metadata": {},
   "source": [
    "# Constructing a mapping"
   ]
  },
  {
   "cell_type": "code",
   "execution_count": null,
   "id": "97a004c3",
   "metadata": {},
   "outputs": [],
   "source": []
  }
 ],
 "metadata": {
  "kernelspec": {
   "display_name": "Python [conda env:semantique]",
   "language": "python",
   "name": "conda-env-semantique-py"
  },
  "language_info": {
   "codemirror_mode": {
    "name": "ipython",
    "version": 3
   },
   "file_extension": ".py",
   "mimetype": "text/x-python",
   "name": "python",
   "nbconvert_exporter": "python",
   "pygments_lexer": "ipython3",
   "version": "3.9.12"
  }
 },
 "nbformat": 4,
 "nbformat_minor": 5
}
