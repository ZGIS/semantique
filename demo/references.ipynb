{
 "cells": [
  {
   "cell_type": "markdown",
   "id": "c8c0bf1d",
   "metadata": {},
   "source": [
    "# References\n",
    "\n",
    "In this notebook we will show several types of references that can be used as the start of a processing chain. Remember from the [Intro notebook](intro.ipynb) that result instructions are formulated by combining basic building blocks into processing chains. These processing chains start with a *reference*. At the query recipe construction stage, such a reference is nothing more than a small piece of text. When executing the recipe, the query processor solves this reference and evaluates it internally into a multi-dimensional array filled with data values, i.e. into a *data cube*. Several actions can then be applied to this data cube. For a description of those, see the [Verbs notebook](verbs.ipynb).\n",
    "\n",
    "## Content\n",
    "\n",
    "- [Referencing single data cubes](#Referencing-single-data-cubes)\n",
    "    - [Referencing semantic concepts](#Referencing-semantic-concepts)\n",
    "    - [Referencing factbase resources](#Referencing-factbase-resources)\n",
    "    - [Referencing results](#Referencing-results)\n",
    "    - [Referencing the active evaluation object](#Referencing-the-active-evaluation-object)\n",
    "- [Referencing collections of data cubes](#Referencing-collections-of-data-cubes)\n",
    "\n",
    "## Prepare\n",
    "\n",
    "Import the semantique package:"
   ]
  },
  {
   "cell_type": "code",
   "execution_count": 1,
   "id": "38ddf40a",
   "metadata": {},
   "outputs": [],
   "source": [
    "import semantique as sq"
   ]
  },
  {
   "cell_type": "markdown",
   "id": "7f0a9fba",
   "metadata": {},
   "source": [
    "Import other packages we will use in this notebook:"
   ]
  },
  {
   "cell_type": "code",
   "execution_count": 2,
   "id": "4c50c36d",
   "metadata": {},
   "outputs": [],
   "source": [
    "import geopandas as gpd\n",
    "import json"
   ]
  },
  {
   "cell_type": "markdown",
   "id": "8df04fe5",
   "metadata": {},
   "source": [
    "Create the components for query processing (except the query recipe itself). See the [Intro notebook](intro.ipynb) for details."
   ]
  },
  {
   "cell_type": "code",
   "execution_count": 3,
   "id": "f0270fa0",
   "metadata": {},
   "outputs": [],
   "source": [
    "# Ontology.\n",
    "with open(\"files/ontology.json\", \"r\") as file:\n",
    "    ontology = sq.ontology.Semantique(json.load(file))\n",
    "\n",
    "# Factbase.\n",
    "with open(\"files/factbase.json\", \"r\") as file:\n",
    "    factbase = sq.factbase.GeotiffArchive(json.load(file), src = \"files/resources.zip\")\n",
    "\n",
    "# Extent.\n",
    "space = sq.SpatialExtent(gpd.read_file(\"files/footprint.geojson\"))\n",
    "time = sq.TemporalExtent(\"2019-01-01\", \"2020-12-31\")\n",
    "\n",
    "# Additional configuration.\n",
    "config = {\"output_crs\": 3035, \"output_tz\": \"UTC\", \"spatial_resolution\": [-10, 10]}"
   ]
  },
  {
   "cell_type": "markdown",
   "id": "62552bd6",
   "metadata": {},
   "source": [
    "## Referencing single data cubes\n",
    "\n",
    "Most references are a reference that will be evaluated into a *single* data cube during query processing. At the stage of query construction, all these references are just textual references in a dictionary-like structure. More specifically, they are objects of class `CubeProxy`, meaning that it will be evaluated into a data cube, but only when executing the query recipe. There are several types of single-cube references, which we will discuss one-by-one below."
   ]
  },
  {
   "cell_type": "markdown",
   "id": "2fb00fe6",
   "metadata": {},
   "source": [
    "### Referencing semantic concepts\n",
    "\n",
    "The most common reference at the start of a processing chain is a reference to a semantic concept that is defined in the ontology. You can refer to any semantic concept by using the `sq.concept` function. How to specify the reference, depends on the structure of the ontology. Usually, an ontology does not only list rulesets of semantic concepts, but also formalizes a categorization of these concepts. That is, a reference to a specific semantic concept usually consists of the name of that concept, *and* the name of the category it belongs to. Optionally there can be multiple hierarchies of categories, for example to group concepts of different semantic levels (e.g. an entity *water body* is of a lower semantic level than an entity *lake*, since lake is by definition always a water body, but a water body not necessarily a lake).  The `sq.concept` function lets you specify as many levels as you need, starting with the lowest-level category, and ending with the name of the semantic concept itself.\n",
    "\n",
    "The common lowest-level categorization groups the semantic concepts into very abstract types. For example, a semantic concept might be an *entity* (a phenonemon with a distinct and independent *existence*, e.g. a forest or a lake) or an *event* (a phenonemon that *takes place*, e.g. a fire or a flood). If the semantic concepts are stored as direct element of these lowest-level categories without any further subdivision (as is the case in our example ontology we use here), we can refer to a semantic concept such as *water* as follows."
   ]
  },
  {
   "cell_type": "code",
   "execution_count": 4,
   "id": "5fde1660",
   "metadata": {},
   "outputs": [
    {
     "name": "stdout",
     "output_type": "stream",
     "text": [
      "{\n",
      "  \"type\": \"concept\",\n",
      "  \"reference\": [\n",
      "    \"entity\",\n",
      "    \"water\"\n",
      "  ]\n",
      "}\n"
     ]
    }
   ],
   "source": [
    "ref = sq.concept(\"entity\", \"water\")\n",
    "print(json.dumps(ref, indent = 2))"
   ]
  },
  {
   "cell_type": "code",
   "execution_count": 5,
   "id": "61e0806c",
   "metadata": {},
   "outputs": [
    {
     "data": {
      "text/plain": [
       "semantique.blocks.CubeProxy"
      ]
     },
     "execution_count": 5,
     "metadata": {},
     "output_type": "execute_result"
    }
   ],
   "source": [
    "type(ref)"
   ]
  },
  {
   "cell_type": "markdown",
   "id": "358c0b51",
   "metadata": {},
   "source": [
    "If you use ontologies that include sub-categories, you can simply use the same function to refer to them, in a form as below. There is no limit on how many sub-categories you can use in a reference. Of course, this all depends on the categorization of the ontology that you will use."
   ]
  },
  {
   "cell_type": "code",
   "execution_count": 6,
   "id": "37a2ef35",
   "metadata": {},
   "outputs": [
    {
     "name": "stdout",
     "output_type": "stream",
     "text": [
      "{\n",
      "  \"type\": \"concept\",\n",
      "  \"reference\": [\n",
      "    \"entity\",\n",
      "    \"natural_entities\",\n",
      "    \"water_bodies\",\n",
      "    \"lake\"\n",
      "  ]\n",
      "}\n"
     ]
    }
   ],
   "source": [
    "ref = sq.concept(\"entity\", \"natural_entities\", \"water_bodies\", \"lake\")\n",
    "print(json.dumps(ref, indent = 2))"
   ]
  },
  {
   "cell_type": "markdown",
   "id": "f9c69c9b",
   "metadata": {},
   "source": [
    "For convenience, commonly used lowest-level semantic concept categories are also implemented as separate construction functions, such that you can call them directly. Currently, you can refer directly to the following common categories:\n",
    "\n",
    "- `entity`: A phenonemon with a distinct and independent *existence*, e.g. a forest or a lake. We also use this category for broader, lower-level concepts such as vegetated areas (i.e. *vegetation*) and water bodies (i.e. *water*).\n",
    "- `event`: A phenonemon that *takes place*, e.g. a fire or a flood.\n",
    "\n",
    "Hence, the code below produces the same output as above."
   ]
  },
  {
   "cell_type": "code",
   "execution_count": 7,
   "id": "c361c44a",
   "metadata": {},
   "outputs": [
    {
     "name": "stdout",
     "output_type": "stream",
     "text": [
      "{\n",
      "  \"type\": \"concept\",\n",
      "  \"reference\": [\n",
      "    \"entity\",\n",
      "    \"water\"\n",
      "  ]\n",
      "}\n"
     ]
    }
   ],
   "source": [
    "ref = sq.entity(\"water\")\n",
    "print(json.dumps(ref, indent = 2))"
   ]
  },
  {
   "cell_type": "markdown",
   "id": "e2a46be5",
   "metadata": {},
   "source": [
    "The query processor will solve these kind of references by looking up the textual reference in the ontology, obtaining the corresponding ruleset, and evualate these rules into a set of data values. If the rules describe *binary relationships* between the semantic concepts and the pixel values, the query processor will translate a semantic concept reference into a *boolean* data cube, with \"true\" values (i.e. 1) for those pixels that are identified as being an observation of the referenced concept, and \"false\" values (i.e. 0) for all other pixels in the spatio-temporal extent.\n",
    "\n",
    "To show this, we execute a query recipe that only contains a single semantic concept reference."
   ]
  },
  {
   "cell_type": "code",
   "execution_count": 8,
   "id": "821fee87",
   "metadata": {},
   "outputs": [
    {
     "name": "stdout",
     "output_type": "stream",
     "text": [
      "<xarray.DataArray 'water' (time: 3, space: 324288)>\n",
      "array([[0., 0., 0., ..., 0., 0., 0.],\n",
      "       [0., 0., 0., ..., 0., 0., 0.],\n",
      "       [1., 1., 1., ..., 0., 0., 0.]])\n",
      "Coordinates:\n",
      "  * time          (time) datetime64[ns] 2019-12-15T10:17:33.408715 ... 2020-1...\n",
      "    spatial_ref   int64 0\n",
      "    temporal_ref  int64 0\n",
      "    feature       (space) float64 1.0 1.0 1.0 1.0 1.0 ... 1.0 1.0 1.0 1.0 1.0\n",
      "  * space         (space) MultiIndex\n",
      "  - y             (space) float64 2.697e+06 2.697e+06 ... 2.691e+06 2.691e+06\n",
      "  - x             (space) float64 4.53e+06 4.53e+06 ... 4.536e+06 4.536e+06\n",
      "Attributes:\n",
      "    value_type:  binary\n"
     ]
    }
   ],
   "source": [
    "print(sq.QueryRecipe({\"water\": ref}).execute(factbase, ontology, space, time, **config)[\"water\"])"
   ]
  },
  {
   "cell_type": "markdown",
   "id": "4b081f05",
   "metadata": {},
   "source": [
    "Each semantic concept is defined by one or more named *properties* it has. For example, a entity *lake* may be defined by its *color* (a blueish, water-like color) in combination with its *texture* (it has an approximately flat surface). In the case of modelling binary relationships, the rules belonging to a property then define for each pixel in the data if it meets a specific property (\"true\"), or not (\"false\"). A pixel is identified as part of a semantic concept only if *all* properties are met.\n",
    "\n",
    " If you are only interested in a single property of a semantic concept, you can specify that through the `property` argument of the `sq.concept` function."
   ]
  },
  {
   "cell_type": "code",
   "execution_count": 9,
   "id": "19332bd6",
   "metadata": {},
   "outputs": [
    {
     "name": "stdout",
     "output_type": "stream",
     "text": [
      "{\n",
      "  \"type\": \"concept\",\n",
      "  \"reference\": [\n",
      "    \"entity\",\n",
      "    \"water\"\n",
      "  ],\n",
      "  \"property\": \"color\"\n",
      "}\n"
     ]
    }
   ],
   "source": [
    "ref = sq.entity(\"water\", property = \"color\")\n",
    "print(json.dumps(ref, indent = 2))"
   ]
  },
  {
   "cell_type": "markdown",
   "id": "3e173132",
   "metadata": {},
   "source": [
    "Since in our ontology the \"water\" concept is *exclusively* defined by its \"color\" property, the resulting data cube will in this case be equal to the full \"water\" cube we obtained before."
   ]
  },
  {
   "cell_type": "code",
   "execution_count": 10,
   "id": "9f3fabaf",
   "metadata": {},
   "outputs": [
    {
     "name": "stdout",
     "output_type": "stream",
     "text": [
      "<xarray.DataArray 'color' (time: 3, space: 324288)>\n",
      "array([[0., 0., 0., ..., 0., 0., 0.],\n",
      "       [0., 0., 0., ..., 0., 0., 0.],\n",
      "       [1., 1., 1., ..., 0., 0., 0.]])\n",
      "Coordinates:\n",
      "  * time          (time) datetime64[ns] 2019-12-15T10:17:33.408715 ... 2020-1...\n",
      "    spatial_ref   int64 0\n",
      "    temporal_ref  int64 0\n",
      "    feature       (space) float64 1.0 1.0 1.0 1.0 1.0 ... 1.0 1.0 1.0 1.0 1.0\n",
      "  * space         (space) MultiIndex\n",
      "  - y             (space) float64 2.697e+06 2.697e+06 ... 2.691e+06 2.691e+06\n",
      "  - x             (space) float64 4.53e+06 4.53e+06 ... 4.536e+06 4.536e+06\n",
      "Attributes:\n",
      "    value_type:  binary\n"
     ]
    }
   ],
   "source": [
    "cube = sq.QueryRecipe({\"color\": ref}).execute(factbase, ontology, space, time, **config)[\"color\"]\n",
    "print(cube)"
   ]
  },
  {
   "cell_type": "markdown",
   "id": "f5244059",
   "metadata": {},
   "source": [
    "### Referencing factbase resources\n",
    "\n",
    "Normally, the semantic querying structure should allow you to not worry at all about the data stored in the factbase (i.e. the *image domain*). It is the role of the ontology to combine these resources into meaningful real-world concepts (i.e. a mapping from the *image domain* to the *real-world domain*). However, especially when you are an expert user, you don't want to be limited by this structure. There are still cases in which it is useful to directly refer to factbase resources in your result instructions. \n",
    "\n",
    "Just as with ontologies, layout files of factbases usually formalize a categorization of resources. Such categories group resources based on what property of the observed phenonemon they describe. For example, there are often resources that tell you something about the *reflectance* of radiation from the Earth surface. When data are semantically enriched, they also contain information layers that tell you something about the *appearance* of the observed phenonemen. Hence, what does it look like? \n",
    "\n",
    "Because of this categorization, a reference to a specific resource of data usually consists of the name of that resource, *and* the name of the category it belongs to. Optionally there can be multiple hierarchies of categories. The `sq.resource` function lets you specify as many levels as you need, starting with the lowest-level category, and ending with the name of the resource itself. For example:"
   ]
  },
  {
   "cell_type": "code",
   "execution_count": 11,
   "id": "532400b1",
   "metadata": {},
   "outputs": [
    {
     "name": "stdout",
     "output_type": "stream",
     "text": [
      "{\n",
      "  \"type\": \"resource\",\n",
      "  \"reference\": [\n",
      "    \"appearance\",\n",
      "    \"Color type\"\n",
      "  ]\n",
      "}\n"
     ]
    }
   ],
   "source": [
    "ref = sq.resource(\"appearance\", \"Color type\")\n",
    "print(json.dumps(ref, indent = 2))"
   ]
  },
  {
   "cell_type": "markdown",
   "id": "9c3f2306",
   "metadata": {},
   "source": [
    "If you use factbase layout files that include sub-categories, you can simply use the same function to refer to them, in a form as below. There is no limit on how many sub-categories you can use in a reference. Of course, this all depends on the categorization of the factbase layout that you will use."
   ]
  },
  {
   "cell_type": "code",
   "execution_count": 12,
   "id": "bb9cb2fa",
   "metadata": {},
   "outputs": [
    {
     "name": "stdout",
     "output_type": "stream",
     "text": [
      "{\n",
      "  \"type\": \"resource\",\n",
      "  \"reference\": [\n",
      "    \"appearance\",\n",
      "    \"categorical_layers\",\n",
      "    \"colors\",\n",
      "    \"Color type\"\n",
      "  ]\n",
      "}\n"
     ]
    }
   ],
   "source": [
    "ref = sq.resource(\"appearance\", \"categorical_layers\", \"colors\", \"Color type\")\n",
    "print(json.dumps(ref, indent = 2))"
   ]
  },
  {
   "cell_type": "markdown",
   "id": "bc1fdf52",
   "metadata": {},
   "source": [
    "For convenience, commonly used factbase categories are also implemented as separate construction functions, such that you can call them directly. Currently, you can refer directly to the following common categories:\n",
    "\n",
    "- `appearance`: Resources that contain information on what the observed phenonemon looks like.\n",
    "- `reflectance`: Resources that contain information on how intensely certain types of radiation are reflected by the observed phenonemon.\n",
    "- `topography`: Resources that contain information on the surface form of the observed phenonemon.\n",
    "- `atmosphere`: Resources that contain information on what the atmosphere above the observed phenonemon looks like.\n",
    "- `artifacts`: Resources that label erroneous observations.\n",
    "\n",
    "Hence, the code below produces the same output as above."
   ]
  },
  {
   "cell_type": "code",
   "execution_count": 13,
   "id": "e9972315",
   "metadata": {},
   "outputs": [
    {
     "name": "stdout",
     "output_type": "stream",
     "text": [
      "{\n",
      "  \"type\": \"resource\",\n",
      "  \"reference\": [\n",
      "    \"appearance\",\n",
      "    \"Color type\"\n",
      "  ]\n",
      "}\n"
     ]
    }
   ],
   "source": [
    "ref = sq.appearance(\"Color type\")\n",
    "print(json.dumps(ref, indent = 2))"
   ]
  },
  {
   "cell_type": "markdown",
   "id": "7c5c012f",
   "metadata": {},
   "source": [
    "The query processor will solve these kind of references by looking up the textual reference in the layout file of the factbase, obtaining the corresponding metadata object, and using the information in there to retrieve the corresponding data values from the factbase.\n",
    "\n",
    "To show this, we execute a query recipe that only contains a single factbase resource reference."
   ]
  },
  {
   "cell_type": "code",
   "execution_count": 14,
   "id": "e2a2986a",
   "metadata": {
    "scrolled": true
   },
   "outputs": [
    {
     "name": "stdout",
     "output_type": "stream",
     "text": [
      "<xarray.DataArray 'colortype' (time: 3, space: 324288)>\n",
      "array([[29., 29., 29., ..., 29., 29., 29.],\n",
      "       [ 4.,  4.,  4., ...,  1.,  1.,  1.],\n",
      "       [21., 21., 21., ..., 27., 27., 27.]])\n",
      "Coordinates:\n",
      "  * time          (time) datetime64[ns] 2019-12-15T10:17:33.408715 ... 2020-1...\n",
      "    spatial_ref   int64 0\n",
      "    temporal_ref  int64 0\n",
      "    feature       (space) float64 1.0 1.0 1.0 1.0 1.0 ... 1.0 1.0 1.0 1.0 1.0\n",
      "  * space         (space) MultiIndex\n",
      "  - y             (space) float64 2.697e+06 2.697e+06 ... 2.691e+06 2.691e+06\n",
      "  - x             (space) float64 4.53e+06 4.53e+06 ... 4.536e+06 4.536e+06\n",
      "Attributes:\n",
      "    scale_factor:  1.0\n",
      "    add_offset:    0.0\n",
      "    long_name:     33SharedSpCt\n",
      "    _FillValue:    1.7976931348623157e+308\n",
      "    value_type:    ordinal\n",
      "    value_labels:  {'SVHNIR': 1, 'SVLNIR': 2, 'AVHNIR': 3, 'AVLNIR': 4, 'WV':...\n"
     ]
    }
   ],
   "source": [
    "cube = sq.QueryRecipe({\"colortype\": ref}).execute(factbase, ontology, space, time, **config)[\"colortype\"]\n",
    "print(cube)"
   ]
  },
  {
   "cell_type": "markdown",
   "id": "56ce6f9f",
   "metadata": {},
   "source": [
    "### Referencing results\n",
    "\n",
    "A semantic query recipe can contain multiple result instructions. Whenever a result instruction you are constructing gets too long or complicated to be defined in one line, you can of course break it up in several assignment operations. For example:\n",
    "\n",
    "```python\n",
    "water_count = sq.entity(\"water\").reduce(\"time\", \"count\")\n",
    "vegetation_count = sq.entity(\"vegetation\").reduce(\"time\", \"count\")\n",
    "recipe = sq.QueryRecipe({\"summed_count\": water_count.evaluate(\"add\", vegetation_count)})\n",
    "```\n",
    "\n",
    "After executing this recipe, the response will contain a single result, i.e. \"summed_count\". However, you might also want to obtain the water count and vegetation count maps as separate results themselves. At that point, it is good to know that you can start processing chains with a reference to a previously defined result, using the `sq.result` function. This allows you to re-use other result definitions inside a new result definition. The only thing you have to use as a reference is the name of the result."
   ]
  },
  {
   "cell_type": "code",
   "execution_count": 15,
   "id": "41d5a5ac",
   "metadata": {},
   "outputs": [
    {
     "name": "stdout",
     "output_type": "stream",
     "text": [
      "{\n",
      "  \"type\": \"result\",\n",
      "  \"name\": \"water_count\"\n",
      "}\n"
     ]
    }
   ],
   "source": [
    "ref = sq.result(\"water_count\")\n",
    "print(json.dumps(ref, indent = 2))"
   ]
  },
  {
   "cell_type": "markdown",
   "id": "d9f3a730",
   "metadata": {},
   "source": [
    "The same \"summed_count\" result as we showed above can in this way also be formulated as shown below. The only difference here is that next to \"summed_count\", the response will also contain \"water_count\" and \"vegetation_count\" as separate results. When that is what you want, use the structure below. If not, use the structure above.\n",
    "\n",
    "```python\n",
    "recipe = sq.QueryRecipe()\n",
    "recipe[\"water_count\"] = sq.entity(\"water\").reduce(\"time\", \"count\")\n",
    "recipe[\"vegetation_count\"] = sq.entity(\"vegetation\").reduce(\"time\", \"count\")\n",
    "recipe[\"summed_count\"] = sq.result(\"water_count\").evaluate(\"add\", sq.result(\"vegetation_count\"))\n",
    "```"
   ]
  },
  {
   "cell_type": "markdown",
   "id": "e50d1343",
   "metadata": {},
   "source": [
    "### Referencing the active evaluation object\n",
    "\n",
    "Before explaining these type of references, we need to introduce some slightly more advanced processing chain structures. Remember that a processing chain starts with a reference, and that this reference will internally be evaluated into a data cube. Specific actions (i.e. the [verbs](verbs.ipynb)) can then be applied to this data cube. This can be a single action, but also a chain of multiple actions. The data cube constantly changes when moving through the processing chain. It starts as the evaluated reference. This object will be the input to the first action, which wrangles it into a different cube. That different cube will then be the input to the second action, which again wrangles it into a different cube, etcetera. We use the term **active evaluation object** to refer to the input object at each stage of the processing chain. Hence, at the first action, the active evaluation object is the evaluated reference. At the second action, the active evaluation object is the output of the first action, etcetera.\n",
    "\n",
    "Some actions combine information of multiple inputs. For example, the [evaluate verb](verbs.ipynb#Evaluate) lets you evaluate multivariate expressions where the left-hand side of the expression is the active evaluation object, and the right-hand side of the expression is either a single value or another data cube. For example, adding a vegetation count to a water count:\n",
    "\n",
    "```python\n",
    "sq.entity(\"water\").reduce(\"time\", \"count\").evaluate(\"add\", sq.entity(\"vegetation\").reduce(\"time\", \"count\"))\n",
    "```\n",
    "\n",
    "The processing chain `sq.entity(\"vegetation\").reduce(\"time\", \"count\")` here is nested into the main processing chain that starts with the reference to water. Since `sq.entity(\"water\").reduce(\"time\", \"count\")` is the active evaluation object of the main processing chain at the stage of the `evaluate` verb, the final outcome of the line above is the vegetation count added to the water count, i.e. the sum of both counts.\n",
    "\n",
    "But now what if we want to add the water count to itself? Our recipe would look like this:\n",
    "\n",
    "```python\n",
    "sq.entity(\"water\").reduce(\"time\", \"count\").evaluate(\"add\", sq.entity(\"water\").reduce(\"time\", \"count\"))\n",
    "```\n",
    "\n",
    "Here you see that the *same* processing chain `sq.entity(\"water\").reduce(\"time\", \"count\")` occurs twice in the recipe. This does not only make the code longer and less readable, it also decreases processing time since solving the water reference and reducing the resulting cube has to be done twice instead of once. Now we came at the point where we can show that it is useful to reference the active evaluation object itself. You can use the `sq.self` function for that, without the need to provide any arguments."
   ]
  },
  {
   "cell_type": "code",
   "execution_count": 16,
   "id": "f4f4e9de",
   "metadata": {},
   "outputs": [
    {
     "name": "stdout",
     "output_type": "stream",
     "text": [
      "{\n",
      "  \"type\": \"self\"\n",
      "}\n"
     ]
    }
   ],
   "source": [
    "ref = sq.self()\n",
    "print(json.dumps(ref, indent = 2))"
   ]
  },
  {
   "cell_type": "markdown",
   "id": "01a1ae3a",
   "metadata": {},
   "source": [
    "This allows us to simplify the recipe above (and improve processing speed!):\n",
    "\n",
    "```python\n",
    "sq.entity(\"water\").reduce(\"time\", \"count\").evaluate(\"add\", sq.self())\n",
    "```\n",
    "\n",
    "Of course, the example above is trivial. Why would you add the active evaluation object to itself, when you can also just multiply it by 2. However, there are cases where the self-reference can be of real use. For example, when applying a self-filter (see [here](verbs.ipynb#Self-filtering)), when applying a filter based on dimension coordinates (see [here](verbs.ipynb#Aligning-the-filterer)), or when grouping a data cube along one of its dimensions (see [here](verbs.ipynb#Groupby).\n",
    "\n",
    "It may be clear now that references to the active evaluation object itself are only meant to be used at the start of *nested* processing chains. It is of no use to start a main processing chain with a self reference, since there is no active evaluation object yet. Although, technically there is. The query processor stores the [spatio-temporal extent cube](internals.ipynb#Creating-a-spatio-temporal-extent-cube) of the query as the \"default\" active evaluation object. That is, when you refer to the active evaluation object outside of a nested structure, you will obtain the spatio-temporal extent cube:"
   ]
  },
  {
   "cell_type": "code",
   "execution_count": 17,
   "id": "80fd5906",
   "metadata": {},
   "outputs": [
    {
     "name": "stdout",
     "output_type": "stream",
     "text": [
      "<xarray.DataArray 'self' (time: 2, space: 324288)>\n",
      "array([[1., 1., 1., ..., 1., 1., 1.],\n",
      "       [1., 1., 1., ..., 1., 1., 1.]])\n",
      "Coordinates:\n",
      "  * time          (time) datetime64[ns] 2019-01-01 2020-12-31\n",
      "    spatial_ref   int64 0\n",
      "    feature       (space) float64 1.0 1.0 1.0 1.0 1.0 ... 1.0 1.0 1.0 1.0 1.0\n",
      "    temporal_ref  int64 0\n",
      "  * space         (space) MultiIndex\n",
      "  - y             (space) float64 2.697e+06 2.697e+06 ... 2.691e+06 2.691e+06\n",
      "  - x             (space) float64 4.53e+06 4.53e+06 ... 4.536e+06 4.536e+06\n",
      "Attributes:\n",
      "    name:          index\n",
      "    long_name:     index\n",
      "    _FillValue:    nan\n",
      "    value_type:    nominal\n",
      "    value_labels:  {'feature_1': 1}\n"
     ]
    }
   ],
   "source": [
    "cube = sq.QueryRecipe({\"self\": ref}).execute(factbase, ontology, space, time, **config)[\"self\"]\n",
    "print(cube)"
   ]
  },
  {
   "cell_type": "markdown",
   "id": "1e27fe48",
   "metadata": {},
   "source": [
    "## Referencing collections of data cubes\n",
    "\n",
    "Up to now we have only talked about references that are evaluated into a *single* data cube. It is also possible to reference a *collection* of multiple data cubes at once. Such data cube collections have [dedicated verbs](verbs.ipynb#Verbs-for-data-cube-collections) that can be applied to them, which will all in some way combine all collection members into a single data cube.\n",
    "\n",
    "Consider for example a case where you want to sum five data cubes together. You could do this by starting a processing chain with the first of those cubes, and calling four times the [evaluate verb](verbs.ipynb#Evaluate) to add each of the other cubes step-by-step. It is much easier to reference all the five cubes together in a collection, and call the [merge verb](verbs.ipynb#Merge) to add them together in a single step. Another reason to use collections is related to style. A chained structure always implies some kind of a hierarchy, in which you start with a main input object, and add the other objects along the way. This might not feel fitting for every use-case. \n",
    "\n",
    "To reference a collection of data cubes, you can use the `sq.collection` function. As arguments you give it as many single-cube references as you want. For example:"
   ]
  },
  {
   "cell_type": "code",
   "execution_count": 18,
   "id": "ebe73b8e",
   "metadata": {},
   "outputs": [
    {
     "name": "stdout",
     "output_type": "stream",
     "text": [
      "{\n",
      "  \"type\": \"collection\",\n",
      "  \"elements\": [\n",
      "    {\n",
      "      \"type\": \"concept\",\n",
      "      \"reference\": [\n",
      "        \"entity\",\n",
      "        \"water\"\n",
      "      ]\n",
      "    },\n",
      "    {\n",
      "      \"type\": \"concept\",\n",
      "      \"reference\": [\n",
      "        \"entity\",\n",
      "        \"vegetation\"\n",
      "      ]\n",
      "    }\n",
      "  ]\n",
      "}\n"
     ]
    }
   ],
   "source": [
    "ref = sq.collection(sq.entity(\"water\"), sq.entity(\"vegetation\"))\n",
    "print(json.dumps(ref, indent = 2))"
   ]
  },
  {
   "cell_type": "markdown",
   "id": "6517ba84",
   "metadata": {},
   "source": [
    "Where all single-cube references return an object of class `CubeProxy`, a collection reference returns an object of class `CubeCollectionProxy`. This allows you to call the collection-specific verbs on the reference."
   ]
  },
  {
   "cell_type": "code",
   "execution_count": 19,
   "id": "e3ecf1fb",
   "metadata": {},
   "outputs": [
    {
     "data": {
      "text/plain": [
       "semantique.blocks.CubeCollectionProxy"
      ]
     },
     "execution_count": 19,
     "metadata": {},
     "output_type": "execute_result"
    }
   ],
   "source": [
    "type(ref)"
   ]
  },
  {
   "cell_type": "markdown",
   "id": "d692470a",
   "metadata": {},
   "source": [
    "Normally a query recipe that involves collections will combine collections members into a single cube, using the dedicated [collection verbs](verbs.ipynb#Verbs-for-data-cube-collections). However, it is technically also possible to return a data cube collection as a result."
   ]
  },
  {
   "cell_type": "code",
   "execution_count": 20,
   "id": "0009cb80",
   "metadata": {},
   "outputs": [
    {
     "name": "stdout",
     "output_type": "stream",
     "text": [
      "<xarray.DataArray 'water' (time: 3, space: 324288)>\n",
      "array([[0., 0., 0., ..., 0., 0., 0.],\n",
      "       [0., 0., 0., ..., 0., 0., 0.],\n",
      "       [1., 1., 1., ..., 0., 0., 0.]])\n",
      "Coordinates:\n",
      "  * time          (time) datetime64[ns] 2019-12-15T10:17:33.408715 ... 2020-1...\n",
      "    spatial_ref   int64 0\n",
      "    temporal_ref  int64 0\n",
      "    feature       (space) float64 1.0 1.0 1.0 1.0 1.0 ... 1.0 1.0 1.0 1.0 1.0\n",
      "  * space         (space) MultiIndex\n",
      "  - y             (space) float64 2.697e+06 2.697e+06 ... 2.691e+06 2.691e+06\n",
      "  - x             (space) float64 4.53e+06 4.53e+06 ... 4.536e+06 4.536e+06\n",
      "Attributes:\n",
      "    value_type:  binary\n",
      "<xarray.DataArray 'vegetation' (time: 3, space: 324288)>\n",
      "array([[0., 0., 0., ..., 0., 0., 0.],\n",
      "       [1., 1., 1., ..., 1., 1., 1.],\n",
      "       [0., 0., 0., ..., 0., 0., 0.]])\n",
      "Coordinates:\n",
      "  * time          (time) datetime64[ns] 2019-12-15T10:17:33.408715 ... 2020-1...\n",
      "    spatial_ref   int64 0\n",
      "    temporal_ref  int64 0\n",
      "    feature       (space) float64 1.0 1.0 1.0 1.0 1.0 ... 1.0 1.0 1.0 1.0 1.0\n",
      "  * space         (space) MultiIndex\n",
      "  - y             (space) float64 2.697e+06 2.697e+06 ... 2.691e+06 2.691e+06\n",
      "  - x             (space) float64 4.53e+06 4.53e+06 ... 4.536e+06 4.536e+06\n",
      "Attributes:\n",
      "    value_type:  binary\n"
     ]
    }
   ],
   "source": [
    "cubes = sq.QueryRecipe({\"collection\": ref}).execute(factbase, ontology, space, time, **config)[\"collection\"]\n",
    "\n",
    "for cube in cubes:\n",
    "    print(cube)"
   ]
  }
 ],
 "metadata": {
  "kernelspec": {
   "display_name": "Python [conda env:semantique]",
   "language": "python",
   "name": "conda-env-semantique-py"
  },
  "language_info": {
   "codemirror_mode": {
    "name": "ipython",
    "version": 3
   },
   "file_extension": ".py",
   "mimetype": "text/x-python",
   "name": "python",
   "nbconvert_exporter": "python",
   "pygments_lexer": "ipython3",
   "version": "3.9.7"
  }
 },
 "nbformat": 4,
 "nbformat_minor": 5
}
