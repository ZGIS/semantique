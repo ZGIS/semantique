{
 "cells": [
  {
   "cell_type": "markdown",
   "id": "c126cc5d",
   "metadata": {},
   "source": [
    "# Testing\n",
    "\n",
    "This notebook can get you started to test the new `semantique` package!\n",
    "\n",
    "## Prepare\n",
    "\n",
    "We will construct all required components for query processing in advance, such that you only have to write the query recipe itself and execute it.\n",
    "\n",
    "But of course, don't hesitate to create your own ontology instead, try different spatial or temporal extents, or even write your own factbase format..\n",
    "\n",
    "You can find all documentation notebooks in the file browser in the menu on the left (if you are using Binder)."
   ]
  },
  {
   "cell_type": "code",
   "execution_count": 6,
   "id": "ba1e404b",
   "metadata": {},
   "outputs": [],
   "source": [
    "import semantique as sq\n",
    "from demo_factbase import Demo\n",
    "\n",
    "import geopandas as gpd\n",
    "import json"
   ]
  },
  {
   "cell_type": "code",
   "execution_count": 7,
   "id": "0ea6754d",
   "metadata": {},
   "outputs": [],
   "source": [
    "# Ontology.\n",
    "with open(\"files/ontology.json\", \"r\") as file:\n",
    "    ontology = sq.ontology.Semantique(json.load(file))\n",
    "\n",
    "# Factbase.\n",
    "with open(\"files/factbase.json\", \"r\") as file:\n",
    "    factbase = Demo(json.load(file), src = \"files/resources.zip\")\n",
    "\n",
    "# Extent.\n",
    "space = sq.SpatialExtent(gpd.read_file(\"files/footprint.geojson\"))\n",
    "time = sq.TemporalExtent(\"2019-01-01\", \"2020-12-31\")\n",
    "\n",
    "# Additional configuration.\n",
    "config = {\"output_crs\": 3035, \"output_tz\": \"UTC\", \"spatial_resolution\": [-10, 10]}"
   ]
  },
  {
   "cell_type": "markdown",
   "id": "c1179752",
   "metadata": {},
   "source": [
    "Some notes:\n",
    "\n",
    "- The demo factbase contains only a limited set of resources, which are the red, green, blue and nir bands from Sentinel 2 and the semantic enrichment layers color type (i.e. siam), greenness and brightness.\n",
    "- The demo factbase only has a limited spatial extent, equal to [footprint.geojson](https://github.com/ZGIS/semantique/blob/main/demo/files/footprint.geojson).\n",
    "- The demo factbase only has a limited amount of timestamps: 2019-12-15, 2020-09-05 and 2020-12-19,\n",
    "- The ontology contains rulesets for five entities: water, vegetation, builtup, cloud and snow."
   ]
  },
  {
   "cell_type": "markdown",
   "id": "7b63ebff",
   "metadata": {},
   "source": [
    "## Code\n",
    "\n",
    "Your turn now, happy coding!"
   ]
  },
  {
   "cell_type": "code",
   "execution_count": null,
   "id": "46d10e5e",
   "metadata": {},
   "outputs": [],
   "source": []
  }
 ],
 "metadata": {
  "kernelspec": {
   "display_name": "Python [conda env:semantique]",
   "language": "python",
   "name": "conda-env-semantique-py"
  },
  "language_info": {
   "codemirror_mode": {
    "name": "ipython",
    "version": 3
   },
   "file_extension": ".py",
   "mimetype": "text/x-python",
   "name": "python",
   "nbconvert_exporter": "python",
   "pygments_lexer": "ipython3",
   "version": "3.9.7"
  }
 },
 "nbformat": 4,
 "nbformat_minor": 5
}
